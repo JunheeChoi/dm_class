{
 "cells": [
  {
   "cell_type": "markdown",
   "id": "33d1c570",
   "metadata": {
    "pycharm": {
     "name": "#%% md\n"
    }
   },
   "source": [
    "# Datamining Class"
   ]
  },
  {
   "cell_type": "markdown",
   "id": "76c48f23",
   "metadata": {
    "pycharm": {
     "name": "#%% md\n"
    }
   },
   "source": [
    "# 차원 축소"
   ]
  },
  {
   "cell_type": "code",
   "execution_count": 34,
   "id": "1c7daab2",
   "metadata": {
    "pycharm": {
     "name": "#%%\n"
    }
   },
   "outputs": [],
   "source": [
    "import pandas as pd\n",
    "import numpy as np\n",
    "from sklearn.decomposition import PCA\n",
    "from sklearn import preprocessing\n",
    "import matplotlib.pylab as plt"
   ]
  },
  {
   "cell_type": "markdown",
   "id": "215193af",
   "metadata": {
    "pycharm": {
     "name": "#%% md\n"
    }
   },
   "source": [
    "## 데이터 요약과 차원 축소\n",
    "### 데이터 요약\n",
    "* 데이터 요약은 데이터 탐색의 중요한 구성 요소\n",
    "* 요약 통계(평균, 중앙값 등) 및 그래픽 요약\n",
    "* 일반적인 요약 통계\n",
    "- 평균, 중앙값, 최소값, 최댓값, 표준편차, 개수 및 백분율\n",
    "\n",
    "### 차원 축소\n",
    "* 고차원의 원본 데이터를 저차원의 부분 공간으로 투영하여 데이터를 축소하는 방법\n",
    "* 정확도의 희생을 최소로 하여 독립 변수 또는 입력 변수의 차원을 축소하는 방법을 찾는 것\n",
    "* 요인 선택 또는 특징 추출\n",
    "* 데이터의 정보를 더 작은 하위 집합으로 압축하는 데 유용\n",
    "* 유사한 범주를 결합하여 범주형 변수를 줄일 수 있음"
   ]
  },
  {
   "cell_type": "markdown",
   "id": "be14af08",
   "metadata": {
    "pycharm": {
     "name": "#%% md\n"
    }
   },
   "source": [
    "### 차원 축소 방법\n",
    "* 주어진 데이터에 도메인 지식을 적용해 범주를 제거하거나 결합하기\n",
    "* 데이터 요약을 사용해 변수 간 중복 정보를 검출하고 불필요한 변수 및 범주를 제거하거나 합치기\n",
    "* 데이터 변환 기술을 사용해 범주형 변수를 수치형 변수로 변환하기\n",
    "* 주성분 분석(PCA) 같은 자동화된 차원 축소 기술을 사용하기\n",
    "- 주성분 분석은 원래 수치 데이터셋을 더 적은 변수에 대부분의 원래 정보를 포함하는 원래 데이터의 더 작은 가중 셋으로 변환"
   ]
  },
  {
   "cell_type": "code",
   "execution_count": 35,
   "id": "a4580f15",
   "metadata": {
    "pycharm": {
     "name": "#%%\n"
    }
   },
   "outputs": [
    {
     "data": {
      "text/plain": "      CRIM    ZN  INDUS  CHAS    NOX     RM   AGE     DIS  RAD  TAX  PTRATIO  \\\n0  0.00632  18.0   2.31     0  0.538  6.575  65.2  4.0900    1  296     15.3   \n1  0.02731   0.0   7.07     0  0.469  6.421  78.9  4.9671    2  242     17.8   \n2  0.02729   0.0   7.07     0  0.469  7.185  61.1  4.9671    2  242     17.8   \n3  0.03237   0.0   2.18     0  0.458  6.998  45.8  6.0622    3  222     18.7   \n4  0.06905   0.0   2.18     0  0.458  7.147  54.2  6.0622    3  222     18.7   \n\n   LSTAT  MEDV  CAT_MEDV  \n0   4.98  24.0         0  \n1   9.14  21.6         0  \n2   4.03  34.7         1  \n3   2.94  33.4         1  \n4   5.33  36.2         1  ",
      "text/html": "<div>\n<style scoped>\n    .dataframe tbody tr th:only-of-type {\n        vertical-align: middle;\n    }\n\n    .dataframe tbody tr th {\n        vertical-align: top;\n    }\n\n    .dataframe thead th {\n        text-align: right;\n    }\n</style>\n<table border=\"1\" class=\"dataframe\">\n  <thead>\n    <tr style=\"text-align: right;\">\n      <th></th>\n      <th>CRIM</th>\n      <th>ZN</th>\n      <th>INDUS</th>\n      <th>CHAS</th>\n      <th>NOX</th>\n      <th>RM</th>\n      <th>AGE</th>\n      <th>DIS</th>\n      <th>RAD</th>\n      <th>TAX</th>\n      <th>PTRATIO</th>\n      <th>LSTAT</th>\n      <th>MEDV</th>\n      <th>CAT_MEDV</th>\n    </tr>\n  </thead>\n  <tbody>\n    <tr>\n      <th>0</th>\n      <td>0.00632</td>\n      <td>18.0</td>\n      <td>2.31</td>\n      <td>0</td>\n      <td>0.538</td>\n      <td>6.575</td>\n      <td>65.2</td>\n      <td>4.0900</td>\n      <td>1</td>\n      <td>296</td>\n      <td>15.3</td>\n      <td>4.98</td>\n      <td>24.0</td>\n      <td>0</td>\n    </tr>\n    <tr>\n      <th>1</th>\n      <td>0.02731</td>\n      <td>0.0</td>\n      <td>7.07</td>\n      <td>0</td>\n      <td>0.469</td>\n      <td>6.421</td>\n      <td>78.9</td>\n      <td>4.9671</td>\n      <td>2</td>\n      <td>242</td>\n      <td>17.8</td>\n      <td>9.14</td>\n      <td>21.6</td>\n      <td>0</td>\n    </tr>\n    <tr>\n      <th>2</th>\n      <td>0.02729</td>\n      <td>0.0</td>\n      <td>7.07</td>\n      <td>0</td>\n      <td>0.469</td>\n      <td>7.185</td>\n      <td>61.1</td>\n      <td>4.9671</td>\n      <td>2</td>\n      <td>242</td>\n      <td>17.8</td>\n      <td>4.03</td>\n      <td>34.7</td>\n      <td>1</td>\n    </tr>\n    <tr>\n      <th>3</th>\n      <td>0.03237</td>\n      <td>0.0</td>\n      <td>2.18</td>\n      <td>0</td>\n      <td>0.458</td>\n      <td>6.998</td>\n      <td>45.8</td>\n      <td>6.0622</td>\n      <td>3</td>\n      <td>222</td>\n      <td>18.7</td>\n      <td>2.94</td>\n      <td>33.4</td>\n      <td>1</td>\n    </tr>\n    <tr>\n      <th>4</th>\n      <td>0.06905</td>\n      <td>0.0</td>\n      <td>2.18</td>\n      <td>0</td>\n      <td>0.458</td>\n      <td>7.147</td>\n      <td>54.2</td>\n      <td>6.0622</td>\n      <td>3</td>\n      <td>222</td>\n      <td>18.7</td>\n      <td>5.33</td>\n      <td>36.2</td>\n      <td>1</td>\n    </tr>\n  </tbody>\n</table>\n</div>"
     },
     "execution_count": 35,
     "metadata": {},
     "output_type": "execute_result"
    }
   ],
   "source": [
    "boston_df = pd.read_csv('https://raw.githubusercontent.com/reisanar/datasets/master/BostonHousing.csv')\n",
    "boston_df = boston_df.rename(columns = {'CAT. MEDV': 'CAT_MEDV'})\n",
    "boston_df.head()"
   ]
  },
  {
   "cell_type": "code",
   "execution_count": 36,
   "id": "c9c65677",
   "metadata": {
    "pycharm": {
     "name": "#%%\n"
    }
   },
   "outputs": [
    {
     "data": {
      "text/plain": "             CRIM          ZN       INDUS        CHAS         NOX          RM  \\\ncount  506.000000  506.000000  506.000000  506.000000  506.000000  506.000000   \nmean     3.613524   11.363636   11.136779    0.069170    0.554695    6.284634   \nstd      8.601545   23.322453    6.860353    0.253994    0.115878    0.702617   \nmin      0.006320    0.000000    0.460000    0.000000    0.385000    3.561000   \n25%      0.082045    0.000000    5.190000    0.000000    0.449000    5.885500   \n50%      0.256510    0.000000    9.690000    0.000000    0.538000    6.208500   \n75%      3.677083   12.500000   18.100000    0.000000    0.624000    6.623500   \nmax     88.976200  100.000000   27.740000    1.000000    0.871000    8.780000   \n\n              AGE         DIS         RAD         TAX     PTRATIO       LSTAT  \\\ncount  506.000000  506.000000  506.000000  506.000000  506.000000  506.000000   \nmean    68.574901    3.795043    9.549407  408.237154   18.455534   12.653063   \nstd     28.148861    2.105710    8.707259  168.537116    2.164946    7.141062   \nmin      2.900000    1.129600    1.000000  187.000000   12.600000    1.730000   \n25%     45.025000    2.100175    4.000000  279.000000   17.400000    6.950000   \n50%     77.500000    3.207450    5.000000  330.000000   19.050000   11.360000   \n75%     94.075000    5.188425   24.000000  666.000000   20.200000   16.955000   \nmax    100.000000   12.126500   24.000000  711.000000   22.000000   37.970000   \n\n             MEDV    CAT_MEDV  \ncount  506.000000  506.000000  \nmean    22.532806    0.166008  \nstd      9.197104    0.372456  \nmin      5.000000    0.000000  \n25%     17.025000    0.000000  \n50%     21.200000    0.000000  \n75%     25.000000    0.000000  \nmax     50.000000    1.000000  ",
      "text/html": "<div>\n<style scoped>\n    .dataframe tbody tr th:only-of-type {\n        vertical-align: middle;\n    }\n\n    .dataframe tbody tr th {\n        vertical-align: top;\n    }\n\n    .dataframe thead th {\n        text-align: right;\n    }\n</style>\n<table border=\"1\" class=\"dataframe\">\n  <thead>\n    <tr style=\"text-align: right;\">\n      <th></th>\n      <th>CRIM</th>\n      <th>ZN</th>\n      <th>INDUS</th>\n      <th>CHAS</th>\n      <th>NOX</th>\n      <th>RM</th>\n      <th>AGE</th>\n      <th>DIS</th>\n      <th>RAD</th>\n      <th>TAX</th>\n      <th>PTRATIO</th>\n      <th>LSTAT</th>\n      <th>MEDV</th>\n      <th>CAT_MEDV</th>\n    </tr>\n  </thead>\n  <tbody>\n    <tr>\n      <th>count</th>\n      <td>506.000000</td>\n      <td>506.000000</td>\n      <td>506.000000</td>\n      <td>506.000000</td>\n      <td>506.000000</td>\n      <td>506.000000</td>\n      <td>506.000000</td>\n      <td>506.000000</td>\n      <td>506.000000</td>\n      <td>506.000000</td>\n      <td>506.000000</td>\n      <td>506.000000</td>\n      <td>506.000000</td>\n      <td>506.000000</td>\n    </tr>\n    <tr>\n      <th>mean</th>\n      <td>3.613524</td>\n      <td>11.363636</td>\n      <td>11.136779</td>\n      <td>0.069170</td>\n      <td>0.554695</td>\n      <td>6.284634</td>\n      <td>68.574901</td>\n      <td>3.795043</td>\n      <td>9.549407</td>\n      <td>408.237154</td>\n      <td>18.455534</td>\n      <td>12.653063</td>\n      <td>22.532806</td>\n      <td>0.166008</td>\n    </tr>\n    <tr>\n      <th>std</th>\n      <td>8.601545</td>\n      <td>23.322453</td>\n      <td>6.860353</td>\n      <td>0.253994</td>\n      <td>0.115878</td>\n      <td>0.702617</td>\n      <td>28.148861</td>\n      <td>2.105710</td>\n      <td>8.707259</td>\n      <td>168.537116</td>\n      <td>2.164946</td>\n      <td>7.141062</td>\n      <td>9.197104</td>\n      <td>0.372456</td>\n    </tr>\n    <tr>\n      <th>min</th>\n      <td>0.006320</td>\n      <td>0.000000</td>\n      <td>0.460000</td>\n      <td>0.000000</td>\n      <td>0.385000</td>\n      <td>3.561000</td>\n      <td>2.900000</td>\n      <td>1.129600</td>\n      <td>1.000000</td>\n      <td>187.000000</td>\n      <td>12.600000</td>\n      <td>1.730000</td>\n      <td>5.000000</td>\n      <td>0.000000</td>\n    </tr>\n    <tr>\n      <th>25%</th>\n      <td>0.082045</td>\n      <td>0.000000</td>\n      <td>5.190000</td>\n      <td>0.000000</td>\n      <td>0.449000</td>\n      <td>5.885500</td>\n      <td>45.025000</td>\n      <td>2.100175</td>\n      <td>4.000000</td>\n      <td>279.000000</td>\n      <td>17.400000</td>\n      <td>6.950000</td>\n      <td>17.025000</td>\n      <td>0.000000</td>\n    </tr>\n    <tr>\n      <th>50%</th>\n      <td>0.256510</td>\n      <td>0.000000</td>\n      <td>9.690000</td>\n      <td>0.000000</td>\n      <td>0.538000</td>\n      <td>6.208500</td>\n      <td>77.500000</td>\n      <td>3.207450</td>\n      <td>5.000000</td>\n      <td>330.000000</td>\n      <td>19.050000</td>\n      <td>11.360000</td>\n      <td>21.200000</td>\n      <td>0.000000</td>\n    </tr>\n    <tr>\n      <th>75%</th>\n      <td>3.677083</td>\n      <td>12.500000</td>\n      <td>18.100000</td>\n      <td>0.000000</td>\n      <td>0.624000</td>\n      <td>6.623500</td>\n      <td>94.075000</td>\n      <td>5.188425</td>\n      <td>24.000000</td>\n      <td>666.000000</td>\n      <td>20.200000</td>\n      <td>16.955000</td>\n      <td>25.000000</td>\n      <td>0.000000</td>\n    </tr>\n    <tr>\n      <th>max</th>\n      <td>88.976200</td>\n      <td>100.000000</td>\n      <td>27.740000</td>\n      <td>1.000000</td>\n      <td>0.871000</td>\n      <td>8.780000</td>\n      <td>100.000000</td>\n      <td>12.126500</td>\n      <td>24.000000</td>\n      <td>711.000000</td>\n      <td>22.000000</td>\n      <td>37.970000</td>\n      <td>50.000000</td>\n      <td>1.000000</td>\n    </tr>\n  </tbody>\n</table>\n</div>"
     },
     "execution_count": 36,
     "metadata": {},
     "output_type": "execute_result"
    }
   ],
   "source": [
    "boston_df.describe()"
   ]
  },
  {
   "cell_type": "code",
   "execution_count": 37,
   "id": "ad2030f2",
   "metadata": {
    "pycharm": {
     "name": "#%%\n"
    }
   },
   "outputs": [
    {
     "name": "stdout",
     "output_type": "stream",
     "text": [
      "Mean:  3.613523557312254\n",
      "Std. dev boston_df.CRIM.std()\n",
      "Min:  boston_df.CRIM.min()\n",
      "Max:  boston_df.CRIM.max()\n",
      "Median:  boston_df.CRIM.median()\n",
      "Length:  506 \n",
      "\n",
      "Number of missing Values :  0\n"
     ]
    }
   ],
   "source": [
    "print('Mean: ', boston_df.CRIM.mean())\n",
    "print('Std. dev', 'boston_df.CRIM.std()')\n",
    "print('Min: ', 'boston_df.CRIM.min()')\n",
    "print('Max: ', 'boston_df.CRIM.max()')\n",
    "print('Median: ', 'boston_df.CRIM.median()')\n",
    "print('Length: ', len(boston_df.CRIM),'\\n')\n",
    "\n",
    "print('Number of missing Values : ', boston_df.CRIM.isnull().sum())"
   ]
  },
  {
   "cell_type": "code",
   "execution_count": 38,
   "id": "26addd39",
   "metadata": {
    "pycharm": {
     "name": "#%%\n"
    }
   },
   "outputs": [
    {
     "data": {
      "text/plain": "                mean          sd        min       max     median  length  \\\nCRIM        3.613524    8.601545    0.00632   88.9762    0.25651     506   \nZN         11.363636   23.322453    0.00000  100.0000    0.00000     506   \nINDUS      11.136779    6.860353    0.46000   27.7400    9.69000     506   \nCHAS        0.069170    0.253994    0.00000    1.0000    0.00000     506   \nNOX         0.554695    0.115878    0.38500    0.8710    0.53800     506   \nRM          6.284634    0.702617    3.56100    8.7800    6.20850     506   \nAGE        68.574901   28.148861    2.90000  100.0000   77.50000     506   \nDIS         3.795043    2.105710    1.12960   12.1265    3.20745     506   \nRAD         9.549407    8.707259    1.00000   24.0000    5.00000     506   \nTAX       408.237154  168.537116  187.00000  711.0000  330.00000     506   \nPTRATIO    18.455534    2.164946   12.60000   22.0000   19.05000     506   \nLSTAT      12.653063    7.141062    1.73000   37.9700   11.36000     506   \nMEDV       22.532806    9.197104    5.00000   50.0000   21.20000     506   \nCAT_MEDV    0.166008    0.372456    0.00000    1.0000    0.00000     506   \n\n          miss.val  \nCRIM             0  \nZN               0  \nINDUS            0  \nCHAS             0  \nNOX              0  \nRM               0  \nAGE              0  \nDIS              0  \nRAD              0  \nTAX              0  \nPTRATIO          0  \nLSTAT            0  \nMEDV             0  \nCAT_MEDV         0  ",
      "text/html": "<div>\n<style scoped>\n    .dataframe tbody tr th:only-of-type {\n        vertical-align: middle;\n    }\n\n    .dataframe tbody tr th {\n        vertical-align: top;\n    }\n\n    .dataframe thead th {\n        text-align: right;\n    }\n</style>\n<table border=\"1\" class=\"dataframe\">\n  <thead>\n    <tr style=\"text-align: right;\">\n      <th></th>\n      <th>mean</th>\n      <th>sd</th>\n      <th>min</th>\n      <th>max</th>\n      <th>median</th>\n      <th>length</th>\n      <th>miss.val</th>\n    </tr>\n  </thead>\n  <tbody>\n    <tr>\n      <th>CRIM</th>\n      <td>3.613524</td>\n      <td>8.601545</td>\n      <td>0.00632</td>\n      <td>88.9762</td>\n      <td>0.25651</td>\n      <td>506</td>\n      <td>0</td>\n    </tr>\n    <tr>\n      <th>ZN</th>\n      <td>11.363636</td>\n      <td>23.322453</td>\n      <td>0.00000</td>\n      <td>100.0000</td>\n      <td>0.00000</td>\n      <td>506</td>\n      <td>0</td>\n    </tr>\n    <tr>\n      <th>INDUS</th>\n      <td>11.136779</td>\n      <td>6.860353</td>\n      <td>0.46000</td>\n      <td>27.7400</td>\n      <td>9.69000</td>\n      <td>506</td>\n      <td>0</td>\n    </tr>\n    <tr>\n      <th>CHAS</th>\n      <td>0.069170</td>\n      <td>0.253994</td>\n      <td>0.00000</td>\n      <td>1.0000</td>\n      <td>0.00000</td>\n      <td>506</td>\n      <td>0</td>\n    </tr>\n    <tr>\n      <th>NOX</th>\n      <td>0.554695</td>\n      <td>0.115878</td>\n      <td>0.38500</td>\n      <td>0.8710</td>\n      <td>0.53800</td>\n      <td>506</td>\n      <td>0</td>\n    </tr>\n    <tr>\n      <th>RM</th>\n      <td>6.284634</td>\n      <td>0.702617</td>\n      <td>3.56100</td>\n      <td>8.7800</td>\n      <td>6.20850</td>\n      <td>506</td>\n      <td>0</td>\n    </tr>\n    <tr>\n      <th>AGE</th>\n      <td>68.574901</td>\n      <td>28.148861</td>\n      <td>2.90000</td>\n      <td>100.0000</td>\n      <td>77.50000</td>\n      <td>506</td>\n      <td>0</td>\n    </tr>\n    <tr>\n      <th>DIS</th>\n      <td>3.795043</td>\n      <td>2.105710</td>\n      <td>1.12960</td>\n      <td>12.1265</td>\n      <td>3.20745</td>\n      <td>506</td>\n      <td>0</td>\n    </tr>\n    <tr>\n      <th>RAD</th>\n      <td>9.549407</td>\n      <td>8.707259</td>\n      <td>1.00000</td>\n      <td>24.0000</td>\n      <td>5.00000</td>\n      <td>506</td>\n      <td>0</td>\n    </tr>\n    <tr>\n      <th>TAX</th>\n      <td>408.237154</td>\n      <td>168.537116</td>\n      <td>187.00000</td>\n      <td>711.0000</td>\n      <td>330.00000</td>\n      <td>506</td>\n      <td>0</td>\n    </tr>\n    <tr>\n      <th>PTRATIO</th>\n      <td>18.455534</td>\n      <td>2.164946</td>\n      <td>12.60000</td>\n      <td>22.0000</td>\n      <td>19.05000</td>\n      <td>506</td>\n      <td>0</td>\n    </tr>\n    <tr>\n      <th>LSTAT</th>\n      <td>12.653063</td>\n      <td>7.141062</td>\n      <td>1.73000</td>\n      <td>37.9700</td>\n      <td>11.36000</td>\n      <td>506</td>\n      <td>0</td>\n    </tr>\n    <tr>\n      <th>MEDV</th>\n      <td>22.532806</td>\n      <td>9.197104</td>\n      <td>5.00000</td>\n      <td>50.0000</td>\n      <td>21.20000</td>\n      <td>506</td>\n      <td>0</td>\n    </tr>\n    <tr>\n      <th>CAT_MEDV</th>\n      <td>0.166008</td>\n      <td>0.372456</td>\n      <td>0.00000</td>\n      <td>1.0000</td>\n      <td>0.00000</td>\n      <td>506</td>\n      <td>0</td>\n    </tr>\n  </tbody>\n</table>\n</div>"
     },
     "execution_count": 38,
     "metadata": {},
     "output_type": "execute_result"
    }
   ],
   "source": [
    "# 요약 통계\n",
    "pd.DataFrame({'mean' : boston_df.mean(),\n",
    "              'sd': boston_df.std(),\n",
    "              'min': boston_df.min(),\n",
    "              'max': boston_df.max(),\n",
    "              'median': boston_df.median(),\n",
    "              'length': len(boston_df),\n",
    "              'miss.val': boston_df.isnull().sum()})"
   ]
  },
  {
   "cell_type": "code",
   "execution_count": 39,
   "id": "50a161c6",
   "metadata": {
    "pycharm": {
     "name": "#%%\n"
    }
   },
   "outputs": [
    {
     "data": {
      "text/plain": "           CRIM     ZN  INDUS   CHAS    NOX     RM    AGE    DIS    RAD  \\\nCRIM      1.000 -0.200  0.407 -0.056  0.421 -0.219  0.353 -0.380  0.626   \nZN       -0.200  1.000 -0.534 -0.043 -0.517  0.312 -0.570  0.664 -0.312   \nINDUS     0.407 -0.534  1.000  0.063  0.764 -0.392  0.645 -0.708  0.595   \nCHAS     -0.056 -0.043  0.063  1.000  0.091  0.091  0.087 -0.099 -0.007   \nNOX       0.421 -0.517  0.764  0.091  1.000 -0.302  0.731 -0.769  0.611   \nRM       -0.219  0.312 -0.392  0.091 -0.302  1.000 -0.240  0.205 -0.210   \nAGE       0.353 -0.570  0.645  0.087  0.731 -0.240  1.000 -0.748  0.456   \nDIS      -0.380  0.664 -0.708 -0.099 -0.769  0.205 -0.748  1.000 -0.495   \nRAD       0.626 -0.312  0.595 -0.007  0.611 -0.210  0.456 -0.495  1.000   \nTAX       0.583 -0.315  0.721 -0.036  0.668 -0.292  0.506 -0.534  0.910   \nPTRATIO   0.290 -0.392  0.383 -0.122  0.189 -0.356  0.262 -0.232  0.465   \nLSTAT     0.456 -0.413  0.604 -0.054  0.591 -0.614  0.602 -0.497  0.489   \nMEDV     -0.388  0.360 -0.484  0.175 -0.427  0.695 -0.377  0.250 -0.382   \nCAT_MEDV -0.152  0.365 -0.366  0.109 -0.233  0.641 -0.191  0.119 -0.198   \n\n            TAX  PTRATIO  LSTAT   MEDV  CAT_MEDV  \nCRIM      0.583    0.290  0.456 -0.388    -0.152  \nZN       -0.315   -0.392 -0.413  0.360     0.365  \nINDUS     0.721    0.383  0.604 -0.484    -0.366  \nCHAS     -0.036   -0.122 -0.054  0.175     0.109  \nNOX       0.668    0.189  0.591 -0.427    -0.233  \nRM       -0.292   -0.356 -0.614  0.695     0.641  \nAGE       0.506    0.262  0.602 -0.377    -0.191  \nDIS      -0.534   -0.232 -0.497  0.250     0.119  \nRAD       0.910    0.465  0.489 -0.382    -0.198  \nTAX       1.000    0.461  0.544 -0.469    -0.274  \nPTRATIO   0.461    1.000  0.374 -0.508    -0.443  \nLSTAT     0.544    0.374  1.000 -0.738    -0.470  \nMEDV     -0.469   -0.508 -0.738  1.000     0.790  \nCAT_MEDV -0.274   -0.443 -0.470  0.790     1.000  ",
      "text/html": "<div>\n<style scoped>\n    .dataframe tbody tr th:only-of-type {\n        vertical-align: middle;\n    }\n\n    .dataframe tbody tr th {\n        vertical-align: top;\n    }\n\n    .dataframe thead th {\n        text-align: right;\n    }\n</style>\n<table border=\"1\" class=\"dataframe\">\n  <thead>\n    <tr style=\"text-align: right;\">\n      <th></th>\n      <th>CRIM</th>\n      <th>ZN</th>\n      <th>INDUS</th>\n      <th>CHAS</th>\n      <th>NOX</th>\n      <th>RM</th>\n      <th>AGE</th>\n      <th>DIS</th>\n      <th>RAD</th>\n      <th>TAX</th>\n      <th>PTRATIO</th>\n      <th>LSTAT</th>\n      <th>MEDV</th>\n      <th>CAT_MEDV</th>\n    </tr>\n  </thead>\n  <tbody>\n    <tr>\n      <th>CRIM</th>\n      <td>1.000</td>\n      <td>-0.200</td>\n      <td>0.407</td>\n      <td>-0.056</td>\n      <td>0.421</td>\n      <td>-0.219</td>\n      <td>0.353</td>\n      <td>-0.380</td>\n      <td>0.626</td>\n      <td>0.583</td>\n      <td>0.290</td>\n      <td>0.456</td>\n      <td>-0.388</td>\n      <td>-0.152</td>\n    </tr>\n    <tr>\n      <th>ZN</th>\n      <td>-0.200</td>\n      <td>1.000</td>\n      <td>-0.534</td>\n      <td>-0.043</td>\n      <td>-0.517</td>\n      <td>0.312</td>\n      <td>-0.570</td>\n      <td>0.664</td>\n      <td>-0.312</td>\n      <td>-0.315</td>\n      <td>-0.392</td>\n      <td>-0.413</td>\n      <td>0.360</td>\n      <td>0.365</td>\n    </tr>\n    <tr>\n      <th>INDUS</th>\n      <td>0.407</td>\n      <td>-0.534</td>\n      <td>1.000</td>\n      <td>0.063</td>\n      <td>0.764</td>\n      <td>-0.392</td>\n      <td>0.645</td>\n      <td>-0.708</td>\n      <td>0.595</td>\n      <td>0.721</td>\n      <td>0.383</td>\n      <td>0.604</td>\n      <td>-0.484</td>\n      <td>-0.366</td>\n    </tr>\n    <tr>\n      <th>CHAS</th>\n      <td>-0.056</td>\n      <td>-0.043</td>\n      <td>0.063</td>\n      <td>1.000</td>\n      <td>0.091</td>\n      <td>0.091</td>\n      <td>0.087</td>\n      <td>-0.099</td>\n      <td>-0.007</td>\n      <td>-0.036</td>\n      <td>-0.122</td>\n      <td>-0.054</td>\n      <td>0.175</td>\n      <td>0.109</td>\n    </tr>\n    <tr>\n      <th>NOX</th>\n      <td>0.421</td>\n      <td>-0.517</td>\n      <td>0.764</td>\n      <td>0.091</td>\n      <td>1.000</td>\n      <td>-0.302</td>\n      <td>0.731</td>\n      <td>-0.769</td>\n      <td>0.611</td>\n      <td>0.668</td>\n      <td>0.189</td>\n      <td>0.591</td>\n      <td>-0.427</td>\n      <td>-0.233</td>\n    </tr>\n    <tr>\n      <th>RM</th>\n      <td>-0.219</td>\n      <td>0.312</td>\n      <td>-0.392</td>\n      <td>0.091</td>\n      <td>-0.302</td>\n      <td>1.000</td>\n      <td>-0.240</td>\n      <td>0.205</td>\n      <td>-0.210</td>\n      <td>-0.292</td>\n      <td>-0.356</td>\n      <td>-0.614</td>\n      <td>0.695</td>\n      <td>0.641</td>\n    </tr>\n    <tr>\n      <th>AGE</th>\n      <td>0.353</td>\n      <td>-0.570</td>\n      <td>0.645</td>\n      <td>0.087</td>\n      <td>0.731</td>\n      <td>-0.240</td>\n      <td>1.000</td>\n      <td>-0.748</td>\n      <td>0.456</td>\n      <td>0.506</td>\n      <td>0.262</td>\n      <td>0.602</td>\n      <td>-0.377</td>\n      <td>-0.191</td>\n    </tr>\n    <tr>\n      <th>DIS</th>\n      <td>-0.380</td>\n      <td>0.664</td>\n      <td>-0.708</td>\n      <td>-0.099</td>\n      <td>-0.769</td>\n      <td>0.205</td>\n      <td>-0.748</td>\n      <td>1.000</td>\n      <td>-0.495</td>\n      <td>-0.534</td>\n      <td>-0.232</td>\n      <td>-0.497</td>\n      <td>0.250</td>\n      <td>0.119</td>\n    </tr>\n    <tr>\n      <th>RAD</th>\n      <td>0.626</td>\n      <td>-0.312</td>\n      <td>0.595</td>\n      <td>-0.007</td>\n      <td>0.611</td>\n      <td>-0.210</td>\n      <td>0.456</td>\n      <td>-0.495</td>\n      <td>1.000</td>\n      <td>0.910</td>\n      <td>0.465</td>\n      <td>0.489</td>\n      <td>-0.382</td>\n      <td>-0.198</td>\n    </tr>\n    <tr>\n      <th>TAX</th>\n      <td>0.583</td>\n      <td>-0.315</td>\n      <td>0.721</td>\n      <td>-0.036</td>\n      <td>0.668</td>\n      <td>-0.292</td>\n      <td>0.506</td>\n      <td>-0.534</td>\n      <td>0.910</td>\n      <td>1.000</td>\n      <td>0.461</td>\n      <td>0.544</td>\n      <td>-0.469</td>\n      <td>-0.274</td>\n    </tr>\n    <tr>\n      <th>PTRATIO</th>\n      <td>0.290</td>\n      <td>-0.392</td>\n      <td>0.383</td>\n      <td>-0.122</td>\n      <td>0.189</td>\n      <td>-0.356</td>\n      <td>0.262</td>\n      <td>-0.232</td>\n      <td>0.465</td>\n      <td>0.461</td>\n      <td>1.000</td>\n      <td>0.374</td>\n      <td>-0.508</td>\n      <td>-0.443</td>\n    </tr>\n    <tr>\n      <th>LSTAT</th>\n      <td>0.456</td>\n      <td>-0.413</td>\n      <td>0.604</td>\n      <td>-0.054</td>\n      <td>0.591</td>\n      <td>-0.614</td>\n      <td>0.602</td>\n      <td>-0.497</td>\n      <td>0.489</td>\n      <td>0.544</td>\n      <td>0.374</td>\n      <td>1.000</td>\n      <td>-0.738</td>\n      <td>-0.470</td>\n    </tr>\n    <tr>\n      <th>MEDV</th>\n      <td>-0.388</td>\n      <td>0.360</td>\n      <td>-0.484</td>\n      <td>0.175</td>\n      <td>-0.427</td>\n      <td>0.695</td>\n      <td>-0.377</td>\n      <td>0.250</td>\n      <td>-0.382</td>\n      <td>-0.469</td>\n      <td>-0.508</td>\n      <td>-0.738</td>\n      <td>1.000</td>\n      <td>0.790</td>\n    </tr>\n    <tr>\n      <th>CAT_MEDV</th>\n      <td>-0.152</td>\n      <td>0.365</td>\n      <td>-0.366</td>\n      <td>0.109</td>\n      <td>-0.233</td>\n      <td>0.641</td>\n      <td>-0.191</td>\n      <td>0.119</td>\n      <td>-0.198</td>\n      <td>-0.274</td>\n      <td>-0.443</td>\n      <td>-0.470</td>\n      <td>0.790</td>\n      <td>1.000</td>\n    </tr>\n  </tbody>\n</table>\n</div>"
     },
     "execution_count": 39,
     "metadata": {},
     "output_type": "execute_result"
    }
   ],
   "source": [
    "boston_df.corr().round(3)"
   ]
  },
  {
   "cell_type": "code",
   "execution_count": 40,
   "id": "72c34360",
   "metadata": {
    "pycharm": {
     "name": "#%%\n"
    }
   },
   "outputs": [
    {
     "data": {
      "text/plain": "0    471\n1     35\nName: CHAS, dtype: int64"
     },
     "execution_count": 40,
     "metadata": {},
     "output_type": "execute_result"
    }
   ],
   "source": [
    "boston_df.CHAS.value_counts()\n",
    "# value_counts 변수 하나로 취합 가능\n",
    "# 35개 지역은 CHAS 값이 1 -> 찰스 강 경계에 인접"
   ]
  },
  {
   "cell_type": "code",
   "execution_count": 41,
   "id": "d64ce7b4",
   "metadata": {
    "pycharm": {
     "name": "#%%\n"
    }
   },
   "outputs": [
    {
     "data": {
      "text/plain": "      CRIM    ZN  INDUS  CHAS    NOX     RM   AGE     DIS  RAD  TAX  PTRATIO  \\\n0  0.00632  18.0   2.31     0  0.538  6.575  65.2  4.0900    1  296     15.3   \n1  0.02731   0.0   7.07     0  0.469  6.421  78.9  4.9671    2  242     17.8   \n2  0.02729   0.0   7.07     0  0.469  7.185  61.1  4.9671    2  242     17.8   \n3  0.03237   0.0   2.18     0  0.458  6.998  45.8  6.0622    3  222     18.7   \n4  0.06905   0.0   2.18     0  0.458  7.147  54.2  6.0622    3  222     18.7   \n\n   LSTAT  MEDV  CAT_MEDV  RM_bin  \n0   4.98  24.0         0       6  \n1   9.14  21.6         0       6  \n2   4.03  34.7         1       7  \n3   2.94  33.4         1       6  \n4   5.33  36.2         1       7  ",
      "text/html": "<div>\n<style scoped>\n    .dataframe tbody tr th:only-of-type {\n        vertical-align: middle;\n    }\n\n    .dataframe tbody tr th {\n        vertical-align: top;\n    }\n\n    .dataframe thead th {\n        text-align: right;\n    }\n</style>\n<table border=\"1\" class=\"dataframe\">\n  <thead>\n    <tr style=\"text-align: right;\">\n      <th></th>\n      <th>CRIM</th>\n      <th>ZN</th>\n      <th>INDUS</th>\n      <th>CHAS</th>\n      <th>NOX</th>\n      <th>RM</th>\n      <th>AGE</th>\n      <th>DIS</th>\n      <th>RAD</th>\n      <th>TAX</th>\n      <th>PTRATIO</th>\n      <th>LSTAT</th>\n      <th>MEDV</th>\n      <th>CAT_MEDV</th>\n      <th>RM_bin</th>\n    </tr>\n  </thead>\n  <tbody>\n    <tr>\n      <th>0</th>\n      <td>0.00632</td>\n      <td>18.0</td>\n      <td>2.31</td>\n      <td>0</td>\n      <td>0.538</td>\n      <td>6.575</td>\n      <td>65.2</td>\n      <td>4.0900</td>\n      <td>1</td>\n      <td>296</td>\n      <td>15.3</td>\n      <td>4.98</td>\n      <td>24.0</td>\n      <td>0</td>\n      <td>6</td>\n    </tr>\n    <tr>\n      <th>1</th>\n      <td>0.02731</td>\n      <td>0.0</td>\n      <td>7.07</td>\n      <td>0</td>\n      <td>0.469</td>\n      <td>6.421</td>\n      <td>78.9</td>\n      <td>4.9671</td>\n      <td>2</td>\n      <td>242</td>\n      <td>17.8</td>\n      <td>9.14</td>\n      <td>21.6</td>\n      <td>0</td>\n      <td>6</td>\n    </tr>\n    <tr>\n      <th>2</th>\n      <td>0.02729</td>\n      <td>0.0</td>\n      <td>7.07</td>\n      <td>0</td>\n      <td>0.469</td>\n      <td>7.185</td>\n      <td>61.1</td>\n      <td>4.9671</td>\n      <td>2</td>\n      <td>242</td>\n      <td>17.8</td>\n      <td>4.03</td>\n      <td>34.7</td>\n      <td>1</td>\n      <td>7</td>\n    </tr>\n    <tr>\n      <th>3</th>\n      <td>0.03237</td>\n      <td>0.0</td>\n      <td>2.18</td>\n      <td>0</td>\n      <td>0.458</td>\n      <td>6.998</td>\n      <td>45.8</td>\n      <td>6.0622</td>\n      <td>3</td>\n      <td>222</td>\n      <td>18.7</td>\n      <td>2.94</td>\n      <td>33.4</td>\n      <td>1</td>\n      <td>6</td>\n    </tr>\n    <tr>\n      <th>4</th>\n      <td>0.06905</td>\n      <td>0.0</td>\n      <td>2.18</td>\n      <td>0</td>\n      <td>0.458</td>\n      <td>7.147</td>\n      <td>54.2</td>\n      <td>6.0622</td>\n      <td>3</td>\n      <td>222</td>\n      <td>18.7</td>\n      <td>5.33</td>\n      <td>36.2</td>\n      <td>1</td>\n      <td>7</td>\n    </tr>\n  </tbody>\n</table>\n</div>"
     },
     "execution_count": 41,
     "metadata": {},
     "output_type": "execute_result"
    }
   ],
   "source": [
    "# pd.cut 메서드를 이용하여 변수에 대해 크기 1의 bin을 생성\n",
    "# 기본적으로 method는 변수형 변수를 생성\n",
    "# 인수 labes = False 는 대신 정수를 결정 예) 6\n",
    "# pd.cut(X, bins, labels), bins = [start, end] => (미포함, 포함)\n",
    "# bin 구간 대비 작거나 큰 수, if bin 첫 번째 구간보다 작으면 --> NaN, 마지막 구간보다 크면 --> NaN\n",
    "boston_df['RM_bin'] = pd.cut(boston_df.RM, range(0,10), labels = False)\n",
    "boston_df.head()"
   ]
  },
  {
   "cell_type": "code",
   "execution_count": 42,
   "id": "fa4d255f",
   "metadata": {
    "pycharm": {
     "name": "#%%\n"
    }
   },
   "outputs": [
    {
     "data": {
      "text/plain": "RM_bin  CHAS\n3       0       25.300000\n4       0       15.407143\n5       0       17.200000\n        1       22.218182\n6       0       21.769170\n        1       25.918750\n7       0       35.964444\n        1       44.066667\n8       0       45.700000\n        1       35.950000\nName: MEDV, dtype: float64"
     },
     "execution_count": 42,
     "metadata": {},
     "output_type": "execute_result"
    }
   ],
   "source": [
    "# 비닝된 RM 및 CHAS로 MEDV의 평균 계산\n",
    "# groupby 방법을 사용하여 데이터 프레임을 groupping한 다음 분석을 MEDV로 제한하고 각 그룹에 대한 평균 결정\n",
    "boston_df.groupby(['RM_bin', 'CHAS'])['MEDV'].mean()"
   ]
  },
  {
   "cell_type": "markdown",
   "id": "92e1f852",
   "metadata": {
    "pycharm": {
     "name": "#%% md\n"
    }
   },
   "source": [
    "## 상관 분석\n",
    "* 변수의 중복 탐지에 좋음\n",
    "* 상관 계수 표에 대한 히트맵을 사용해 강한 상관관계가 있는 변수들을 쉽게 식별 가능"
   ]
  },
  {
   "cell_type": "markdown",
   "id": "ef9d2307",
   "metadata": {
    "pycharm": {
     "name": "#%% md\n"
    }
   },
   "source": [
    "## 피벗 테이블"
   ]
  },
  {
   "cell_type": "code",
   "execution_count": 43,
   "id": "62c3337f",
   "metadata": {
    "pycharm": {
     "name": "#%%\n"
    }
   },
   "outputs": [
    {
     "data": {
      "text/plain": "CHAS            0          1        All\nRM_bin                                 \n3       25.300000        NaN  25.300000\n4       15.407143        NaN  15.407143\n5       17.200000  22.218182  17.551592\n6       21.769170  25.918750  22.015985\n7       35.964444  44.066667  36.917647\n8       45.700000  35.950000  44.200000\nAll     22.093843  28.440000  22.532806",
      "text/html": "<div>\n<style scoped>\n    .dataframe tbody tr th:only-of-type {\n        vertical-align: middle;\n    }\n\n    .dataframe tbody tr th {\n        vertical-align: top;\n    }\n\n    .dataframe thead th {\n        text-align: right;\n    }\n</style>\n<table border=\"1\" class=\"dataframe\">\n  <thead>\n    <tr style=\"text-align: right;\">\n      <th>CHAS</th>\n      <th>0</th>\n      <th>1</th>\n      <th>All</th>\n    </tr>\n    <tr>\n      <th>RM_bin</th>\n      <th></th>\n      <th></th>\n      <th></th>\n    </tr>\n  </thead>\n  <tbody>\n    <tr>\n      <th>3</th>\n      <td>25.300000</td>\n      <td>NaN</td>\n      <td>25.300000</td>\n    </tr>\n    <tr>\n      <th>4</th>\n      <td>15.407143</td>\n      <td>NaN</td>\n      <td>15.407143</td>\n    </tr>\n    <tr>\n      <th>5</th>\n      <td>17.200000</td>\n      <td>22.218182</td>\n      <td>17.551592</td>\n    </tr>\n    <tr>\n      <th>6</th>\n      <td>21.769170</td>\n      <td>25.918750</td>\n      <td>22.015985</td>\n    </tr>\n    <tr>\n      <th>7</th>\n      <td>35.964444</td>\n      <td>44.066667</td>\n      <td>36.917647</td>\n    </tr>\n    <tr>\n      <th>8</th>\n      <td>45.700000</td>\n      <td>35.950000</td>\n      <td>44.200000</td>\n    </tr>\n    <tr>\n      <th>All</th>\n      <td>22.093843</td>\n      <td>28.440000</td>\n      <td>22.532806</td>\n    </tr>\n  </tbody>\n</table>\n</div>"
     },
     "execution_count": 43,
     "metadata": {},
     "output_type": "execute_result"
    }
   ],
   "source": [
    "# pivot_table() 함수를 이용해 피벗 테이블 작성\n",
    "pd.pivot_table(boston_df, values = 'MEDV', index = ['RM_bin'], columns = ['CHAS'], aggfunc = np.mean, margins = True)"
   ]
  },
  {
   "cell_type": "code",
   "execution_count": 44,
   "id": "7b29037b",
   "metadata": {
    "pycharm": {
     "name": "#%%\n"
    }
   },
   "outputs": [],
   "source": [
    "# 찰스강과 접하지 않는 방이 8개인 지역은 medv = 45.7"
   ]
  },
  {
   "cell_type": "code",
   "execution_count": 45,
   "id": "63aae9ac",
   "metadata": {
    "pycharm": {
     "name": "#%%\n"
    }
   },
   "outputs": [
    {
     "name": "stdout",
     "output_type": "stream",
     "text": [
      "  Machine Country Grade  Price  Count\n",
      "0      TV   Korea     A   1000      3\n",
      "1      TV   Korea     B    800      8\n",
      "2      TV   Korea     B    800      2\n",
      "3      TV   Japan     A   1300      5\n",
      "4      TV   Japan     A   1300      1\n",
      "5      PC   Korea     B   1500      6\n",
      "6      PC   Korea     A   2000      9\n",
      "7      PC   Japan     A   3000      3\n",
      "8      PC   Japan     B   2500      3\n"
     ]
    }
   ],
   "source": [
    "col = ['Machine', 'Country','Grade', 'Price', 'Count']\n",
    "data = [['TV', 'Korea', 'A', 1000, 3], ['TV', 'Korea', 'B', 800,8], ['TV', 'Korea', 'B', 800,2], ['TV', 'Japan', 'A', 1300, 5], ['TV', 'Japan', 'A', 1300, 1], ['PC', 'Korea', 'B', 1500, 6], ['PC', 'Korea', 'A', 2000, 9], ['PC', 'Japan', 'A', 3000, 3], ['PC', 'Japan', 'B', 2500, 3]]\n",
    "df = pd.DataFrame(data = data, columns = col)\n",
    "print(df)"
   ]
  },
  {
   "cell_type": "code",
   "execution_count": 46,
   "id": "8bb98f8e",
   "metadata": {
    "pycharm": {
     "name": "#%%\n"
    }
   },
   "outputs": [
    {
     "data": {
      "text/plain": "Grade               A     B  All\nMachine Country                 \nPC      Japan     3.0   3.0    6\n        Korea     9.0   6.0   15\nTV      Japan     6.0   NaN    6\n        Korea     3.0  10.0   13\nAll              21.0  19.0   40",
      "text/html": "<div>\n<style scoped>\n    .dataframe tbody tr th:only-of-type {\n        vertical-align: middle;\n    }\n\n    .dataframe tbody tr th {\n        vertical-align: top;\n    }\n\n    .dataframe thead th {\n        text-align: right;\n    }\n</style>\n<table border=\"1\" class=\"dataframe\">\n  <thead>\n    <tr style=\"text-align: right;\">\n      <th></th>\n      <th>Grade</th>\n      <th>A</th>\n      <th>B</th>\n      <th>All</th>\n    </tr>\n    <tr>\n      <th>Machine</th>\n      <th>Country</th>\n      <th></th>\n      <th></th>\n      <th></th>\n    </tr>\n  </thead>\n  <tbody>\n    <tr>\n      <th rowspan=\"2\" valign=\"top\">PC</th>\n      <th>Japan</th>\n      <td>3.0</td>\n      <td>3.0</td>\n      <td>6</td>\n    </tr>\n    <tr>\n      <th>Korea</th>\n      <td>9.0</td>\n      <td>6.0</td>\n      <td>15</td>\n    </tr>\n    <tr>\n      <th rowspan=\"2\" valign=\"top\">TV</th>\n      <th>Japan</th>\n      <td>6.0</td>\n      <td>NaN</td>\n      <td>6</td>\n    </tr>\n    <tr>\n      <th>Korea</th>\n      <td>3.0</td>\n      <td>10.0</td>\n      <td>13</td>\n    </tr>\n    <tr>\n      <th>All</th>\n      <th></th>\n      <td>21.0</td>\n      <td>19.0</td>\n      <td>40</td>\n    </tr>\n  </tbody>\n</table>\n</div>"
     },
     "execution_count": 46,
     "metadata": {},
     "output_type": "execute_result"
    }
   ],
   "source": [
    "# index를 Machine, Country로 하고 columns를 Grade로 설정하고 Count값들을 np.sum으로 합계를 계산한 결과를 Pivot_table()를 사용하여 출력하라.\n",
    "pd.pivot_table(df, values = 'Count' ,index = ['Machine', 'Country'], columns=['Grade'], aggfunc = np.sum, margins = True)"
   ]
  },
  {
   "cell_type": "markdown",
   "id": "1a0a0ecb",
   "metadata": {
    "pycharm": {
     "name": "#%% md\n"
    }
   },
   "source": [
    "## 범주 축소\n",
    "### 교차 분석표(Crosstab)\n",
    "* pandas에서 범주형 데이터 2개를 비교 분석할 때 유용한 표"
   ]
  },
  {
   "cell_type": "code",
   "execution_count": 47,
   "id": "834d2a9e",
   "metadata": {
    "pycharm": {
     "name": "#%%\n"
    }
   },
   "outputs": [
    {
     "data": {
      "text/plain": "ZN        0.0    12.5   17.5   18.0   20.0   21.0   22.0   25.0   28.0   \\\nCAT_MEDV                                                                  \n0          0.91    1.0    0.0    1.0   0.24    1.0    0.9    1.0    1.0   \n1          0.09    0.0    1.0    0.0   0.76    0.0    0.1    0.0    0.0   \n\nZN        30.0   ...  55.0   60.0   70.0   75.0   80.0   82.5   85.0   90.0   \\\nCAT_MEDV         ...                                                           \n0           1.0  ...   0.67   0.75    1.0   0.33   0.67    0.5    1.0    0.0   \n1           0.0  ...   0.33   0.25    0.0   0.67   0.33    0.5    0.0    1.0   \n\nZN        95.0   100.0  \nCAT_MEDV                \n0           0.0    0.0  \n1           1.0    1.0  \n\n[2 rows x 26 columns]",
      "text/html": "<div>\n<style scoped>\n    .dataframe tbody tr th:only-of-type {\n        vertical-align: middle;\n    }\n\n    .dataframe tbody tr th {\n        vertical-align: top;\n    }\n\n    .dataframe thead th {\n        text-align: right;\n    }\n</style>\n<table border=\"1\" class=\"dataframe\">\n  <thead>\n    <tr style=\"text-align: right;\">\n      <th>ZN</th>\n      <th>0.0</th>\n      <th>12.5</th>\n      <th>17.5</th>\n      <th>18.0</th>\n      <th>20.0</th>\n      <th>21.0</th>\n      <th>22.0</th>\n      <th>25.0</th>\n      <th>28.0</th>\n      <th>30.0</th>\n      <th>...</th>\n      <th>55.0</th>\n      <th>60.0</th>\n      <th>70.0</th>\n      <th>75.0</th>\n      <th>80.0</th>\n      <th>82.5</th>\n      <th>85.0</th>\n      <th>90.0</th>\n      <th>95.0</th>\n      <th>100.0</th>\n    </tr>\n    <tr>\n      <th>CAT_MEDV</th>\n      <th></th>\n      <th></th>\n      <th></th>\n      <th></th>\n      <th></th>\n      <th></th>\n      <th></th>\n      <th></th>\n      <th></th>\n      <th></th>\n      <th></th>\n      <th></th>\n      <th></th>\n      <th></th>\n      <th></th>\n      <th></th>\n      <th></th>\n      <th></th>\n      <th></th>\n      <th></th>\n      <th></th>\n    </tr>\n  </thead>\n  <tbody>\n    <tr>\n      <th>0</th>\n      <td>0.91</td>\n      <td>1.0</td>\n      <td>0.0</td>\n      <td>1.0</td>\n      <td>0.24</td>\n      <td>1.0</td>\n      <td>0.9</td>\n      <td>1.0</td>\n      <td>1.0</td>\n      <td>1.0</td>\n      <td>...</td>\n      <td>0.67</td>\n      <td>0.75</td>\n      <td>1.0</td>\n      <td>0.33</td>\n      <td>0.67</td>\n      <td>0.5</td>\n      <td>1.0</td>\n      <td>0.0</td>\n      <td>0.0</td>\n      <td>0.0</td>\n    </tr>\n    <tr>\n      <th>1</th>\n      <td>0.09</td>\n      <td>0.0</td>\n      <td>1.0</td>\n      <td>0.0</td>\n      <td>0.76</td>\n      <td>0.0</td>\n      <td>0.1</td>\n      <td>0.0</td>\n      <td>0.0</td>\n      <td>0.0</td>\n      <td>...</td>\n      <td>0.33</td>\n      <td>0.25</td>\n      <td>0.0</td>\n      <td>0.67</td>\n      <td>0.33</td>\n      <td>0.5</td>\n      <td>0.0</td>\n      <td>1.0</td>\n      <td>1.0</td>\n      <td>1.0</td>\n    </tr>\n  </tbody>\n</table>\n<p>2 rows × 26 columns</p>\n</div>"
     },
     "execution_count": 47,
     "metadata": {},
     "output_type": "execute_result"
    }
   ],
   "source": [
    "# Crosstab :\n",
    "# pd.crosstab(index, columns, values = None, rownames = None, colnames = None, aggfunc = None, margins = False, margins_name = 'ALL', dropna = True, normalize = None)\n",
    "# index (행으로 그룹화할 값), columns (열로 그룹화할 값)은 필수 입력\n",
    "# 두 변수의 교차 표 작성을 위해 pd.crosstab메소드를 사용\n",
    "tbl = pd.crosstab(boston_df.CAT_MEDV, boston_df.ZN)\n",
    "propTbl = tbl/tbl.sum()\n",
    "propTbl.round(2)"
   ]
  },
  {
   "cell_type": "code",
   "execution_count": 48,
   "id": "e8844d6f",
   "metadata": {
    "pycharm": {
     "name": "#%%\n"
    }
   },
   "outputs": [
    {
     "name": "stderr",
     "output_type": "stream",
     "text": [
      "C:\\Users\\User\\AppData\\Local\\Temp\\ipykernel_4864\\4007499202.py:3: UserWarning: FixedFormatter should only be used together with FixedLocator\n",
      "  ax.set_yticklabels(['{:,.0%}'.format(x) for x in ax.get_yticks()])\n"
     ]
    },
    {
     "data": {
      "text/plain": "<Figure size 640x480 with 1 Axes>",
      "image/png": "[encoded data removed]"
     },
     "metadata": {},
     "output_type": "display_data"
    }
   ],
   "source": [
    "# 누적 막대 차트에서 비율을 플로팅\n",
    "ax = propTbl.plot(kind = 'bar', stacked = True, width = 0.9)\n",
    "ax.set_yticklabels(['{:,.0%}'.format(x) for x in ax.get_yticks()])\n",
    "plt.title('Distribution of CAT.MEDV by ZN')\n",
    "plt.legend(loc = 'center left', bbox_to_anchor = (1, 0.5))\n",
    "plt.tight_layout()\n",
    "plt.show()\n",
    "# x축, y축 설정이 거꾸로 되어 있다"
   ]
  },
  {
   "cell_type": "code",
   "execution_count": 49,
   "id": "d9be0a79",
   "metadata": {
    "pycharm": {
     "name": "#%%\n"
    }
   },
   "outputs": [
    {
     "name": "stderr",
     "output_type": "stream",
     "text": [
      "C:\\Users\\User\\AppData\\Local\\Temp\\ipykernel_4864\\4246108893.py:2: UserWarning: FixedFormatter should only be used together with FixedLocator\n",
      "  ax.set_yticklabels(['{:,.0%}'.format(x) for x in ax.get_yticks()])\n"
     ]
    },
    {
     "data": {
      "text/plain": "<Figure size 640x480 with 1 Axes>",
      "image/png": "[encoded data removed]"
     },
     "metadata": {},
     "output_type": "display_data"
    }
   ],
   "source": [
    "ax = propTbl.transpose().plot(kind = 'bar', stacked = True, width = 0.9)\n",
    "ax.set_yticklabels(['{:,.0%}'.format(x) for x in ax.get_yticks()])\n",
    "plt.title('Distribution of CAT.MEDV by ZN')\n",
    "plt.legend(loc = 'center left', bbox_to_anchor = (1, 0.5))\n",
    "plt.tight_layout()\n",
    "plt.show()"
   ]
  },
  {
   "cell_type": "markdown",
   "id": "f6e09019",
   "metadata": {
    "pycharm": {
     "name": "#%% md\n"
    }
   },
   "source": [
    "## 주성분 분석(PCA)\n",
    "* 원 데이터의 분포를 최대한 보존하면서 고차원 공간의 데이터들을 저차원 공간으로 변환하는 기법\n",
    "* 독립 변수 간 선형 결합을 통해 주성분을 만들어 변수의 수를 줄이는 비지도학습 방법론. 주성분 분석은 차원 감소, 영상 인식, 노이즈 제거 등에 활용\n",
    "* 서로 상관관계를 갖는 설명 변수들의 선형 결합을 이용해 상호 독립적인 주성분(principal components)이라는 인공 변수를 만들기 위한 분석 방법\n",
    "* 주성분 분석은 복잡한 다차원 데이터를 저차원으로 변환해 더 쉽게 이해할 수 있도록 변환. 따라서 parameter의 수가 더 많을 때의 차원 축소에 유용\n",
    "* -> 각 주성분은 주어진 설명 변수의 정보를 최대한 반영하는 것을 목적으로 함"
   ]
  },
  {
   "cell_type": "code",
   "execution_count": 50,
   "id": "8d1ecf05",
   "metadata": {
    "pycharm": {
     "name": "#%%\n"
    }
   },
   "outputs": [
    {
     "data": {
      "text/plain": "                        name mfr type  calories  protein  fat  sodium  fiber  \\\n0                  100%_Bran   N    C        70        4    1     130   10.0   \n1          100%_Natural_Bran   Q    C       120        3    5      15    2.0   \n2                   All-Bran   K    C        70        4    1     260    9.0   \n3  All-Bran_with_Extra_Fiber   K    C        50        4    0     140   14.0   \n4             Almond_Delight   R    C       110        2    2     200    1.0   \n\n   carbo  sugars  potass  vitamins  shelf  weight  cups     rating  \n0    5.0     6.0   280.0        25      3     1.0  0.33  68.402973  \n1    8.0     8.0   135.0         0      3     1.0  1.00  33.983679  \n2    7.0     5.0   320.0        25      3     1.0  0.33  59.425505  \n3    8.0     0.0   330.0        25      3     1.0  0.50  93.704912  \n4   14.0     8.0     NaN        25      3     1.0  0.75  34.384843  ",
      "text/html": "<div>\n<style scoped>\n    .dataframe tbody tr th:only-of-type {\n        vertical-align: middle;\n    }\n\n    .dataframe tbody tr th {\n        vertical-align: top;\n    }\n\n    .dataframe thead th {\n        text-align: right;\n    }\n</style>\n<table border=\"1\" class=\"dataframe\">\n  <thead>\n    <tr style=\"text-align: right;\">\n      <th></th>\n      <th>name</th>\n      <th>mfr</th>\n      <th>type</th>\n      <th>calories</th>\n      <th>protein</th>\n      <th>fat</th>\n      <th>sodium</th>\n      <th>fiber</th>\n      <th>carbo</th>\n      <th>sugars</th>\n      <th>potass</th>\n      <th>vitamins</th>\n      <th>shelf</th>\n      <th>weight</th>\n      <th>cups</th>\n      <th>rating</th>\n    </tr>\n  </thead>\n  <tbody>\n    <tr>\n      <th>0</th>\n      <td>100%_Bran</td>\n      <td>N</td>\n      <td>C</td>\n      <td>70</td>\n      <td>4</td>\n      <td>1</td>\n      <td>130</td>\n      <td>10.0</td>\n      <td>5.0</td>\n      <td>6.0</td>\n      <td>280.0</td>\n      <td>25</td>\n      <td>3</td>\n      <td>1.0</td>\n      <td>0.33</td>\n      <td>68.402973</td>\n    </tr>\n    <tr>\n      <th>1</th>\n      <td>100%_Natural_Bran</td>\n      <td>Q</td>\n      <td>C</td>\n      <td>120</td>\n      <td>3</td>\n      <td>5</td>\n      <td>15</td>\n      <td>2.0</td>\n      <td>8.0</td>\n      <td>8.0</td>\n      <td>135.0</td>\n      <td>0</td>\n      <td>3</td>\n      <td>1.0</td>\n      <td>1.00</td>\n      <td>33.983679</td>\n    </tr>\n    <tr>\n      <th>2</th>\n      <td>All-Bran</td>\n      <td>K</td>\n      <td>C</td>\n      <td>70</td>\n      <td>4</td>\n      <td>1</td>\n      <td>260</td>\n      <td>9.0</td>\n      <td>7.0</td>\n      <td>5.0</td>\n      <td>320.0</td>\n      <td>25</td>\n      <td>3</td>\n      <td>1.0</td>\n      <td>0.33</td>\n      <td>59.425505</td>\n    </tr>\n    <tr>\n      <th>3</th>\n      <td>All-Bran_with_Extra_Fiber</td>\n      <td>K</td>\n      <td>C</td>\n      <td>50</td>\n      <td>4</td>\n      <td>0</td>\n      <td>140</td>\n      <td>14.0</td>\n      <td>8.0</td>\n      <td>0.0</td>\n      <td>330.0</td>\n      <td>25</td>\n      <td>3</td>\n      <td>1.0</td>\n      <td>0.50</td>\n      <td>93.704912</td>\n    </tr>\n    <tr>\n      <th>4</th>\n      <td>Almond_Delight</td>\n      <td>R</td>\n      <td>C</td>\n      <td>110</td>\n      <td>2</td>\n      <td>2</td>\n      <td>200</td>\n      <td>1.0</td>\n      <td>14.0</td>\n      <td>8.0</td>\n      <td>NaN</td>\n      <td>25</td>\n      <td>3</td>\n      <td>1.0</td>\n      <td>0.75</td>\n      <td>34.384843</td>\n    </tr>\n  </tbody>\n</table>\n</div>"
     },
     "execution_count": 50,
     "metadata": {},
     "output_type": "execute_result"
    }
   ],
   "source": [
    "import pandas as pd\n",
    "import numpy as np\n",
    "from sklearn.decomposition import PCA\n",
    "from sklearn.preprocessing import StandardScaler\n",
    "import matplotlib.pyplot as plt\n",
    "\n",
    "cereals_df = pd.read_csv('https://raw.githubusercontent.com/reisanar/datasets/master/Cereals.csv')\n",
    "cereals_df.head()"
   ]
  },
  {
   "cell_type": "code",
   "execution_count": 51,
   "id": "e30ff2c9",
   "metadata": {
    "pycharm": {
     "name": "#%%\n"
    }
   },
   "outputs": [
    {
     "data": {
      "text/plain": "PCA(n_components=2)",
      "text/html": "<style>#sk-container-id-2 {color: black;background-color: white;}#sk-container-id-2 pre{padding: 0;}#sk-container-id-2 div.sk-toggleable {background-color: white;}#sk-container-id-2 label.sk-toggleable__label {cursor: pointer;display: block;width: 100%;margin-bottom: 0;padding: 0.3em;box-sizing: border-box;text-align: center;}#sk-container-id-2 label.sk-toggleable__label-arrow:before {content: \"▸\";float: left;margin-right: 0.25em;color: #696969;}#sk-container-id-2 label.sk-toggleable__label-arrow:hover:before {color: black;}#sk-container-id-2 div.sk-estimator:hover label.sk-toggleable__label-arrow:before {color: black;}#sk-container-id-2 div.sk-toggleable__content {max-height: 0;max-width: 0;overflow: hidden;text-align: left;background-color: #f0f8ff;}#sk-container-id-2 div.sk-toggleable__content pre {margin: 0.2em;color: black;border-radius: 0.25em;background-color: #f0f8ff;}#sk-container-id-2 input.sk-toggleable__control:checked~div.sk-toggleable__content {max-height: 200px;max-width: 100%;overflow: auto;}#sk-container-id-2 input.sk-toggleable__control:checked~label.sk-toggleable__label-arrow:before {content: \"▾\";}#sk-container-id-2 div.sk-estimator input.sk-toggleable__control:checked~label.sk-toggleable__label {background-color: #d4ebff;}#sk-container-id-2 div.sk-label input.sk-toggleable__control:checked~label.sk-toggleable__label {background-color: #d4ebff;}#sk-container-id-2 input.sk-hidden--visually {border: 0;clip: rect(1px 1px 1px 1px);clip: rect(1px, 1px, 1px, 1px);height: 1px;margin: -1px;overflow: hidden;padding: 0;position: absolute;width: 1px;}#sk-container-id-2 div.sk-estimator {font-family: monospace;background-color: #f0f8ff;border: 1px dotted black;border-radius: 0.25em;box-sizing: border-box;margin-bottom: 0.5em;}#sk-container-id-2 div.sk-estimator:hover {background-color: #d4ebff;}#sk-container-id-2 div.sk-parallel-item::after {content: \"\";width: 100%;border-bottom: 1px solid gray;flex-grow: 1;}#sk-container-id-2 div.sk-label:hover label.sk-toggleable__label {background-color: #d4ebff;}#sk-container-id-2 div.sk-serial::before {content: \"\";position: absolute;border-left: 1px solid gray;box-sizing: border-box;top: 0;bottom: 0;left: 50%;z-index: 0;}#sk-container-id-2 div.sk-serial {display: flex;flex-direction: column;align-items: center;background-color: white;padding-right: 0.2em;padding-left: 0.2em;position: relative;}#sk-container-id-2 div.sk-item {position: relative;z-index: 1;}#sk-container-id-2 div.sk-parallel {display: flex;align-items: stretch;justify-content: center;background-color: white;position: relative;}#sk-container-id-2 div.sk-item::before, #sk-container-id-2 div.sk-parallel-item::before {content: \"\";position: absolute;border-left: 1px solid gray;box-sizing: border-box;top: 0;bottom: 0;left: 50%;z-index: -1;}#sk-container-id-2 div.sk-parallel-item {display: flex;flex-direction: column;z-index: 1;position: relative;background-color: white;}#sk-container-id-2 div.sk-parallel-item:first-child::after {align-self: flex-end;width: 50%;}#sk-container-id-2 div.sk-parallel-item:last-child::after {align-self: flex-start;width: 50%;}#sk-container-id-2 div.sk-parallel-item:only-child::after {width: 0;}#sk-container-id-2 div.sk-dashed-wrapped {border: 1px dashed gray;margin: 0 0.4em 0.5em 0.4em;box-sizing: border-box;padding-bottom: 0.4em;background-color: white;}#sk-container-id-2 div.sk-label label {font-family: monospace;font-weight: bold;display: inline-block;line-height: 1.2em;}#sk-container-id-2 div.sk-label-container {text-align: center;}#sk-container-id-2 div.sk-container {/* jupyter's `normalize.less` sets `[hidden] { display: none; }` but bootstrap.min.css set `[hidden] { display: none !important; }` so we also need the `!important` here to be able to override the default hidden behavior on the sphinx rendered scikit-learn.org. See: https://github.com/scikit-learn/scikit-learn/issues/21755 */display: inline-block !important;position: relative;}#sk-container-id-2 div.sk-text-repr-fallback {display: none;}</style><div id=\"sk-container-id-2\" class=\"sk-top-container\"><div class=\"sk-text-repr-fallback\"><pre>PCA(n_components=2)</pre><b>In a Jupyter environment, please rerun this cell to show the HTML representation or trust the notebook. <br />On GitHub, the HTML representation is unable to render, please try loading this page with nbviewer.org.</b></div><div class=\"sk-container\" hidden><div class=\"sk-item\"><div class=\"sk-estimator sk-toggleable\"><input class=\"sk-toggleable__control sk-hidden--visually\" id=\"sk-estimator-id-2\" type=\"checkbox\" checked><label for=\"sk-estimator-id-2\" class=\"sk-toggleable__label sk-toggleable__label-arrow\">PCA</label><div class=\"sk-toggleable__content\"><pre>PCA(n_components=2)</pre></div></div></div></div></div>"
     },
     "execution_count": 51,
     "metadata": {},
     "output_type": "execute_result"
    }
   ],
   "source": [
    "pcs = PCA(n_components=2)\n",
    "pcs.fit(cereals_df[['calories', 'rating']])"
   ]
  },
  {
   "cell_type": "code",
   "execution_count": 52,
   "id": "694122e1",
   "metadata": {
    "pycharm": {
     "name": "#%%\n"
    }
   },
   "outputs": [
    {
     "data": {
      "text/plain": "     Standard deviation  Proportion of variance  Cumulative proportion\nPC1             22.3165                  0.8632                 0.8632\nPC2              8.8844                  0.1368                 1.0000",
      "text/html": "<div>\n<style scoped>\n    .dataframe tbody tr th:only-of-type {\n        vertical-align: middle;\n    }\n\n    .dataframe tbody tr th {\n        vertical-align: top;\n    }\n\n    .dataframe thead th {\n        text-align: right;\n    }\n</style>\n<table border=\"1\" class=\"dataframe\">\n  <thead>\n    <tr style=\"text-align: right;\">\n      <th></th>\n      <th>Standard deviation</th>\n      <th>Proportion of variance</th>\n      <th>Cumulative proportion</th>\n    </tr>\n  </thead>\n  <tbody>\n    <tr>\n      <th>PC1</th>\n      <td>22.3165</td>\n      <td>0.8632</td>\n      <td>0.8632</td>\n    </tr>\n    <tr>\n      <th>PC2</th>\n      <td>8.8844</td>\n      <td>0.1368</td>\n      <td>1.0000</td>\n    </tr>\n  </tbody>\n</table>\n</div>"
     },
     "execution_count": 52,
     "metadata": {},
     "output_type": "execute_result"
    }
   ],
   "source": [
    "# 구성 요소의 중요성은 설명된 분산을 사용하여 평가할 수 있음\n",
    "pcsSummary = pd.DataFrame({'Standard deviation': np.sqrt(pcs.explained_variance_),\n",
    "                           'Proportion of variance': pcs.explained_variance_ratio_,\n",
    "                           'Cumulative proportion': np.cumsum(pcs.explained_variance_ratio_)})\n",
    "pcsSummary\n",
    "pcsSummary.index = ['PC1', 'PC2']\n",
    "pcsSummary.round(4)"
   ]
  },
  {
   "cell_type": "code",
   "execution_count": 53,
   "id": "f4eee39f",
   "metadata": {
    "pycharm": {
     "name": "#%%\n"
    }
   },
   "outputs": [
    {
     "data": {
      "text/plain": "                            PC1     PC2\nStandard deviation      22.3165  8.8844\nProportion of variance   0.8632  0.1368\nCumulative proportion    0.8632  1.0000",
      "text/html": "<div>\n<style scoped>\n    .dataframe tbody tr th:only-of-type {\n        vertical-align: middle;\n    }\n\n    .dataframe tbody tr th {\n        vertical-align: top;\n    }\n\n    .dataframe thead th {\n        text-align: right;\n    }\n</style>\n<table border=\"1\" class=\"dataframe\">\n  <thead>\n    <tr style=\"text-align: right;\">\n      <th></th>\n      <th>PC1</th>\n      <th>PC2</th>\n    </tr>\n  </thead>\n  <tbody>\n    <tr>\n      <th>Standard deviation</th>\n      <td>22.3165</td>\n      <td>8.8844</td>\n    </tr>\n    <tr>\n      <th>Proportion of variance</th>\n      <td>0.8632</td>\n      <td>0.1368</td>\n    </tr>\n    <tr>\n      <th>Cumulative proportion</th>\n      <td>0.8632</td>\n      <td>1.0000</td>\n    </tr>\n  </tbody>\n</table>\n</div>"
     },
     "execution_count": 53,
     "metadata": {},
     "output_type": "execute_result"
    }
   ],
   "source": [
    "# 구성 요소의 중요성은 설명된 분산을 사용하여 평가할 수 있음\n",
    "pcsSummary = pd.DataFrame({'Standard deviation': np.sqrt(pcs.explained_variance_),\n",
    "                           'Proportion of variance': pcs.explained_variance_ratio_,\n",
    "                           'Cumulative proportion': np.cumsum(pcs.explained_variance_ratio_)})\n",
    "pcsSummary = pcsSummary.transpose()\n",
    "pcsSummary.columns = ['PC1', 'PC2']\n",
    "pcsSummary.round(4)"
   ]
  },
  {
   "cell_type": "code",
   "execution_count": 54,
   "id": "e4dec078",
   "metadata": {
    "pycharm": {
     "name": "#%%\n"
    }
   },
   "outputs": [
    {
     "data": {
      "text/plain": "               PC1       PC2\ncalories -0.847053  0.531508\nrating    0.531508  0.847053",
      "text/html": "<div>\n<style scoped>\n    .dataframe tbody tr th:only-of-type {\n        vertical-align: middle;\n    }\n\n    .dataframe tbody tr th {\n        vertical-align: top;\n    }\n\n    .dataframe thead th {\n        text-align: right;\n    }\n</style>\n<table border=\"1\" class=\"dataframe\">\n  <thead>\n    <tr style=\"text-align: right;\">\n      <th></th>\n      <th>PC1</th>\n      <th>PC2</th>\n    </tr>\n  </thead>\n  <tbody>\n    <tr>\n      <th>calories</th>\n      <td>-0.847053</td>\n      <td>0.531508</td>\n    </tr>\n    <tr>\n      <th>rating</th>\n      <td>0.531508</td>\n      <td>0.847053</td>\n    </tr>\n  </tbody>\n</table>\n</div>"
     },
     "execution_count": 54,
     "metadata": {},
     "output_type": "execute_result"
    }
   ],
   "source": [
    "# pcs의 components_ 필드는 개별 구성 요소를 제공함\n",
    "# 이 행렬의 열은 주성분 PC1, PC2로 정의할 수 있음. 행은 입력 행렬. 칼로리 및 등급에서 찾은 변수\n",
    "pcsComponents_df = pd.DataFrame(pcs.components_.transpose(), columns = ['PC1', 'PC2'],\n",
    "                                index = ['calories', 'rating'])\n",
    "pcsComponents_df"
   ]
  },
  {
   "cell_type": "code",
   "execution_count": 55,
   "id": "3332c9d3",
   "metadata": {
    "pycharm": {
     "name": "#%%\n"
    }
   },
   "outputs": [
    {
     "data": {
      "text/plain": "         PC1        PC2\n0  44.921528   2.197183\n1 -15.725265  -0.382416\n2  40.149935  -5.407212\n3  75.310772  12.999126\n4  -7.041508  -5.357686",
      "text/html": "<div>\n<style scoped>\n    .dataframe tbody tr th:only-of-type {\n        vertical-align: middle;\n    }\n\n    .dataframe tbody tr th {\n        vertical-align: top;\n    }\n\n    .dataframe thead th {\n        text-align: right;\n    }\n</style>\n<table border=\"1\" class=\"dataframe\">\n  <thead>\n    <tr style=\"text-align: right;\">\n      <th></th>\n      <th>PC1</th>\n      <th>PC2</th>\n    </tr>\n  </thead>\n  <tbody>\n    <tr>\n      <th>0</th>\n      <td>44.921528</td>\n      <td>2.197183</td>\n    </tr>\n    <tr>\n      <th>1</th>\n      <td>-15.725265</td>\n      <td>-0.382416</td>\n    </tr>\n    <tr>\n      <th>2</th>\n      <td>40.149935</td>\n      <td>-5.407212</td>\n    </tr>\n    <tr>\n      <th>3</th>\n      <td>75.310772</td>\n      <td>12.999126</td>\n    </tr>\n    <tr>\n      <th>4</th>\n      <td>-7.041508</td>\n      <td>-5.357686</td>\n    </tr>\n  </tbody>\n</table>\n</div>"
     },
     "execution_count": 55,
     "metadata": {},
     "output_type": "execute_result"
    }
   ],
   "source": [
    "# Transform 방법을 사용하여 점수를 얻음\n",
    "scores = pd.DataFrame(pcs.transform(cereals_df[['calories', 'rating']]),\n",
    "                      columns = ['PC1', 'PC2'])\n",
    "scores.head()"
   ]
  },
  {
   "cell_type": "code",
   "execution_count": 56,
   "id": "ee1586fd",
   "metadata": {
    "pycharm": {
     "name": "#%%\n"
    }
   },
   "outputs": [
    {
     "data": {
      "text/plain": "<Figure size 640x480 with 1 Axes>",
      "image/png": "[encoded data removed]"
     },
     "metadata": {},
     "output_type": "display_data"
    }
   ],
   "source": [
    "# Plot the scatterplot with principal component axes\n",
    "fig, ax = plt.subplots()\n",
    "ax.scatter(scores.PC1, scores.PC2)\n",
    "ax.set_xlabel('PC1')\n",
    "ax.set_ylabel('PC2')\n",
    "ax.set_title('Scatterplot of Calories and Ratings with 2 Principal Components Directions')\n",
    "\n",
    "# Add the original variables as arrows\n",
    "for i, var in enumerate(pcs.components_.transpose()):\n",
    "    ax.arrow(0,0,var[0]*max(scores.PC1), var[1]*max(scores.PC2), head_width = 0.05, head_length = 0.1, linewidth=2, color = 'red')\n",
    "    if i == 0:\n",
    "        ax.text(var[0]*max(scores.PC1)*1.2, var[1]*max(scores.PC2)*1.2,\n",
    "                'Calories', color = 'red', ha = 'center', va = 'center', fontsize = 12)\n",
    "    elif i == 1:\n",
    "        ax.text(var[0]*max(scores.PC1)*1.2, var[1]*max(scores.PC2)*1.2,\n",
    "                'Ratings', color = 'red', ha = 'center', va = 'center', fontsize = 12)\n",
    "plt.show()\n"
   ]
  },
  {
   "cell_type": "code",
   "execution_count": 57,
   "id": "0ded2544",
   "metadata": {
    "pycharm": {
     "name": "#%%\n"
    }
   },
   "outputs": [
    {
     "data": {
      "text/plain": "                            PC1      PC2      PC3      PC4     PC5     PC6  \\\nStandard deviation      83.7641  70.9143  22.6437  19.1815  8.4232  2.0917   \nProportion of variance   0.5395   0.3867   0.0394   0.0283  0.0055  0.0003   \nCumulative proportion    0.5395   0.9262   0.9656   0.9939  0.9993  0.9997   \n\n                           PC7     PC8     PC9    PC10    PC11   PC12  PC13  \nStandard deviation      1.6994  0.7796  0.6578  0.3704  0.1864  0.063   0.0  \nProportion of variance  0.0002  0.0000  0.0000  0.0000  0.0000  0.000   0.0  \nCumulative proportion   0.9999  1.0000  1.0000  1.0000  1.0000  1.000   1.0  ",
      "text/html": "<div>\n<style scoped>\n    .dataframe tbody tr th:only-of-type {\n        vertical-align: middle;\n    }\n\n    .dataframe tbody tr th {\n        vertical-align: top;\n    }\n\n    .dataframe thead th {\n        text-align: right;\n    }\n</style>\n<table border=\"1\" class=\"dataframe\">\n  <thead>\n    <tr style=\"text-align: right;\">\n      <th></th>\n      <th>PC1</th>\n      <th>PC2</th>\n      <th>PC3</th>\n      <th>PC4</th>\n      <th>PC5</th>\n      <th>PC6</th>\n      <th>PC7</th>\n      <th>PC8</th>\n      <th>PC9</th>\n      <th>PC10</th>\n      <th>PC11</th>\n      <th>PC12</th>\n      <th>PC13</th>\n    </tr>\n  </thead>\n  <tbody>\n    <tr>\n      <th>Standard deviation</th>\n      <td>83.7641</td>\n      <td>70.9143</td>\n      <td>22.6437</td>\n      <td>19.1815</td>\n      <td>8.4232</td>\n      <td>2.0917</td>\n      <td>1.6994</td>\n      <td>0.7796</td>\n      <td>0.6578</td>\n      <td>0.3704</td>\n      <td>0.1864</td>\n      <td>0.063</td>\n      <td>0.0</td>\n    </tr>\n    <tr>\n      <th>Proportion of variance</th>\n      <td>0.5395</td>\n      <td>0.3867</td>\n      <td>0.0394</td>\n      <td>0.0283</td>\n      <td>0.0055</td>\n      <td>0.0003</td>\n      <td>0.0002</td>\n      <td>0.0000</td>\n      <td>0.0000</td>\n      <td>0.0000</td>\n      <td>0.0000</td>\n      <td>0.000</td>\n      <td>0.0</td>\n    </tr>\n    <tr>\n      <th>Cumulative proportion</th>\n      <td>0.5395</td>\n      <td>0.9262</td>\n      <td>0.9656</td>\n      <td>0.9939</td>\n      <td>0.9993</td>\n      <td>0.9997</td>\n      <td>0.9999</td>\n      <td>1.0000</td>\n      <td>1.0000</td>\n      <td>1.0000</td>\n      <td>1.0000</td>\n      <td>1.000</td>\n      <td>1.0</td>\n    </tr>\n  </tbody>\n</table>\n</div>"
     },
     "execution_count": 57,
     "metadata": {},
     "output_type": "execute_result"
    }
   ],
   "source": [
    "# 처음 두 개(이름 및 mtr)을 제외한 시리얼_df 데이터프레임의 모든 열에서 PCA 수행\n",
    "# 누락된 값이 있는 행 모두 삭제\n",
    "# 3단계에서와 같이 PCA 결과 요약을 작성하되 목록 이해 및 문자열 형식을 사용하여 열 이름을 'PC1', 'PC2' 등으로 지정\n",
    "# 데이터 프레임을 소수점 이하 4자리로 반올림\n",
    "pcs = PCA()\n",
    "pcs.fit(cereals_df.iloc[:,3:].dropna(axis = 0))\n",
    "pcsSummary_df = pd.DataFrame({'Standard deviation': np.sqrt(pcs.explained_variance_),\n",
    "                              'Proportion of variance': pcs.explained_variance_ratio_,\n",
    "                              'Cumulative proportion': np.cumsum(pcs.explained_variance_ratio_)})\n",
    "pcsSummary_df = pcsSummary_df.transpose()\n",
    "pcsSummary_df.columns = ['PC{}'.format(i) for i in range(1, len(pcsSummary_df.columns)+1)]\n",
    "pcsSummary_df.round(4)"
   ]
  },
  {
   "cell_type": "code",
   "execution_count": 57,
   "id": "2886fb97",
   "metadata": {
    "pycharm": {
     "name": "#%%\n"
    }
   },
   "outputs": [],
   "source": []
  },
  {
   "cell_type": "code",
   "execution_count": 57,
   "id": "a01d6502",
   "metadata": {
    "pycharm": {
     "name": "#%%\n"
    }
   },
   "outputs": [],
   "source": []
  },
  {
   "cell_type": "code",
   "execution_count": 57,
   "id": "b30cbbdd",
   "metadata": {
    "pycharm": {
     "name": "#%%\n"
    }
   },
   "outputs": [],
   "source": []
  },
  {
   "cell_type": "markdown",
   "id": "6dd9cb7a",
   "metadata": {
    "pycharm": {
     "name": "#%% md\n"
    }
   },
   "source": [
    "## 성능 평가"
   ]
  },
  {
   "cell_type": "code",
   "execution_count": 58,
   "id": "384a9c29",
   "metadata": {
    "pycharm": {
     "name": "#%%\n"
    }
   },
   "outputs": [
    {
     "name": "stdout",
     "output_type": "stream",
     "text": [
      "Requirement already satisfied: dmba in c:\\users\\user\\.conda\\envs\\condapractice\\lib\\site-packages (0.1.0)\n"
     ]
    },
    {
     "name": "stderr",
     "output_type": "stream",
     "text": [
      "WARNING: Ignoring invalid distribution -ip (c:\\users\\user\\.conda\\envs\\condapractice\\lib\\site-packages)\n",
      "WARNING: Ignoring invalid distribution -illow (c:\\users\\user\\.conda\\envs\\condapractice\\lib\\site-packages)\n",
      "WARNING: Ignoring invalid distribution -ip (c:\\users\\user\\.conda\\envs\\condapractice\\lib\\site-packages)\n",
      "WARNING: Ignoring invalid distribution -illow (c:\\users\\user\\.conda\\envs\\condapractice\\lib\\site-packages)\n",
      "WARNING: Ignoring invalid distribution -ip (c:\\users\\user\\.conda\\envs\\condapractice\\lib\\site-packages)\n",
      "WARNING: Ignoring invalid distribution -illow (c:\\users\\user\\.conda\\envs\\condapractice\\lib\\site-packages)\n",
      "WARNING: Ignoring invalid distribution -ip (c:\\users\\user\\.conda\\envs\\condapractice\\lib\\site-packages)\n",
      "WARNING: Ignoring invalid distribution -illow (c:\\users\\user\\.conda\\envs\\condapractice\\lib\\site-packages)\n",
      "WARNING: Ignoring invalid distribution -ip (c:\\users\\user\\.conda\\envs\\condapractice\\lib\\site-packages)\n",
      "WARNING: Ignoring invalid distribution -illow (c:\\users\\user\\.conda\\envs\\condapractice\\lib\\site-packages)\n",
      "WARNING: Ignoring invalid distribution -ip (c:\\users\\user\\.conda\\envs\\condapractice\\lib\\site-packages)\n",
      "WARNING: Ignoring invalid distribution -illow (c:\\users\\user\\.conda\\envs\\condapractice\\lib\\site-packages)\n"
     ]
    }
   ],
   "source": [
    "import math\n",
    "import pandas as pd\n",
    "from sklearn.model_selection import train_test_split\n",
    "from sklearn.linear_model import LinearRegression\n",
    "from sklearn.metrics import accuracy_score, roc_curve, auc\n",
    "import matplotlib.pylab as plt\n",
    "!pip install dmba\n",
    "from dmba import regressionSummary, classificationSummary\n",
    "from dmba import liftChart, gainsChart"
   ]
  },
  {
   "cell_type": "markdown",
   "id": "cb70d75b",
   "metadata": {
    "pycharm": {
     "name": "#%% md\n"
    }
   },
   "source": [
    "### 예측 성능 평가\n",
    "* 검증 데이터를 기반으로 모든 케이스에 대해 예측 정확도를 평가해 학습 데이터보다 좀 더 객관적인 근거 제공\n",
    "\n",
    "### 지도 학습에서 관심 결과\n",
    "* 수치 값 : 결과 변수가 수치형일 때(주택 가격)\n",
    "* 클래스 소속도 : 결과 변수가 범주형일 때(구매자/비구매자)\n",
    "* 경향 : 결과 변수가 범주형일 떄(채무 불이행 경향) 클래스 소속도의 확률"
   ]
  },
  {
   "cell_type": "markdown",
   "id": "14346ad7",
   "metadata": {
    "pycharm": {
     "name": "#%% md\n"
    }
   },
   "source": [
    "### 예측 정확성 판단 척도\n",
    "* MAE(평균 절대 오차/편차) = 평균 절대 오차의 규모\n",
    "* 평균 오차 = = 오차의 부호를 유지한다는 점을 제외하면 MAE와 유사해, 음의 오차가 동일한 규모의 양의 오차를 상쇄한다. 따라서 이 값은 예측이 평균적으로 결과 변수의 예측을 넘어서는지 미달되는지를 나타낸다.\n",
    "* MPE(평균 백분율 오차) = 방향을 고려해 예측이 실제값에서 평균적으로 얼마나 벗어나는지에 대한 백분율 점수를 알려준다.\n",
    "* MAPE(평균 절대 백분율 오차) = 실제값에서 평균적으로 얼마나 벗어나는지에 대한 백분율 점수를 알려준다.\n",
    "* RMSE(근의 평균 제곱 오차) = 학습 데이터 대신 검증 데이터로 계산된 것만 빼면 선형 회귀 분석에서 추정값의 표준 오차와 유사하다. 결과 변수와 단위가 같다."
   ]
  },
  {
   "cell_type": "markdown",
   "id": "00a981f5",
   "metadata": {
    "pycharm": {
     "name": "#%% md\n"
    }
   },
   "source": [
    "### 모델의 정확성 척도"
   ]
  },
  {
   "cell_type": "code",
   "execution_count": 59,
   "id": "335f617a",
   "metadata": {
    "pycharm": {
     "name": "#%%\n"
    }
   },
   "outputs": [
    {
     "data": {
      "text/plain": "                                           model  price  age_08_04  mfg_month  \\\n0  TOYOTA Corolla 2.0 D4D HATCHB TERRA 2/3-Doors  13500         23         10   \n1  TOYOTA Corolla 2.0 D4D HATCHB TERRA 2/3-Doors  13750         23         10   \n2  TOYOTA Corolla 2.0 D4D HATCHB TERRA 2/3-Doors  13950         24          9   \n3  TOYOTA Corolla 2.0 D4D HATCHB TERRA 2/3-Doors  14950         26          7   \n4    TOYOTA Corolla 2.0 D4D HATCHB SOL 2/3-Doors  13750         30          3   \n\n   mfg_year     km fuel_type  hp  met_color   color  ...  powered_windows  \\\n0      2002  46986    Diesel  90          1    Blue  ...                1   \n1      2002  72937    Diesel  90          1  Silver  ...                0   \n2      2002  41711    Diesel  90          1    Blue  ...                0   \n3      2002  48000    Diesel  90          0   Black  ...                0   \n4      2002  38500    Diesel  90          0   Black  ...                1   \n\n   power_steering  radio  mistlamps  sport_model  backseat_divider  \\\n0               1      0          0            0                 1   \n1               1      0          0            0                 1   \n2               1      0          0            0                 1   \n3               1      0          0            0                 1   \n4               1      0          1            0                 1   \n\n   metallic_rim  radio_cassette  parking_assistant  tow_bar  \n0             0               0                  0        0  \n1             0               0                  0        0  \n2             0               0                  0        0  \n3             0               0                  0        0  \n4             0               0                  0        0  \n\n[5 rows x 38 columns]",
      "text/html": "<div>\n<style scoped>\n    .dataframe tbody tr th:only-of-type {\n        vertical-align: middle;\n    }\n\n    .dataframe tbody tr th {\n        vertical-align: top;\n    }\n\n    .dataframe thead th {\n        text-align: right;\n    }\n</style>\n<table border=\"1\" class=\"dataframe\">\n  <thead>\n    <tr style=\"text-align: right;\">\n      <th></th>\n      <th>model</th>\n      <th>price</th>\n      <th>age_08_04</th>\n      <th>mfg_month</th>\n      <th>mfg_year</th>\n      <th>km</th>\n      <th>fuel_type</th>\n      <th>hp</th>\n      <th>met_color</th>\n      <th>color</th>\n      <th>...</th>\n      <th>powered_windows</th>\n      <th>power_steering</th>\n      <th>radio</th>\n      <th>mistlamps</th>\n      <th>sport_model</th>\n      <th>backseat_divider</th>\n      <th>metallic_rim</th>\n      <th>radio_cassette</th>\n      <th>parking_assistant</th>\n      <th>tow_bar</th>\n    </tr>\n  </thead>\n  <tbody>\n    <tr>\n      <th>0</th>\n      <td>TOYOTA Corolla 2.0 D4D HATCHB TERRA 2/3-Doors</td>\n      <td>13500</td>\n      <td>23</td>\n      <td>10</td>\n      <td>2002</td>\n      <td>46986</td>\n      <td>Diesel</td>\n      <td>90</td>\n      <td>1</td>\n      <td>Blue</td>\n      <td>...</td>\n      <td>1</td>\n      <td>1</td>\n      <td>0</td>\n      <td>0</td>\n      <td>0</td>\n      <td>1</td>\n      <td>0</td>\n      <td>0</td>\n      <td>0</td>\n      <td>0</td>\n    </tr>\n    <tr>\n      <th>1</th>\n      <td>TOYOTA Corolla 2.0 D4D HATCHB TERRA 2/3-Doors</td>\n      <td>13750</td>\n      <td>23</td>\n      <td>10</td>\n      <td>2002</td>\n      <td>72937</td>\n      <td>Diesel</td>\n      <td>90</td>\n      <td>1</td>\n      <td>Silver</td>\n      <td>...</td>\n      <td>0</td>\n      <td>1</td>\n      <td>0</td>\n      <td>0</td>\n      <td>0</td>\n      <td>1</td>\n      <td>0</td>\n      <td>0</td>\n      <td>0</td>\n      <td>0</td>\n    </tr>\n    <tr>\n      <th>2</th>\n      <td>TOYOTA Corolla 2.0 D4D HATCHB TERRA 2/3-Doors</td>\n      <td>13950</td>\n      <td>24</td>\n      <td>9</td>\n      <td>2002</td>\n      <td>41711</td>\n      <td>Diesel</td>\n      <td>90</td>\n      <td>1</td>\n      <td>Blue</td>\n      <td>...</td>\n      <td>0</td>\n      <td>1</td>\n      <td>0</td>\n      <td>0</td>\n      <td>0</td>\n      <td>1</td>\n      <td>0</td>\n      <td>0</td>\n      <td>0</td>\n      <td>0</td>\n    </tr>\n    <tr>\n      <th>3</th>\n      <td>TOYOTA Corolla 2.0 D4D HATCHB TERRA 2/3-Doors</td>\n      <td>14950</td>\n      <td>26</td>\n      <td>7</td>\n      <td>2002</td>\n      <td>48000</td>\n      <td>Diesel</td>\n      <td>90</td>\n      <td>0</td>\n      <td>Black</td>\n      <td>...</td>\n      <td>0</td>\n      <td>1</td>\n      <td>0</td>\n      <td>0</td>\n      <td>0</td>\n      <td>1</td>\n      <td>0</td>\n      <td>0</td>\n      <td>0</td>\n      <td>0</td>\n    </tr>\n    <tr>\n      <th>4</th>\n      <td>TOYOTA Corolla 2.0 D4D HATCHB SOL 2/3-Doors</td>\n      <td>13750</td>\n      <td>30</td>\n      <td>3</td>\n      <td>2002</td>\n      <td>38500</td>\n      <td>Diesel</td>\n      <td>90</td>\n      <td>0</td>\n      <td>Black</td>\n      <td>...</td>\n      <td>1</td>\n      <td>1</td>\n      <td>0</td>\n      <td>1</td>\n      <td>0</td>\n      <td>1</td>\n      <td>0</td>\n      <td>0</td>\n      <td>0</td>\n      <td>0</td>\n    </tr>\n  </tbody>\n</table>\n<p>5 rows × 38 columns</p>\n</div>"
     },
     "execution_count": 59,
     "metadata": {},
     "output_type": "execute_result"
    }
   ],
   "source": [
    "# 도요타 자동차 가격에 대한 모델의 예측 오차 척도. 학습과 검증\n",
    "# 정확한 척도를 위한 파이썬 코드\n",
    "\n",
    "# 데이터 프레임을 로드하고 회귀 분석을 위해 열을 선택\n",
    "car_df = pd.read_csv('https://raw.githubusercontent.com/reisanar/datasets/master/ToyotaCorolla.csv')\n",
    "car_df.head()"
   ]
  },
  {
   "cell_type": "code",
   "execution_count": 60,
   "id": "4a17c2c5",
   "metadata": {
    "pycharm": {
     "name": "#%%\n"
    }
   },
   "outputs": [],
   "source": [
    "# 출력 변수와 텍스트 열을 제거하여 예측 변수 목록을 만듦\n",
    "excludeColumns = ('price', 'id', 'model', 'fuel_type', 'color')\n",
    "predictors = [s for s in car_df.columns if s not in excludeColumns]\n",
    "outcome = 'price'\n",
    "\n",
    "# 데이터 분할\n",
    "X = car_df[predictors]\n",
    "y = car_df[outcome]\n"
   ]
  },
  {
   "cell_type": "markdown",
   "id": "cc775057",
   "metadata": {
    "pycharm": {
     "name": "#%% md\n"
    }
   },
   "source": [
    "### 학습과 검증 성능의 비교\n",
    "* 학습 데이터셋에서 오차는 모델이 얼마나 잘 적합되었는지 알려줌\n",
    "* 반면, 검증 데이터셋에서 오차(예측 오차)는 모델이 새로운 데이터를 예측하는 성능(예측 성능)을 측정\n",
    "* 모델은 학습 데이터셋을 사용해 적합되었기 때무에 학습 오차가 검증 오차보다 작고, 복잡한 모델일수록 학습 데이터에 과적합될 가능성이 더 큼"
   ]
  },
  {
   "cell_type": "code",
   "execution_count": 61,
   "id": "0d552a65",
   "metadata": {
    "pycharm": {
     "name": "#%%\n"
    }
   },
   "outputs": [],
   "source": [
    "# 학습 데이터 셋과 검증 데이터 셋에 대한 도요타 가격 예측 오차의 히스토그램과 박스 플롯"
   ]
  },
  {
   "cell_type": "markdown",
   "id": "4b56c4ec",
   "metadata": {
    "pycharm": {
     "name": "#%% md\n"
    }
   },
   "source": [
    "### 누적 이득과 리프트 차트\n",
    "* 모델의 예측 성능을 예측 변수들을 사용하지 않는 기준 모델과 비교\n",
    "* 새로운 레코드에서 단지 누적 예측 값이 가장 큰 레코드들의 부분집합을 찾을 때 예측 성능을 시각적으로 측정하는 방법\n",
    "* 예측값이 높은 값부터 낮은 값으로 정렬된 관심 레코드드의 실제 값들을 누적시키고 누적된 레코드의 수(x-축 값)에 대한 함수로 y-축에 그 누적 값(=이득)을 그리는 것이 누적 이득 차트(곡선)\n",
    "* 누적 이득 차트가 벤치마크대각선에서 멀리 떨어질수록 모델이 높은 결과 값의 레코드들과 낮은 결과 값의 레코드들을 더 잘 분리함\n",
    "* 같은 정보가 십분위 리프트 차트에서도 나올 수 있는데, 이 차트는 정렬된 레코드들을 10개의 십분위로 그룹화하고 각 십분위에 대해 나이브 벤치마크 이득에 대하 모델의 이득 비(리프트라고 불림)를 보여줌"
   ]
  },
  {
   "cell_type": "markdown",
   "id": "4f7c252d",
   "metadata": {
    "pycharm": {
     "name": "#%% md\n"
    }
   },
   "source": [
    "### 분류기 성능의 판단\n",
    "#### 나이브 규칙\n",
    "* 예측 변수가 가지는 모든 정보(x1, x2, ... xp)를 무시하고 주어진 레코드를 m개 클래스 중 하나로 분류하는 규칙\n",
    "* 해당 레코드를 다수 클래스의 멤버로 분류\n",
    "* 종종 벤치마크로 사용됨\n",
    "* 분류를 위한 나이브 규칙은 추가적인 예측 변수 정보는 배제하고 y정보에만 의존\n",
    "\n",
    "#### 클래스 분리\n",
    "* 클래스들이 예측 변수 정보로 잘 분리? -> 작은 데이터셋으로도 충분히 좋은 분류기\n",
    "* 고수준 분리는 예측 변수를 사용해 오류가 낮음을 의미\n",
    "* 저수준 분리는 나이브 규칙서 크게 개선되지 않음을 의미\n",
    "\n",
    "#### 정오 행렬(Confusion matrix)\n",
    "* 특정 데이터셋에 대해 산출하는 정확한 분류와 부정확한 분류를 요약\n",
    "* 정오 행렬의 행과 열을 각각 예측 클래스와 진(실제)클래스에 대응"
   ]
  },
  {
   "cell_type": "code",
   "execution_count": 61,
   "id": "43e708b6",
   "metadata": {
    "pycharm": {
     "name": "#%%\n"
    }
   },
   "outputs": [],
   "source": []
  },
  {
   "cell_type": "code",
   "execution_count": 62,
   "outputs": [],
   "source": [
    "# 06 선형회귀"
   ],
   "metadata": {
    "collapsed": false,
    "pycharm": {
     "name": "#%%\n"
    }
   }
  },
  {
   "cell_type": "markdown",
   "source": [
    "## 다중 선형 회귀\n",
    "* 예측 변수와 종속 변수 관계 다음으로 가정"
   ],
   "metadata": {
    "collapsed": false,
    "pycharm": {
     "name": "#%% md\n"
    }
   }
  },
  {
   "cell_type": "markdown",
   "source": [
    "## 회귀를 사용한 설명 모델과 예측 모델의 모델링\n",
    "### 회귀 모델 적합 목적\n",
    "* 출력에 대한 입력의 평균 효과에 대한 설명 또는 정량화(각각, 설명적 혹은 기술적 작업)\n",
    "* 주어진 입력 값을 활용하여 새 레코드의 결과 값 예측(예측 작업)\n",
    "\n",
    "### 설명 모델\n",
    "* 데이터를 가장 잘 적합시키는 모델\n",
    "* 모집단에 가정된 관계에 대한 정보가 최대한 반영된 최적의 적합 모델을 추정하기 이해서 전체 데이터셋 사용\n",
    "* 성능 측정은 데이터가 모델에 얼마나 잘 적합하는지(즉, 모델이 데이터의 실제 값과 얼마나 비슷한 값을 주는지)와 평균 관계가 얼마나 강한지를 측정\n",
    "* 회귀 계수에 초점\n",
    "\n",
    "### 예측 모델\n",
    "* 새로운 사례를 정학하게 예측하는 모델\n",
    "* 예측 모델에서는 데이터를 일반적으로 학습 데이터셋과 검증 데이터셋으로 나눔* 성능 측정은 예측의 정확도(즉, 모델이 새로운 사례를 얼마나 잘 예측하는지)를 측정\n",
    "* 예측에 초점을 둠"
   ],
   "metadata": {
    "collapsed": false,
    "pycharm": {
     "name": "#%% md\n"
    }
   }
  },
  {
   "cell_type": "markdown",
   "source": [
    "## 회귀식의 추정과 예측\n",
    "### 입력 값이 x1, x2, ... , xp인 레코드의 출력 변수 값 예측\n",
    "* 노이즈(오차)는 표준 정규 분포를 따른다\n",
    "* 선택된 예측 변수가 적절하고 선형성을 따른다\n",
    "* 각 관측치들이 서로 독립적이다\n",
    "* 각 예측 변수에 대한 Y값의 변동성은 예측 변수 값에 상관없이 동일하다(등분산성)"
   ],
   "metadata": {
    "collapsed": false,
    "pycharm": {
     "name": "#%% md\n"
    }
   }
  },
  {
   "cell_type": "code",
   "execution_count": 63,
   "outputs": [
    {
     "name": "stdout",
     "output_type": "stream",
     "text": [
      "Requirement already satisfied: dmba in c:\\users\\user\\.conda\\envs\\condapractice\\lib\\site-packages (0.1.0)\n"
     ]
    },
    {
     "name": "stderr",
     "output_type": "stream",
     "text": [
      "WARNING: Ignoring invalid distribution -ip (c:\\users\\user\\.conda\\envs\\condapractice\\lib\\site-packages)\n",
      "WARNING: Ignoring invalid distribution -illow (c:\\users\\user\\.conda\\envs\\condapractice\\lib\\site-packages)\n",
      "WARNING: Ignoring invalid distribution -ip (c:\\users\\user\\.conda\\envs\\condapractice\\lib\\site-packages)\n",
      "WARNING: Ignoring invalid distribution -illow (c:\\users\\user\\.conda\\envs\\condapractice\\lib\\site-packages)\n",
      "WARNING: Ignoring invalid distribution -ip (c:\\users\\user\\.conda\\envs\\condapractice\\lib\\site-packages)\n",
      "WARNING: Ignoring invalid distribution -illow (c:\\users\\user\\.conda\\envs\\condapractice\\lib\\site-packages)\n",
      "WARNING: Ignoring invalid distribution -ip (c:\\users\\user\\.conda\\envs\\condapractice\\lib\\site-packages)\n",
      "WARNING: Ignoring invalid distribution -illow (c:\\users\\user\\.conda\\envs\\condapractice\\lib\\site-packages)\n",
      "WARNING: Ignoring invalid distribution -ip (c:\\users\\user\\.conda\\envs\\condapractice\\lib\\site-packages)\n",
      "WARNING: Ignoring invalid distribution -illow (c:\\users\\user\\.conda\\envs\\condapractice\\lib\\site-packages)\n",
      "WARNING: Ignoring invalid distribution -ip (c:\\users\\user\\.conda\\envs\\condapractice\\lib\\site-packages)\n",
      "WARNING: Ignoring invalid distribution -illow (c:\\users\\user\\.conda\\envs\\condapractice\\lib\\site-packages)\n"
     ]
    },
    {
     "name": "stdout",
     "output_type": "stream",
     "text": [
      "Requirement already satisfied: statsmodels in c:\\users\\user\\.conda\\envs\\condapractice\\lib\\site-packages (0.13.5)\n",
      "Requirement already satisfied: patsy>=0.5.2 in c:\\users\\user\\.conda\\envs\\condapractice\\lib\\site-packages (from statsmodels) (0.5.3)\n",
      "Requirement already satisfied: packaging>=21.3 in c:\\users\\user\\.conda\\envs\\condapractice\\lib\\site-packages (from statsmodels) (23.0)\n",
      "Requirement already satisfied: pandas>=0.25 in c:\\users\\user\\.conda\\envs\\condapractice\\lib\\site-packages (from statsmodels) (1.4.3)\n",
      "Requirement already satisfied: numpy>=1.17 in c:\\users\\user\\.conda\\envs\\condapractice\\lib\\site-packages (from statsmodels) (1.23.5)\n",
      "Requirement already satisfied: scipy>=1.3 in c:\\users\\user\\.conda\\envs\\condapractice\\lib\\site-packages (from statsmodels) (1.10.1)\n",
      "Requirement already satisfied: python-dateutil>=2.8.1 in c:\\users\\user\\.conda\\envs\\condapractice\\lib\\site-packages (from pandas>=0.25->statsmodels) (2.8.2)\n",
      "Requirement already satisfied: pytz>=2020.1 in c:\\users\\user\\.conda\\envs\\condapractice\\lib\\site-packages (from pandas>=0.25->statsmodels) (2021.1)\n",
      "Requirement already satisfied: six in c:\\users\\user\\.conda\\envs\\condapractice\\lib\\site-packages (from patsy>=0.5.2->statsmodels) (1.16.0)\n"
     ]
    },
    {
     "name": "stderr",
     "output_type": "stream",
     "text": [
      "WARNING: Ignoring invalid distribution -ip (c:\\users\\user\\.conda\\envs\\condapractice\\lib\\site-packages)\n",
      "WARNING: Ignoring invalid distribution -illow (c:\\users\\user\\.conda\\envs\\condapractice\\lib\\site-packages)\n",
      "WARNING: Ignoring invalid distribution -ip (c:\\users\\user\\.conda\\envs\\condapractice\\lib\\site-packages)\n",
      "WARNING: Ignoring invalid distribution -illow (c:\\users\\user\\.conda\\envs\\condapractice\\lib\\site-packages)\n",
      "WARNING: Ignoring invalid distribution -ip (c:\\users\\user\\.conda\\envs\\condapractice\\lib\\site-packages)\n",
      "WARNING: Ignoring invalid distribution -illow (c:\\users\\user\\.conda\\envs\\condapractice\\lib\\site-packages)\n",
      "WARNING: Ignoring invalid distribution -ip (c:\\users\\user\\.conda\\envs\\condapractice\\lib\\site-packages)\n",
      "WARNING: Ignoring invalid distribution -illow (c:\\users\\user\\.conda\\envs\\condapractice\\lib\\site-packages)\n",
      "WARNING: Ignoring invalid distribution -ip (c:\\users\\user\\.conda\\envs\\condapractice\\lib\\site-packages)\n",
      "WARNING: Ignoring invalid distribution -illow (c:\\users\\user\\.conda\\envs\\condapractice\\lib\\site-packages)\n",
      "WARNING: Ignoring invalid distribution -ip (c:\\users\\user\\.conda\\envs\\condapractice\\lib\\site-packages)\n",
      "WARNING: Ignoring invalid distribution -illow (c:\\users\\user\\.conda\\envs\\condapractice\\lib\\site-packages)\n"
     ]
    },
    {
     "data": {
      "text/plain": "                                           model  price  age_08_04  mfg_month  \\\n0  TOYOTA Corolla 2.0 D4D HATCHB TERRA 2/3-Doors  13500         23         10   \n1  TOYOTA Corolla 2.0 D4D HATCHB TERRA 2/3-Doors  13750         23         10   \n2  TOYOTA Corolla 2.0 D4D HATCHB TERRA 2/3-Doors  13950         24          9   \n3  TOYOTA Corolla 2.0 D4D HATCHB TERRA 2/3-Doors  14950         26          7   \n4    TOYOTA Corolla 2.0 D4D HATCHB SOL 2/3-Doors  13750         30          3   \n\n   mfg_year     km fuel_type  hp  met_color   color  ...  powered_windows  \\\n0      2002  46986    Diesel  90          1    Blue  ...                1   \n1      2002  72937    Diesel  90          1  Silver  ...                0   \n2      2002  41711    Diesel  90          1    Blue  ...                0   \n3      2002  48000    Diesel  90          0   Black  ...                0   \n4      2002  38500    Diesel  90          0   Black  ...                1   \n\n   power_steering  radio  mistlamps  sport_model  backseat_divider  \\\n0               1      0          0            0                 1   \n1               1      0          0            0                 1   \n2               1      0          0            0                 1   \n3               1      0          0            0                 1   \n4               1      0          1            0                 1   \n\n   metallic_rim  radio_cassette  parking_assistant  tow_bar  \n0             0               0                  0        0  \n1             0               0                  0        0  \n2             0               0                  0        0  \n3             0               0                  0        0  \n4             0               0                  0        0  \n\n[5 rows x 38 columns]",
      "text/html": "<div>\n<style scoped>\n    .dataframe tbody tr th:only-of-type {\n        vertical-align: middle;\n    }\n\n    .dataframe tbody tr th {\n        vertical-align: top;\n    }\n\n    .dataframe thead th {\n        text-align: right;\n    }\n</style>\n<table border=\"1\" class=\"dataframe\">\n  <thead>\n    <tr style=\"text-align: right;\">\n      <th></th>\n      <th>model</th>\n      <th>price</th>\n      <th>age_08_04</th>\n      <th>mfg_month</th>\n      <th>mfg_year</th>\n      <th>km</th>\n      <th>fuel_type</th>\n      <th>hp</th>\n      <th>met_color</th>\n      <th>color</th>\n      <th>...</th>\n      <th>powered_windows</th>\n      <th>power_steering</th>\n      <th>radio</th>\n      <th>mistlamps</th>\n      <th>sport_model</th>\n      <th>backseat_divider</th>\n      <th>metallic_rim</th>\n      <th>radio_cassette</th>\n      <th>parking_assistant</th>\n      <th>tow_bar</th>\n    </tr>\n  </thead>\n  <tbody>\n    <tr>\n      <th>0</th>\n      <td>TOYOTA Corolla 2.0 D4D HATCHB TERRA 2/3-Doors</td>\n      <td>13500</td>\n      <td>23</td>\n      <td>10</td>\n      <td>2002</td>\n      <td>46986</td>\n      <td>Diesel</td>\n      <td>90</td>\n      <td>1</td>\n      <td>Blue</td>\n      <td>...</td>\n      <td>1</td>\n      <td>1</td>\n      <td>0</td>\n      <td>0</td>\n      <td>0</td>\n      <td>1</td>\n      <td>0</td>\n      <td>0</td>\n      <td>0</td>\n      <td>0</td>\n    </tr>\n    <tr>\n      <th>1</th>\n      <td>TOYOTA Corolla 2.0 D4D HATCHB TERRA 2/3-Doors</td>\n      <td>13750</td>\n      <td>23</td>\n      <td>10</td>\n      <td>2002</td>\n      <td>72937</td>\n      <td>Diesel</td>\n      <td>90</td>\n      <td>1</td>\n      <td>Silver</td>\n      <td>...</td>\n      <td>0</td>\n      <td>1</td>\n      <td>0</td>\n      <td>0</td>\n      <td>0</td>\n      <td>1</td>\n      <td>0</td>\n      <td>0</td>\n      <td>0</td>\n      <td>0</td>\n    </tr>\n    <tr>\n      <th>2</th>\n      <td>TOYOTA Corolla 2.0 D4D HATCHB TERRA 2/3-Doors</td>\n      <td>13950</td>\n      <td>24</td>\n      <td>9</td>\n      <td>2002</td>\n      <td>41711</td>\n      <td>Diesel</td>\n      <td>90</td>\n      <td>1</td>\n      <td>Blue</td>\n      <td>...</td>\n      <td>0</td>\n      <td>1</td>\n      <td>0</td>\n      <td>0</td>\n      <td>0</td>\n      <td>1</td>\n      <td>0</td>\n      <td>0</td>\n      <td>0</td>\n      <td>0</td>\n    </tr>\n    <tr>\n      <th>3</th>\n      <td>TOYOTA Corolla 2.0 D4D HATCHB TERRA 2/3-Doors</td>\n      <td>14950</td>\n      <td>26</td>\n      <td>7</td>\n      <td>2002</td>\n      <td>48000</td>\n      <td>Diesel</td>\n      <td>90</td>\n      <td>0</td>\n      <td>Black</td>\n      <td>...</td>\n      <td>0</td>\n      <td>1</td>\n      <td>0</td>\n      <td>0</td>\n      <td>0</td>\n      <td>1</td>\n      <td>0</td>\n      <td>0</td>\n      <td>0</td>\n      <td>0</td>\n    </tr>\n    <tr>\n      <th>4</th>\n      <td>TOYOTA Corolla 2.0 D4D HATCHB SOL 2/3-Doors</td>\n      <td>13750</td>\n      <td>30</td>\n      <td>3</td>\n      <td>2002</td>\n      <td>38500</td>\n      <td>Diesel</td>\n      <td>90</td>\n      <td>0</td>\n      <td>Black</td>\n      <td>...</td>\n      <td>1</td>\n      <td>1</td>\n      <td>0</td>\n      <td>1</td>\n      <td>0</td>\n      <td>1</td>\n      <td>0</td>\n      <td>0</td>\n      <td>0</td>\n      <td>0</td>\n    </tr>\n  </tbody>\n</table>\n<p>5 rows × 38 columns</p>\n</div>"
     },
     "execution_count": 63,
     "metadata": {},
     "output_type": "execute_result"
    }
   ],
   "source": [
    "# 예제 : 도요티 corolla 중고차의 가격 예측\n",
    "## 가격 선형 회귀 모델\n",
    "! pip install dmba\n",
    "! pip install statsmodels\n",
    "import pandas as pd\n",
    "from sklearn.model_selection import train_test_split\n",
    "from sklearn.linear_model import LinearRegression, Lasso, Ridge, LassoCV, BayesianRidge\n",
    "import statsmodels.formula.api as sm\n",
    "import matplotlib.pylab as plt\n",
    "import dmba\n",
    "\n",
    "from dmba import regressionSummary, exhaustive_search\n",
    "from dmba import backward_elimination, forward_selection, stepwise_selection\n",
    "from dmba import adjusted_r2_score, AIC_score, BIC_score\n",
    "\n",
    "# 데이터 프레임을 상위 1000개 행으로 줄이고 회귀 분석을 위한 열 선택\n",
    "car_df = pd.read_csv('https://raw.githubusercontent.com/reisanar/datasets/master/ToyotaCorolla.csv')\n",
    "car_df = car_df.iloc[:1000]\n",
    "\n",
    "car_df.head()"
   ],
   "metadata": {
    "collapsed": false,
    "pycharm": {
     "name": "#%%\n"
    }
   }
  },
  {
   "cell_type": "code",
   "execution_count": 72,
   "outputs": [
    {
     "name": "stdout",
     "output_type": "stream",
     "text": [
      "intercept -1319.3543800412117\n",
      "           Predictor  coefficient\n",
      "0          age_08_04  -140.748761\n",
      "1                 km    -0.017840\n",
      "2                 hp    36.103419\n",
      "3          met_color    84.281830\n",
      "4          automatic   416.781954\n",
      "5                 cc     0.017737\n",
      "6              doors   -50.657863\n",
      "7      quarterly_tax    13.625325\n",
      "8             weight    13.038711\n",
      "9   fuel_type_Diesel  1066.464681\n",
      "10  fuel_type_Petrol  2310.249543\n",
      "\n",
      "Regression statistics\n",
      "\n",
      "                      Mean Error (ME) : -0.0000\n",
      "       Root Mean Squared Error (RMSE) : 1400.5823\n",
      "            Mean Absolute Error (MAE) : 1046.9072\n",
      "          Mean Percentage Error (MPE) : -1.0223\n",
      "Mean Absolute Percentage Error (MAPE) : 9.2994\n"
     ]
    }
   ],
   "source": [
    "predictors = ['age_08_04', 'km', 'fuel_type', 'hp', 'met_color', 'automatic', 'cc', 'doors', 'quarterly_tax', 'weight']\n",
    "\n",
    "outcome = 'price'\n",
    "\n",
    "# 데이터 분할\n",
    "X = pd.get_dummies(car_df[predictors], drop_first = True)\n",
    "y = car_df[outcome]\n",
    "train_X, valid_X, train_y, valid_y = train_test_split(X, y, test_size = 0.4, random_state = 1)\n",
    "\n",
    "car_lm = LinearRegression()\n",
    "car_lm.fit(train_X, train_y)\n",
    "\n",
    "# coefficients 출력\n",
    "print('intercept', car_lm.intercept_)\n",
    "print(pd.DataFrame({'Predictor':X.columns, 'coefficient': car_lm.coef_}))\n",
    "\n",
    "# 성능 지표\n",
    "regressionSummary(train_y, car_lm.predict(train_X))"
   ],
   "metadata": {
    "collapsed": false,
    "pycharm": {
     "name": "#%%\n"
    }
   }
  },
  {
   "cell_type": "code",
   "execution_count": 73,
   "outputs": [
    {
     "name": "stdout",
     "output_type": "stream",
     "text": [
      "adjusted r2:  0.8537958550253093\n",
      "AIC:  10422.298278332171\n",
      "BIC:  10479.45836384998\n"
     ]
    }
   ],
   "source": [
    "# 성능 지표\n",
    "pred_y = car_lm.predict(train_X)\n",
    "\n",
    "print('adjusted r2: ', adjusted_r2_score(train_y, pred_y, car_lm))\n",
    "print('AIC: ', AIC_score(train_y, pred_y, car_lm))\n",
    "print('BIC: ', BIC_score(train_y, pred_y, car_lm))"
   ],
   "metadata": {
    "collapsed": false,
    "pycharm": {
     "name": "#%%\n"
    }
   }
  },
  {
   "cell_type": "code",
   "execution_count": 66,
   "outputs": [],
   "source": [
    "# AIC: 모델의 성능지표로서 MSE에 변수 수 만큼 panalty를 주는 지표, 회귀분석에서 model selection할 때 많이 쓰임\n",
    "# BIC: 표본 사이즈가 커질 때 부정확해지는 AIC의 단점 보완"
   ],
   "metadata": {
    "collapsed": false,
    "pycharm": {
     "name": "#%%\n"
    }
   }
  },
  {
   "cell_type": "code",
   "execution_count": 67,
   "outputs": [
    {
     "name": "stdout",
     "output_type": "stream",
     "text": [
      "          Predict  Actual     Residual\n",
      "507  10607.333940   11500   892.666060\n",
      "818   9272.705792    8950  -322.705792\n",
      "452  10617.947808   11450   832.052192\n",
      "368  13600.396275   11450 -2150.396275\n",
      "242  12396.694660   11950  -446.694660\n",
      "\n",
      "Regression statistics\n",
      "\n",
      "                      Mean Error (ME) : 103.6803\n",
      "       Root Mean Squared Error (RMSE) : 1312.8523\n",
      "            Mean Absolute Error (MAE) : 1017.5972\n",
      "          Mean Percentage Error (MPE) : -0.2633\n",
      "Mean Absolute Percentage Error (MAPE) : 9.0111\n"
     ]
    }
   ],
   "source": [
    "## 검증 데이터셋 20개의 예측값 및 검증 데이터셋에 대한 성능\n",
    "# * 회귀 모델을 학습 데이터셋에 맞추고 검증에서 가격을 예측\n",
    "\n",
    "# 새로운 집합에 대한 예측을 위해 predict() 사용\n",
    "car_lm_pred = car_lm.predict(valid_X)\n",
    "\n",
    "result = pd.DataFrame({'Predict': car_lm_pred, 'Actual': valid_y,\n",
    "                      'Residual' : valid_y - car_lm_pred})\n",
    "print(result.head())\n",
    "\n",
    "# 일반적인 정확도 측정 계산\n",
    "regressionSummary(valid_y, car_lm_pred)"
   ],
   "metadata": {
    "collapsed": false,
    "pycharm": {
     "name": "#%%\n"
    }
   }
  },
  {
   "cell_type": "code",
   "execution_count": 68,
   "outputs": [
    {
     "name": "stdout",
     "output_type": "stream",
     "text": [
      "0.7425\n"
     ]
    },
    {
     "data": {
      "text/plain": "<Figure size 640x480 with 1 Axes>",
      "image/png": "[encoded data removed]"
     },
     "metadata": {},
     "output_type": "display_data"
    }
   ],
   "source": [
    "# 잔차를 결정하고 히스토그램을 만듦\n",
    "car_lm_pred = car_lm.predict(valid_X)\n",
    "all_residuals = valid_y - car_lm_pred\n",
    "\n",
    "#[-1406, 1406]에 잔차가 있는 데이터 포인트의 백분율을 결정 (대략 75%)\n",
    "print(len(all_residuals[(all_residuals > -1406) & (all_residuals < 1406)]) / len(all_residuals))\n",
    "\n",
    "ax = pd.DataFrame({'Residuals':all_residuals}).hist(bins = 25)\n",
    "\n",
    "plt.tight_layout()\n",
    "plt.show()"
   ],
   "metadata": {
    "collapsed": false,
    "pycharm": {
     "name": "#%%\n"
    }
   }
  },
  {
   "cell_type": "markdown",
   "source": [
    "## 선형 회귀 분석의 변수 선택\n",
    "### 모델에 변수 활용 시 주의 사항\n",
    "* 예측 변수들을 전부 수집하는 것이 실행 가능하지 않거나 비용이 너무 비쌀 수 있다\n",
    "* 적은 수의 예측 변수를 사용하면 더 정확한 측정을 수행할 수 있다(설문조사)\n",
    "* 예측 변ㅅ가 많을 수록 데이터에 결측치가 존재할 위험성이 높아진다. 만약 결측치가 있는 경우, 해당 데이터를 삭제하거나 대체한다고 하면, 다수 개의 예측 변수를 갖는 경우에는 높은 삭제율 혹은 대체율이 나타날 것이다\n",
    "* 적은 수의 모수를 가지는 모델에서 예측 변수의 영향력에 대해 더 잘 통찰할 수 있다(간결성)\n",
    "* 변수가 많은 모델에선ㄴ 다중 공산성으로 인해 회귀 계수의 추정치들이 불안정할 수 있다. 회귀 계수는 간결한 모델에서 더욱 안정적읻. 상당히 대략적이긴 하지만 대개 예측 변수의 수가 n개일 때, 5(p+2)보다 많은 p개의 사례들을 데이터로 ㅅ용해야 한다\n",
    "* 종속 변수와 상관관계가 없는 예측 변수를 사용하면 예측의 분산이 증가할 수 있다\n",
    "* 종속 변수와 실제 상관관계가 있는 예측 변수를 누락시키면 예측의 평균 오차 혹은 bias가 증가할 수 있다\n",
    "\n",
    "### 예측 변수의 수를 어떻게 줄일 것인가\n",
    "* 그 분야의 지식 활용\n",
    "* 계산력(전역 탐색 방법)과 통계적 유의성 이용\n",
    "\n",
    "### 전역 탐색 방법\n",
    "* 예츠 변수의 가능한 모든 조합으로부터 회귀 모델을 적합시켜 최적의 예측 변수 집합 찾ㅇㅁ\n",
    "* 모든 예측 변수의 subset 평가\n",
    "* 가장 가능성이 높은 서브셋이 어떤 것인지 검토하여 예측 변수를 선택한ㄴ 방법 사용\n",
    "* 너무 단순한 모델(과소적합 모델)을 선택해 중요한 변수들을 누락한다거나 반대로 너무 복잡한 모델(과적합 모델)을 선택하여 노이즈까지 학습하지 않도록 주의\n",
    "* 모델을 평가 및 비교 기준은 학습 데이터셋에 대한 적합\n",
    "* 수정 결정 계수\n",
    "* AIC = n ln(SSE/n) + n(1 + ln(2 pi)) + 2 (p+1)\n",
    "* BIC = n ln(SSE/n) + n(1 + ln(2 pi)) + ln(n)(p+1)"
   ],
   "metadata": {
    "collapsed": false,
    "pycharm": {
     "name": "#%% md\n"
    }
   }
  },
  {
   "cell_type": "markdown",
   "source": [
    "## 예제 : 토요타 코롤라 중고차의 가격 예측\n",
    "### 함수 정의\n",
    "* 훈련 모델 : scikit_learn 라이브러리에서 선형 회귀 모듈 활용\n",
    "* 점수 모델 : Adjusted R-squared"
   ],
   "metadata": {
    "collapsed": false,
    "pycharm": {
     "name": "#%% md\n"
    }
   }
  },
  {
   "cell_type": "code",
   "execution_count": 69,
   "outputs": [],
   "source": [
    "import matplotlib.pyplot as plt\n",
    "import koreanize_matplotlib"
   ],
   "metadata": {
    "collapsed": false,
    "pycharm": {
     "name": "#%%\n"
    }
   }
  },
  {
   "cell_type": "code",
   "execution_count": 70,
   "outputs": [],
   "source": [
    "def train_model(variables):\n",
    "    model = LinearRegression()\n",
    "    model.fit(train_X[variables], train_y)\n",
    "    return model\n",
    "\n",
    "# 이 함수는 훈련된 선형 회귀 모델과 변수 목록을 사용\n",
    "# 모델을 사용하여 예측 변수를 기반으로 응답 변수를 예측\n",
    "# 조정된 R2_score 함수를 사용하여 실제 응답 값(train_y)과 예측 응답 값(pred_y)사이의 조정된 R제곱 점수를 계산\n",
    "# 마지막으로 이 함수는 조정된 R 제곱 점수의 음수 반환\n",
    "# 점수를 최소화하도록 score_model 함수가 최적화되어 있음\n",
    "# 최적화 알고리즘을 사용하여 최소화하기 쉽기 때문에 음수 값의 점수를 사용\n",
    "\n",
    "def score_model(model, variables):\n",
    "    pred_y = model.predict(train_X[variables])\n",
    "    return -adjusted_r2_score(train_y, pred_y, model)"
   ],
   "metadata": {
    "collapsed": false,
    "pycharm": {
     "name": "#%%\n"
    }
   }
  },
  {
   "cell_type": "markdown",
   "source": [
    "### 함수 정의\n",
    "* 전체 모델 검색을 위한 코드 : exhaustive_search() <- 모든 경우의 수를 테스트 후 최종 해법 도출\n",
    "* 이 함수는 모든 기능의 목록, 모델을 생성하는 함수, 주어진 기능과 모델에 점수를 매기는 함수"
   ],
   "metadata": {
    "collapsed": false,
    "pycharm": {
     "name": "#%% md\n"
    }
   }
  },
  {
   "cell_type": "code",
   "execution_count": 71,
   "outputs": [
    {
     "name": "stdout",
     "output_type": "stream",
     "text": [
      "     n     r2adj           AIC  age_08_04  automatic     cc  doors  fuel_type_Diesel  \\\n",
      "0    1  0.767901  10689.712094       True      False  False  False             False   \n",
      "1    2  0.801160  10597.910645       True      False  False  False             False   \n",
      "2    3  0.829659  10506.084235       True      False  False  False             False   \n",
      "3    4  0.846357  10445.174820       True      False  False  False             False   \n",
      "4    5  0.849044  10435.578836       True      False  False  False             False   \n",
      "5    6  0.853172  10419.932278       True      False  False  False             False   \n",
      "6    7  0.853860  10418.104025       True      False  False  False              True   \n",
      "7    8  0.854297  10417.290103       True       True  False  False              True   \n",
      "8    9  0.854172  10418.789079       True       True  False   True              True   \n",
      "9   10  0.854036  10420.330800       True       True  False   True              True   \n",
      "10  11  0.853796  10422.298278       True       True   True   True              True   \n",
      "\n",
      "    fuel_type_Petrol     hp     km  met_color  quarterly_tax  weight  \n",
      "0              False  False  False      False          False   False  \n",
      "1              False   True  False      False          False   False  \n",
      "2              False   True  False      False          False    True  \n",
      "3              False   True   True      False          False    True  \n",
      "4              False   True   True      False           True    True  \n",
      "5               True   True   True      False           True    True  \n",
      "6               True   True   True      False           True    True  \n",
      "7               True   True   True      False           True    True  \n",
      "8               True   True   True      False           True    True  \n",
      "9               True   True   True       True           True    True  \n",
      "10              True   True   True       True           True    True  \n"
     ]
    }
   ],
   "source": [
    "# 전체 모델 검색을 위한 exhaustive_search. Fuel Type 변수는 범주형이기 때문에 더미 변수로 변경 시켜야 함\n",
    "allVariables = train_X.columns\n",
    "results = exhaustive_search(allVariables, train_model, score_model)\n",
    "\n",
    "data = []\n",
    "for result in results:\n",
    "    model = result['model']\n",
    "    variables = result['variables']\n",
    "    AIC = AIC_score(train_y, model.predict(train_X[variables]), model)\n",
    "\n",
    "    d = {'n': result['n'], 'r2adj': -result['score'], 'AIC':AIC}\n",
    "    d.update({var: var in result['variables'] for var in allVariables})\n",
    "    data.append(d)\n",
    "\n",
    "pd.set_option('display.width', 100)\n",
    "print(pd.DataFrame(data, columns = ('n', 'r2adj', 'AIC') + tuple(sorted(allVariables))))\n",
    "pd.reset_option('display.width')"
   ],
   "metadata": {
    "collapsed": false,
    "pycharm": {
     "name": "#%%\n"
    }
   }
  },
  {
   "cell_type": "markdown",
   "source": [
    "## 선형 회귀 분석의 변수 선택\n",
    "### 통계적 유의성 이용\n",
    "* 모든 가능한 회귀 모델로 이루어진 공간에 대해 부분적이며 반복적인 탐색을 통해 이루어짐\n",
    "* 전방 선택 방법, 후방 소거법, 단계적 선택 방법 있음\n",
    "\n",
    "\n",
    "### 전방 선택 방법\n",
    "* 예측 변수가 없는 상태에서 예측 변수를 하나씩 추가해 나가는 방법\n",
    "* 추가되는 예측 변수의 기여도가 통계적으로 유의하지 않을 때 중단\n",
    "* 둘 이상의 예측 변수가 함께 사용될 때는 효과적이지만 각각 단일 변수로 사용될 때는 낮은 성능을 보이는 예측 변수들을 누락시킬 수 있음\n",
    "\n",
    "### 후방 소거법\n",
    "* 처음에는 모든 예측 변수를 사용하는 데에서 시작해 단계별로 가장 유용하지 않은 예측 변수들을 (통계적 유의성에 의해)제거해 나가는 방법\n",
    "* 제거되지 않고 남아 있는 예측 변수들의 기여도가 모두 유의하다고 판단될 때 중단\n",
    "* 모든 예측 변수를 포함하는 초기 모델을 계산하는 데 시간이 많이 소요되고 불안정\n",
    "\n",
    "### 단계적 선택 방법\n",
    "* 각 단계별로 통계적으로 유의하지 않은 변수들을 탈락시키는 것을 제외하면 전방 선택 방법과 동일"
   ],
   "metadata": {
    "collapsed": false,
    "pycharm": {
     "name": "#%% md\n"
    }
   }
  },
  {
   "cell_type": "code",
   "execution_count": 74,
   "outputs": [
    {
     "name": "stdout",
     "output_type": "stream",
     "text": [
      "Variables: age_08_04, km, hp, met_color, automatic, cc, doors, quarterly_tax, weight, fuel_type_Diesel, fuel_type_Petrol\n",
      "Start: score=10422.30\n",
      "Step: score=10420.33, remove cc\n",
      "Step: score=10418.79, remove met_color\n",
      "Step: score=10417.29, remove doors\n",
      "Step: score=10417.29, remove None\n",
      "['age_08_04', 'km', 'hp', 'automatic', 'quarterly_tax', 'weight', 'fuel_type_Diesel', 'fuel_type_Petrol']\n"
     ]
    }
   ],
   "source": [
    "# 후방 소거법 AIC 기반\n",
    "def train_model(variables):\n",
    "    model = LinearRegression()\n",
    "    model.fit(train_X[variables], train_y)\n",
    "    return model\n",
    "\n",
    "def score_model(model, variables):\n",
    "    return AIC_score(train_y, model.predict(train_X[variables]), model)\n",
    "\n",
    "best_model, best_variables = backward_elimination(train_X.columns, train_model, score_model, verbose= True)\n",
    "\n",
    "print(best_variables)"
   ],
   "metadata": {
    "collapsed": false,
    "pycharm": {
     "name": "#%%\n"
    }
   }
  },
  {
   "cell_type": "code",
   "execution_count": 75,
   "outputs": [
    {
     "name": "stdout",
     "output_type": "stream",
     "text": [
      "\n",
      "Regression statistics\n",
      "\n",
      "                      Mean Error (ME) : 103.3045\n",
      "       Root Mean Squared Error (RMSE) : 1314.4844\n",
      "            Mean Absolute Error (MAE) : 1016.8875\n",
      "          Mean Percentage Error (MPE) : -0.2700\n",
      "Mean Absolute Percentage Error (MAPE) : 8.9984\n"
     ]
    }
   ],
   "source": [
    "regressionSummary(valid_y, best_model.predict(valid_X[best_variables]))"
   ],
   "metadata": {
    "collapsed": false,
    "pycharm": {
     "name": "#%%\n"
    }
   }
  },
  {
   "cell_type": "code",
   "execution_count": 77,
   "outputs": [
    {
     "name": "stdout",
     "output_type": "stream",
     "text": [
      "Variables: age_08_04, km, hp, met_color, automatic, cc, doors, quarterly_tax, weight, fuel_type_Diesel, fuel_type_Petrol\n",
      "Start: score=11565.07, constant\n",
      "Step: score=10689.71, add age_08_04\n",
      "Step: score=10597.91, add hp\n",
      "Step: score=10506.08, add weight\n",
      "Step: score=10445.17, add km\n",
      "Step: score=10435.58, add quarterly_tax\n",
      "Step: score=10419.93, add fuel_type_Petrol\n",
      "Step: score=10418.10, add fuel_type_Diesel\n",
      "Step: score=10417.29, add automatic\n",
      "Step: score=10417.29, add None\n",
      "['age_08_04', 'hp', 'weight', 'km', 'quarterly_tax', 'fuel_type_Petrol', 'fuel_type_Diesel', 'automatic']\n"
     ]
    }
   ],
   "source": [
    "# 전방 선택 방법\n",
    "# 초기 모델이 상수 모델이기 때문에 처리가 필요\n",
    "def train_model(variables):\n",
    "    if len(variables) == 0:\n",
    "        return None\n",
    "    model = LinearRegression()\n",
    "    model.fit(train_X[variables], train_y)\n",
    "    return model\n",
    "\n",
    "def score_model(model, variables):\n",
    "    if len(variables) == 0:\n",
    "        return AIC_score(train_y, [train_y.mean()] * len(train_y), model, df = 1)\n",
    "    return AIC_score(train_y, model.predict(train_X[variables]), model)\n",
    "\n",
    "best_model, best_variables = forward_selection(train_X.columns, train_model, score_model, verbose = True)\n",
    "\n",
    "print(best_variables)"
   ],
   "metadata": {
    "collapsed": false,
    "pycharm": {
     "name": "#%%\n"
    }
   }
  },
  {
   "cell_type": "markdown",
   "source": [
    "### 정규화(수축 모델)\n",
    "* 철저한 검색 = 최상의 하위 집합\n",
    "* 평가된 예측 변수의 모든 가능한 서브셋\n",
    "* 가장 일반적인 수축법으로 릿지 회귀와 라쏘\n",
    "* ** RIdge 회귀에서 패널티는 계수의 제곱합인 L2 패널티를 사용 -> 회귀계수 크기를 0에 근접\n",
    "* ** 라쏘는 예측 변수 p(절편은 제외)에 대한 절댓값의 합인 L1 패널티 사용\n",
    "* ** 라쏘 패널티는 효과적으로 일부 계수를 0으로 축소하여 예측 변수의 서브셋을 생성\n",
    "* 선형 회귀 계수는 오차제곱합 SSE의 학습 데이터셋 합을 최소화하여 계수를 추정하며, 패널티 항이 일부 임계값 t 미만일 수 있음"
   ],
   "metadata": {
    "collapsed": false,
    "pycharm": {
     "name": "#%% md\n"
    }
   }
  },
  {
   "cell_type": "markdown",
   "source": [
    "### 정규화된 선형 회귀를 위한 코드"
   ],
   "metadata": {
    "collapsed": false,
    "pycharm": {
     "name": "#%% md\n"
    }
   }
  },
  {
   "cell_type": "code",
   "execution_count": 83,
   "outputs": [
    {
     "name": "stdout",
     "output_type": "stream",
     "text": [
      "\n",
      "Regression statistics\n",
      "\n",
      "                      Mean Error (ME) : 104.7566\n",
      "       Root Mean Squared Error (RMSE) : 1312.7798\n",
      "            Mean Absolute Error (MAE) : 1017.4997\n",
      "          Mean Percentage Error (MPE) : -0.2578\n",
      "Mean Absolute Percentage Error (MAPE) : 9.0084\n",
      "\n",
      "Regression statistics\n",
      "\n",
      "                      Mean Error (ME) : 114.2331\n",
      "       Root Mean Squared Error (RMSE) : 3090.0442\n",
      "            Mean Absolute Error (MAE) : 2324.8119\n",
      "          Mean Percentage Error (MPE) : -4.0923\n",
      "Mean Absolute Percentage Error (MAPE) : 19.4053\n",
      "Lasso-CV chosen regularization:  214695.28400864813\n",
      "[-0.         -0.06282474  0.          0.          0.          0.33542499\n",
      "  0.          0.          0.          0.         -0.        ]\n"
     ]
    },
    {
     "ename": "NameError",
     "evalue": "name 'bayesianRidge' is not defined",
     "output_type": "error",
     "traceback": [
      "\u001B[1;31m---------------------------------------------------------------------------\u001B[0m",
      "\u001B[1;31mNameError\u001B[0m                                 Traceback (most recent call last)",
      "Input \u001B[1;32mIn [83]\u001B[0m, in \u001B[0;36m<cell line: 13>\u001B[1;34m()\u001B[0m\n\u001B[0;32m     11\u001B[0m ridge \u001B[38;5;241m=\u001B[39m Ridge(alpha \u001B[38;5;241m=\u001B[39m \u001B[38;5;241m1\u001B[39m)\n\u001B[0;32m     12\u001B[0m ridge\u001B[38;5;241m.\u001B[39mfit(train_X, train_y)\n\u001B[1;32m---> 13\u001B[0m regressionSummary(valid_y, \u001B[43mbayesianRidge\u001B[49m\u001B[38;5;241m.\u001B[39mpredict(valid_X))\n\u001B[0;32m     14\u001B[0m \u001B[38;5;28mprint\u001B[39m(\u001B[38;5;124m'\u001B[39m\u001B[38;5;124mBaysian ridge chosen regularization\u001B[39m\u001B[38;5;124m'\u001B[39m, bayesianRidge\u001B[38;5;241m.\u001B[39mlambda_ \u001B[38;5;241m/\u001B[39m bayesianRidge\u001B[38;5;241m.\u001B[39malpha_)\n",
      "\u001B[1;31mNameError\u001B[0m: name 'bayesianRidge' is not defined"
     ]
    }
   ],
   "source": [
    "lasso = Lasso(alpha= 1)\n",
    "lasso.fit(train_X, train_y)\n",
    "regressionSummary(valid_y, lasso.predict(valid_X))\n",
    "\n",
    "lasso_cv = LassoCV(cv = 5)\n",
    "lasso_cv.fit(train_X, train_y)\n",
    "regressionSummary(valid_y, lasso_cv.predict(valid_X))\n",
    "print('Lasso-CV chosen regularization: ', lasso_cv.alpha_)\n",
    "print(lasso_cv.coef_)\n",
    "\n",
    "ridge = Ridge(alpha = 1)\n",
    "ridge.fit(train_X, train_y)\n",
    "regressionSummary(valid_y, bayesianRidge.predict(valid_X))\n",
    "print('Baysian ridge chosen regularization', bayesianRidge.lambda_ / bayesianRidge.alpha_)"
   ],
   "metadata": {
    "collapsed": false,
    "pycharm": {
     "name": "#%%\n"
    }
   }
  },
  {
   "cell_type": "markdown",
   "source": [
    "## 요약\n",
    "* 선형 회귀 모델은 설명 모델링뿐만 아니라 예측에도 매우 널리 사용되는 도구\n",
    "* 좋은 예측 모델은 예측 정확도가 높음(유용한 실제 수준까지)\n",
    "* 예측 모델은 교육 데이터에 적합하며 예측 정확도는 별도의 검증 데이터셋에서 평가됨\n",
    "* 중복 예측 변수를 제거하는 것이 예측 정확도와 견고성을 달성하는 데 중요\n",
    "* 하위 집합 선택 방법은 '좋은' 후보 모델을 찾는 데 도움이 됨. 그런 다음 이를 실행하고 평가해야 함"
   ],
   "metadata": {
    "collapsed": false,
    "pycharm": {
     "name": "#%% md\n"
    }
   }
  },
  {
   "cell_type": "code",
   "execution_count": null,
   "outputs": [],
   "source": [],
   "metadata": {
    "collapsed": false,
    "pycharm": {
     "name": "#%%\n"
    }
   }
  },
  {
   "cell_type": "markdown",
   "id": "620b5d55",
   "metadata": {},
   "source": [
    "## 다중 선형 회귀\n",
    "* 예측 변수와 종속 변수 관계 다음으로 가정"
   ]
  },
  {
   "cell_type": "markdown",
   "id": "c63f04dd",
   "metadata": {},
   "source": [
    "## 회귀를 사용한 설명 모델과 예측 모델의 모델링\n",
    "### 회귀 모델 적합 목적\n",
    "* 출력에 대한 입력의 평균 효과에 대한 설명 또는 정량화(각각, 설명적 혹은 기술적 작업)\n",
    "* 주어진 입력 값을 활용하여 새 레코드의 결과 값 예측(예측 작업)\n",
    "\n",
    "### 설명 모델\n",
    "* 데이터를 가장 잘 적합시키는 모델\n",
    "* 모집단에 가정된 관계에 대한 정보가 최대한 반영된 최적의 적합 모델을 추정하기 이해서 전체 데이터셋 사용\n",
    "* 성능 측정은 데이터가 모델에 얼마나 잘 적합하는지(즉, 모델이 데이터의 실제 값과 얼마나 비슷한 값을 주는지)와 평균 관계가 얼마나 강한지를 측정\n",
    "* 회귀 계수에 초점\n",
    "\n",
    "### 예측 모델\n",
    "* 새로운 사례를 정학하게 예측하는 모델\n",
    "* 예측 모델에서는 데이터를 일반적으로 학습 데이터셋과 검증 데이터셋으로 나눔* 성능 측정은 예측의 정확도(즉, 모델이 새로운 사례를 얼마나 잘 예측하는지)를 측정\n",
    "* 예측에 초점을 둠"
   ]
  },
  {
   "cell_type": "markdown",
   "id": "6632ebd2",
   "metadata": {},
   "source": [
    "## 회귀식의 추정과 예측\n",
    "### 입력 값이 x1, x2, ... , xp인 레코드의 출력 변수 값 예측\n",
    "* 노이즈(오차)는 표준 정규 분포를 따른다\n",
    "* 선택된 예측 변수가 적절하고 선형성을 따른다\n",
    "* 각 관측치들이 서로 독립적이다\n",
    "* 각 예측 변수에 대한 Y값의 변동성은 예측 변수 값에 상관없이 동일하다(등분산성)"
   ]
  },
  {
   "cell_type": "code",
   "execution_count": 7,
   "id": "a5dd86ce",
   "metadata": {},
   "outputs": [
    {
     "name": "stdout",
     "output_type": "stream",
     "text": [
      "Requirement already satisfied: dmba in c:\\programdata\\anaconda3\\lib\\site-packages (0.1.0)\n"
     ]
    },
    {
     "data": {
      "text/html": [
       "<div>\n",
       "<style scoped>\n",
       "    .dataframe tbody tr th:only-of-type {\n",
       "        vertical-align: middle;\n",
       "    }\n",
       "\n",
       "    .dataframe tbody tr th {\n",
       "        vertical-align: top;\n",
       "    }\n",
       "\n",
       "    .dataframe thead th {\n",
       "        text-align: right;\n",
       "    }\n",
       "</style>\n",
       "<table border=\"1\" class=\"dataframe\">\n",
       "  <thead>\n",
       "    <tr style=\"text-align: right;\">\n",
       "      <th></th>\n",
       "      <th>model</th>\n",
       "      <th>price</th>\n",
       "      <th>age_08_04</th>\n",
       "      <th>mfg_month</th>\n",
       "      <th>mfg_year</th>\n",
       "      <th>km</th>\n",
       "      <th>fuel_type</th>\n",
       "      <th>hp</th>\n",
       "      <th>met_color</th>\n",
       "      <th>color</th>\n",
       "      <th>...</th>\n",
       "      <th>powered_windows</th>\n",
       "      <th>power_steering</th>\n",
       "      <th>radio</th>\n",
       "      <th>mistlamps</th>\n",
       "      <th>sport_model</th>\n",
       "      <th>backseat_divider</th>\n",
       "      <th>metallic_rim</th>\n",
       "      <th>radio_cassette</th>\n",
       "      <th>parking_assistant</th>\n",
       "      <th>tow_bar</th>\n",
       "    </tr>\n",
       "  </thead>\n",
       "  <tbody>\n",
       "    <tr>\n",
       "      <th>0</th>\n",
       "      <td>TOYOTA Corolla 2.0 D4D HATCHB TERRA 2/3-Doors</td>\n",
       "      <td>13500</td>\n",
       "      <td>23</td>\n",
       "      <td>10</td>\n",
       "      <td>2002</td>\n",
       "      <td>46986</td>\n",
       "      <td>Diesel</td>\n",
       "      <td>90</td>\n",
       "      <td>1</td>\n",
       "      <td>Blue</td>\n",
       "      <td>...</td>\n",
       "      <td>1</td>\n",
       "      <td>1</td>\n",
       "      <td>0</td>\n",
       "      <td>0</td>\n",
       "      <td>0</td>\n",
       "      <td>1</td>\n",
       "      <td>0</td>\n",
       "      <td>0</td>\n",
       "      <td>0</td>\n",
       "      <td>0</td>\n",
       "    </tr>\n",
       "    <tr>\n",
       "      <th>1</th>\n",
       "      <td>TOYOTA Corolla 2.0 D4D HATCHB TERRA 2/3-Doors</td>\n",
       "      <td>13750</td>\n",
       "      <td>23</td>\n",
       "      <td>10</td>\n",
       "      <td>2002</td>\n",
       "      <td>72937</td>\n",
       "      <td>Diesel</td>\n",
       "      <td>90</td>\n",
       "      <td>1</td>\n",
       "      <td>Silver</td>\n",
       "      <td>...</td>\n",
       "      <td>0</td>\n",
       "      <td>1</td>\n",
       "      <td>0</td>\n",
       "      <td>0</td>\n",
       "      <td>0</td>\n",
       "      <td>1</td>\n",
       "      <td>0</td>\n",
       "      <td>0</td>\n",
       "      <td>0</td>\n",
       "      <td>0</td>\n",
       "    </tr>\n",
       "    <tr>\n",
       "      <th>2</th>\n",
       "      <td>TOYOTA Corolla 2.0 D4D HATCHB TERRA 2/3-Doors</td>\n",
       "      <td>13950</td>\n",
       "      <td>24</td>\n",
       "      <td>9</td>\n",
       "      <td>2002</td>\n",
       "      <td>41711</td>\n",
       "      <td>Diesel</td>\n",
       "      <td>90</td>\n",
       "      <td>1</td>\n",
       "      <td>Blue</td>\n",
       "      <td>...</td>\n",
       "      <td>0</td>\n",
       "      <td>1</td>\n",
       "      <td>0</td>\n",
       "      <td>0</td>\n",
       "      <td>0</td>\n",
       "      <td>1</td>\n",
       "      <td>0</td>\n",
       "      <td>0</td>\n",
       "      <td>0</td>\n",
       "      <td>0</td>\n",
       "    </tr>\n",
       "    <tr>\n",
       "      <th>3</th>\n",
       "      <td>TOYOTA Corolla 2.0 D4D HATCHB TERRA 2/3-Doors</td>\n",
       "      <td>14950</td>\n",
       "      <td>26</td>\n",
       "      <td>7</td>\n",
       "      <td>2002</td>\n",
       "      <td>48000</td>\n",
       "      <td>Diesel</td>\n",
       "      <td>90</td>\n",
       "      <td>0</td>\n",
       "      <td>Black</td>\n",
       "      <td>...</td>\n",
       "      <td>0</td>\n",
       "      <td>1</td>\n",
       "      <td>0</td>\n",
       "      <td>0</td>\n",
       "      <td>0</td>\n",
       "      <td>1</td>\n",
       "      <td>0</td>\n",
       "      <td>0</td>\n",
       "      <td>0</td>\n",
       "      <td>0</td>\n",
       "    </tr>\n",
       "    <tr>\n",
       "      <th>4</th>\n",
       "      <td>TOYOTA Corolla 2.0 D4D HATCHB SOL 2/3-Doors</td>\n",
       "      <td>13750</td>\n",
       "      <td>30</td>\n",
       "      <td>3</td>\n",
       "      <td>2002</td>\n",
       "      <td>38500</td>\n",
       "      <td>Diesel</td>\n",
       "      <td>90</td>\n",
       "      <td>0</td>\n",
       "      <td>Black</td>\n",
       "      <td>...</td>\n",
       "      <td>1</td>\n",
       "      <td>1</td>\n",
       "      <td>0</td>\n",
       "      <td>1</td>\n",
       "      <td>0</td>\n",
       "      <td>1</td>\n",
       "      <td>0</td>\n",
       "      <td>0</td>\n",
       "      <td>0</td>\n",
       "      <td>0</td>\n",
       "    </tr>\n",
       "  </tbody>\n",
       "</table>\n",
       "<p>5 rows × 38 columns</p>\n",
       "</div>"
      ],
      "text/plain": [
       "                                           model  price  age_08_04  mfg_month  \\\n",
       "0  TOYOTA Corolla 2.0 D4D HATCHB TERRA 2/3-Doors  13500         23         10   \n",
       "1  TOYOTA Corolla 2.0 D4D HATCHB TERRA 2/3-Doors  13750         23         10   \n",
       "2  TOYOTA Corolla 2.0 D4D HATCHB TERRA 2/3-Doors  13950         24          9   \n",
       "3  TOYOTA Corolla 2.0 D4D HATCHB TERRA 2/3-Doors  14950         26          7   \n",
       "4    TOYOTA Corolla 2.0 D4D HATCHB SOL 2/3-Doors  13750         30          3   \n",
       "\n",
       "   mfg_year     km fuel_type  hp  met_color   color  ...  powered_windows  \\\n",
       "0      2002  46986    Diesel  90          1    Blue  ...                1   \n",
       "1      2002  72937    Diesel  90          1  Silver  ...                0   \n",
       "2      2002  41711    Diesel  90          1    Blue  ...                0   \n",
       "3      2002  48000    Diesel  90          0   Black  ...                0   \n",
       "4      2002  38500    Diesel  90          0   Black  ...                1   \n",
       "\n",
       "   power_steering  radio  mistlamps  sport_model  backseat_divider  \\\n",
       "0               1      0          0            0                 1   \n",
       "1               1      0          0            0                 1   \n",
       "2               1      0          0            0                 1   \n",
       "3               1      0          0            0                 1   \n",
       "4               1      0          1            0                 1   \n",
       "\n",
       "   metallic_rim  radio_cassette  parking_assistant  tow_bar  \n",
       "0             0               0                  0        0  \n",
       "1             0               0                  0        0  \n",
       "2             0               0                  0        0  \n",
       "3             0               0                  0        0  \n",
       "4             0               0                  0        0  \n",
       "\n",
       "[5 rows x 38 columns]"
      ]
     },
     "execution_count": 7,
     "metadata": {},
     "output_type": "execute_result"
    }
   ],
   "source": [
    "# 예제 : 도요티 corolla 중고차의 가격 예측\n",
    "## 가격 선형 회귀 모델\n",
    "! pip install dmba\n",
    "import pandas as pd\n",
    "from sklearn.model_selection import train_test_split\n",
    "from sklearn.linear_model import LinearRegression, Lasso, Ridge, LassoCV, BayesianRidge\n",
    "import statsmodels.formula.api as sm\n",
    "import matplotlib.pylab as plt\n",
    "import dmba\n",
    "\n",
    "from dmba import regressionSummary, exhaustive_search\n",
    "from dmba import backward_elimination, forward_selection, stepwise_selection\n",
    "from dmba import adjusted_r2_score, AIC_score, BIC_score\n",
    "\n",
    "# 데이터 프레임을 상위 1000개 행으로 줄이고 회귀 분석을 위한 열 선택\n",
    "car_df = pd.read_csv('https://raw.githubusercontent.com/reisanar/datasets/master/ToyotaCorolla.csv')\n",
    "car_df = car_df.iloc[:1000]\n",
    "\n",
    "car_df.head()"
   ]
  },
  {
   "cell_type": "code",
   "execution_count": 9,
   "id": "f69f1318",
   "metadata": {},
   "outputs": [
    {
     "name": "stdout",
     "output_type": "stream",
     "text": [
      "intercept -1319.3543800412026\n",
      "           Predictor  coefficient\n",
      "0          age_08_04  -140.748761\n",
      "1                 km    -0.017840\n",
      "2                 hp    36.103419\n",
      "3          met_color    84.281830\n",
      "4          automatic   416.781954\n",
      "5                 cc     0.017737\n",
      "6              doors   -50.657863\n",
      "7      quarterly_tax    13.625325\n",
      "8             weight    13.038711\n",
      "9   fuel_type_Diesel  1066.464681\n",
      "10  fuel_type_Petrol  2310.249543\n",
      "\n",
      "Regression statistics\n",
      "\n",
      "                      Mean Error (ME) : -0.0000\n",
      "       Root Mean Squared Error (RMSE) : 1400.5823\n",
      "            Mean Absolute Error (MAE) : 1046.9072\n",
      "          Mean Percentage Error (MPE) : -1.0223\n",
      "Mean Absolute Percentage Error (MAPE) : 9.2994\n"
     ]
    }
   ],
   "source": [
    "predictors = ['age_08_04', 'km', 'fuel_type', 'hp', 'met_color', 'automatic', 'cc', 'doors', 'quarterly_tax', 'weight']\n",
    "\n",
    "outcome = 'price'\n",
    "\n",
    "# 데이터 분할\n",
    "X = pd.get_dummies(car_df[predictors], drop_first = True)\n",
    "y = car_df[outcome]\n",
    "train_X, valid_X, train_y, valid_y = train_test_split(X, y, test_size = 0.4, random_state = 1)\n",
    "\n",
    "car_lm = LinearRegression()\n",
    "car_lm.fit(train_X, train_y)\n",
    "\n",
    "# coefficients 출력\n",
    "print('intercept', car_lm.intercept_)\n",
    "print(pd.DataFrame({'Predictor':X.columns, 'coefficient': car_lm.coef_}))\n",
    "\n",
    "# 성능 지표\n",
    "regressionSummary(train_y, car_lm.predict(train_X))"
   ]
  },
  {
   "cell_type": "code",
   "execution_count": 12,
   "id": "45b05e35",
   "metadata": {},
   "outputs": [
    {
     "name": "stdout",
     "output_type": "stream",
     "text": [
      "adjusted r2:  0.8537958550253093\n",
      "AIC:  10422.298278332171\n",
      "BIC:  10479.45836384998\n"
     ]
    }
   ],
   "source": [
    "# 성능 지표\n",
    "pred_y = car_lm.predict(train_X)\n",
    "\n",
    "print('adjusted r2: ', adjusted_r2_score(train_y, pred_y, car_lm))\n",
    "print('AIC: ', AIC_score(train_y, pred_y, car_lm))\n",
    "print('BIC: ', BIC_score(train_y, pred_y, car_lm))"
   ]
  },
  {
   "cell_type": "code",
   "execution_count": 13,
   "id": "69f5c731",
   "metadata": {},
   "outputs": [],
   "source": [
    "# AIC: 모델의 성능지표로서 MSE에 변수 수 만큼 panalty를 주는 지표, 회귀분석에서 model selection할 때 많이 쓰임\n",
    "# BIC: 표본 사이즈가 커질 때 부정확해지는 AIC의 단점 보완"
   ]
  },
  {
   "cell_type": "code",
   "execution_count": 14,
   "id": "31c9c851",
   "metadata": {},
   "outputs": [
    {
     "name": "stdout",
     "output_type": "stream",
     "text": [
      "          Predict  Actual     Residual\n",
      "507  10607.333940   11500   892.666060\n",
      "818   9272.705792    8950  -322.705792\n",
      "452  10617.947808   11450   832.052192\n",
      "368  13600.396275   11450 -2150.396275\n",
      "242  12396.694660   11950  -446.694660\n",
      "\n",
      "Regression statistics\n",
      "\n",
      "                      Mean Error (ME) : 103.6803\n",
      "       Root Mean Squared Error (RMSE) : 1312.8523\n",
      "            Mean Absolute Error (MAE) : 1017.5972\n",
      "          Mean Percentage Error (MPE) : -0.2633\n",
      "Mean Absolute Percentage Error (MAPE) : 9.0111\n"
     ]
    }
   ],
   "source": [
    "## 검증 데이터셋 20개의 예측값 및 검증 데이터셋에 대한 성능\n",
    "# * 회귀 모델을 학습 데이터셋에 맞추고 검증에서 가격을 예측\n",
    "\n",
    "# 새로운 집합에 대한 예측을 위해 predict() 사용\n",
    "car_lm_pred = car_lm.predict(valid_X)\n",
    "\n",
    "result = pd.DataFrame({'Predict': car_lm_pred, 'Actual': valid_y,\n",
    "                      'Residual' : valid_y - car_lm_pred})\n",
    "print(result.head())\n",
    "\n",
    "# 일반적인 정확도 측정 계산\n",
    "regressionSummary(valid_y, car_lm_pred)"
   ]
  },
  {
   "cell_type": "code",
   "execution_count": 17,
   "id": "7919cc89",
   "metadata": {},
   "outputs": [
    {
     "name": "stdout",
     "output_type": "stream",
     "text": [
      "0.7425\n"
     ]
    },
    {
     "data": {
      "image/png": "[encoded data removed]",
      "text/plain": [
       "<Figure size 640x480 with 1 Axes>"
      ]
     },
     "metadata": {},
     "output_type": "display_data"
    }
   ],
   "source": [
    "# 잔차를 결정하고 히스토그램을 만듦\n",
    "car_lm_pred = car_lm.predict(valid_X)\n",
    "all_residuals = valid_y - car_lm_pred\n",
    "\n",
    "#[-1406, 1406]에 잔차가 있는 데이터 포인트의 백분율을 결정 (대략 75%)\n",
    "print(len(all_residuals[(all_residuals > -1406) & (all_residuals < 1406)]) / len(all_residuals))\n",
    "\n",
    "ax = pd.DataFrame({'Residuals':all_residuals}).hist(bins = 25)\n",
    "\n",
    "plt.tight_layout()\n",
    "plt.show()"
   ]
  },
  {
   "cell_type": "markdown",
   "id": "4d6ee8b9",
   "metadata": {},
   "source": [
    "## 선형 회귀 분석의 변수 선택\n",
    "### 모델에 변수 활용 시 주의 사항\n",
    "* 예측 변수들을 전부 수집하는 것이 실행 가능하지 않거나 비용이 너무 비쌀 수 있다\n",
    "* 적은 수의 예측 변수를 사용하면 더 정확한 측정을 수행할 수 있다(설문조사)\n",
    "* 예측 변ㅅ가 많을 수록 데이터에 결측치가 존재할 위험성이 높아진다. 만약 결측치가 있는 경우, 해당 데이터를 삭제하거나 대체한다고 하면, 다수 개의 예측 변수를 갖는 경우에는 높은 삭제율 혹은 대체율이 나타날 것이다\n",
    "* 적은 수의 모수를 가지는 모델에서 예측 변수의 영향력에 대해 더 잘 통찰할 수 있다(간결성)\n",
    "* 변수가 많은 모델에선ㄴ 다중 공산성으로 인해 회귀 계수의 추정치들이 불안정할 수 있다. 회귀 계수는 간결한 모델에서 더욱 안정적읻. 상당히 대략적이긴 하지만 대개 예측 변수의 수가 n개일 때, 5(p+2)보다 많은 p개의 사례들을 데이터로 ㅅ용해야 한다\n",
    "* 종속 변수와 상관관계가 없는 예측 변수를 사용하면 예측의 분산이 증가할 수 있다\n",
    "* 종속 변수와 실제 상관관계가 있는 예측 변수를 누락시키면 예측의 평균 오차 혹은 bias가 증가할 수 있다\n",
    "\n",
    "### 예측 변수의 수를 어떻게 줄일 것인가\n",
    "* 그 분야의 지식 활용\n",
    "* 계산력(전역 탐색 방법)과 통계적 유의성 이용\n",
    "\n",
    "### 전역 탐색 방법\n",
    "* 예츠 변수의 가능한 모든 조합으로부터 회귀 모델을 적합시켜 최적의 예측 변수 집합 찾ㅇㅁ\n",
    "* 모든 예측 변수의 subset 평가\n",
    "* 가장 가능성이 높은 서브셋이 어떤 것인지 검토하여 예측 변수를 선택한ㄴ 방법 사용\n",
    "* 너무 단순한 모델(과소적합 모델)을 선택해 중요한 변수들을 누락한다거나 반대로 너무 복잡한 모델(과적합 모델)을 선택하여 노이즈까지 학습하지 않도록 주의\n",
    "* 모델을 평가 및 비교 기준은 학습 데이터셋에 대한 적합\n",
    "* 수정 결정 계수\n",
    "* AIC= n ln(SSE/n) + n(1+ln(2pi))+2(p+1)\n",
    "* BIC"
   ]
  },
  {
   "cell_type": "code",
   "execution_count": null,
   "id": "43ea92c3",
   "metadata": {},
   "outputs": [],
   "source": []
  }
 ],
 "metadata": {
  "kernelspec": {
   "display_name": "Python 3 (ipykernel)",
   "language": "python",
   "name": "python3"
  },
  "language_info": {
   "codemirror_mode": {
    "name": "ipython",
    "version": 3
   },
   "file_extension": ".py",
   "mimetype": "text/x-python",
   "name": "python",
   "nbconvert_exporter": "python",
   "pygments_lexer": "ipython3",
   "version": "3.9.13"
  }
 },
 "nbformat": 4,
 "nbformat_minor": 5
}