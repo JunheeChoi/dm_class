{
 "cells": [
  {
   "cell_type": "markdown",
   "id": "33d1c570",
   "metadata": {
    "pycharm": {
     "name": "#%% md\n"
    }
   },
   "source": [
    "# Datamining Class"
   ]
  },
  {
   "cell_type": "markdown",
   "id": "76c48f23",
   "metadata": {
    "pycharm": {
     "name": "#%% md\n"
    }
   },
   "source": [
    "# 차원 축소"
   ]
  },
  {
   "cell_type": "code",
   "execution_count": 2,
   "outputs": [],
   "source": [
    "import pandas as pd\n",
    "import numpy as np\n",
    "from sklearn.decomposition import PCA\n",
    "from sklearn import preprocessing\n",
    "import matplotlib.pylab as plt"
   ],
   "metadata": {
    "collapsed": false,
    "pycharm": {
     "name": "#%%\n"
    }
   }
  },
  {
   "cell_type": "markdown",
   "source": [
    "## 데이터 요약과 차원 축소\n",
    "### 데이터 요약\n",
    "* 데이터 요약은 데이터 탐색의 중요한 구성 요소\n",
    "* 요약 통계(평균, 중앙값 등) 및 그래픽 요약\n",
    "* 일반적인 요약 통계\n",
    "- 평균, 중앙값, 최소값, 최댓값, 표준편차, 개수 및 백분율\n",
    "\n",
    "### 차원 축소\n",
    "* 고차원의 원본 데이터를 저차원의 부분 공간으로 투영하여 데이터를 축소하는 방법\n",
    "* 정확도의 희생을 최소로 하여 독립 변수 또는 입력 변수의 차원을 축소하는 방법을 찾는 것\n",
    "* 요인 선택 또는 특징 추출\n",
    "* 데이터의 정보를 더 작은 하위 집합으로 압축하는 데 유용\n",
    "* 유사한 범주를 결합하여 범주형 변수를 줄일 수 있음"
   ],
   "metadata": {
    "collapsed": false,
    "pycharm": {
     "name": "#%% md\n"
    }
   }
  },
  {
   "cell_type": "markdown",
   "source": [
    "### 차원 축소 방법\n",
    "* 주어진 데이터에 도메인 지식을 적용해 범주를 제거하거나 결합하기\n",
    "* 데이터 요약을 사용해 변수 간 중복 정보를 검출하고 불필요한 변수 및 범주를 제거하거나 합치기\n",
    "* 데이터 변환 기술을 사용해 범주형 변수를 수치형 변수로 변환하기\n",
    "* 주성분 분석(PCA) 같은 자동화된 차원 축소 기술을 사용하기\n",
    "- 주성분 분석은 원래 수치 데이터셋을 더 적은 변수에 대부분의 원래 정보를 포함하는 원래 데이터의 더 작은 가중 셋으로 변환"
   ],
   "metadata": {
    "collapsed": false,
    "pycharm": {
     "name": "#%% md\n"
    }
   }
  },
  {
   "cell_type": "code",
   "execution_count": 4,
   "outputs": [
    {
     "data": {
      "text/plain": "      CRIM    ZN  INDUS  CHAS    NOX     RM   AGE     DIS  RAD  TAX  PTRATIO  \\\n0  0.00632  18.0   2.31     0  0.538  6.575  65.2  4.0900    1  296     15.3   \n1  0.02731   0.0   7.07     0  0.469  6.421  78.9  4.9671    2  242     17.8   \n2  0.02729   0.0   7.07     0  0.469  7.185  61.1  4.9671    2  242     17.8   \n3  0.03237   0.0   2.18     0  0.458  6.998  45.8  6.0622    3  222     18.7   \n4  0.06905   0.0   2.18     0  0.458  7.147  54.2  6.0622    3  222     18.7   \n\n   LSTAT  MEDV  CAT_MEDV  \n0   4.98  24.0         0  \n1   9.14  21.6         0  \n2   4.03  34.7         1  \n3   2.94  33.4         1  \n4   5.33  36.2         1  ",
      "text/html": "<div>\n<style scoped>\n    .dataframe tbody tr th:only-of-type {\n        vertical-align: middle;\n    }\n\n    .dataframe tbody tr th {\n        vertical-align: top;\n    }\n\n    .dataframe thead th {\n        text-align: right;\n    }\n</style>\n<table border=\"1\" class=\"dataframe\">\n  <thead>\n    <tr style=\"text-align: right;\">\n      <th></th>\n      <th>CRIM</th>\n      <th>ZN</th>\n      <th>INDUS</th>\n      <th>CHAS</th>\n      <th>NOX</th>\n      <th>RM</th>\n      <th>AGE</th>\n      <th>DIS</th>\n      <th>RAD</th>\n      <th>TAX</th>\n      <th>PTRATIO</th>\n      <th>LSTAT</th>\n      <th>MEDV</th>\n      <th>CAT_MEDV</th>\n    </tr>\n  </thead>\n  <tbody>\n    <tr>\n      <th>0</th>\n      <td>0.00632</td>\n      <td>18.0</td>\n      <td>2.31</td>\n      <td>0</td>\n      <td>0.538</td>\n      <td>6.575</td>\n      <td>65.2</td>\n      <td>4.0900</td>\n      <td>1</td>\n      <td>296</td>\n      <td>15.3</td>\n      <td>4.98</td>\n      <td>24.0</td>\n      <td>0</td>\n    </tr>\n    <tr>\n      <th>1</th>\n      <td>0.02731</td>\n      <td>0.0</td>\n      <td>7.07</td>\n      <td>0</td>\n      <td>0.469</td>\n      <td>6.421</td>\n      <td>78.9</td>\n      <td>4.9671</td>\n      <td>2</td>\n      <td>242</td>\n      <td>17.8</td>\n      <td>9.14</td>\n      <td>21.6</td>\n      <td>0</td>\n    </tr>\n    <tr>\n      <th>2</th>\n      <td>0.02729</td>\n      <td>0.0</td>\n      <td>7.07</td>\n      <td>0</td>\n      <td>0.469</td>\n      <td>7.185</td>\n      <td>61.1</td>\n      <td>4.9671</td>\n      <td>2</td>\n      <td>242</td>\n      <td>17.8</td>\n      <td>4.03</td>\n      <td>34.7</td>\n      <td>1</td>\n    </tr>\n    <tr>\n      <th>3</th>\n      <td>0.03237</td>\n      <td>0.0</td>\n      <td>2.18</td>\n      <td>0</td>\n      <td>0.458</td>\n      <td>6.998</td>\n      <td>45.8</td>\n      <td>6.0622</td>\n      <td>3</td>\n      <td>222</td>\n      <td>18.7</td>\n      <td>2.94</td>\n      <td>33.4</td>\n      <td>1</td>\n    </tr>\n    <tr>\n      <th>4</th>\n      <td>0.06905</td>\n      <td>0.0</td>\n      <td>2.18</td>\n      <td>0</td>\n      <td>0.458</td>\n      <td>7.147</td>\n      <td>54.2</td>\n      <td>6.0622</td>\n      <td>3</td>\n      <td>222</td>\n      <td>18.7</td>\n      <td>5.33</td>\n      <td>36.2</td>\n      <td>1</td>\n    </tr>\n  </tbody>\n</table>\n</div>"
     },
     "execution_count": 4,
     "metadata": {},
     "output_type": "execute_result"
    }
   ],
   "source": [
    "boston_df = pd.read_csv('https://raw.githubusercontent.com/reisanar/datasets/master/BostonHousing.csv')\n",
    "boston_df = boston_df.rename(columns = {'CAT. MEDV': 'CAT_MEDV'})\n",
    "boston_df.head()"
   ],
   "metadata": {
    "collapsed": false,
    "pycharm": {
     "name": "#%%\n"
    }
   }
  },
  {
   "cell_type": "code",
   "execution_count": 5,
   "outputs": [
    {
     "data": {
      "text/plain": "             CRIM          ZN       INDUS        CHAS         NOX          RM  \\\ncount  506.000000  506.000000  506.000000  506.000000  506.000000  506.000000   \nmean     3.613524   11.363636   11.136779    0.069170    0.554695    6.284634   \nstd      8.601545   23.322453    6.860353    0.253994    0.115878    0.702617   \nmin      0.006320    0.000000    0.460000    0.000000    0.385000    3.561000   \n25%      0.082045    0.000000    5.190000    0.000000    0.449000    5.885500   \n50%      0.256510    0.000000    9.690000    0.000000    0.538000    6.208500   \n75%      3.677083   12.500000   18.100000    0.000000    0.624000    6.623500   \nmax     88.976200  100.000000   27.740000    1.000000    0.871000    8.780000   \n\n              AGE         DIS         RAD         TAX     PTRATIO       LSTAT  \\\ncount  506.000000  506.000000  506.000000  506.000000  506.000000  506.000000   \nmean    68.574901    3.795043    9.549407  408.237154   18.455534   12.653063   \nstd     28.148861    2.105710    8.707259  168.537116    2.164946    7.141062   \nmin      2.900000    1.129600    1.000000  187.000000   12.600000    1.730000   \n25%     45.025000    2.100175    4.000000  279.000000   17.400000    6.950000   \n50%     77.500000    3.207450    5.000000  330.000000   19.050000   11.360000   \n75%     94.075000    5.188425   24.000000  666.000000   20.200000   16.955000   \nmax    100.000000   12.126500   24.000000  711.000000   22.000000   37.970000   \n\n             MEDV    CAT_MEDV  \ncount  506.000000  506.000000  \nmean    22.532806    0.166008  \nstd      9.197104    0.372456  \nmin      5.000000    0.000000  \n25%     17.025000    0.000000  \n50%     21.200000    0.000000  \n75%     25.000000    0.000000  \nmax     50.000000    1.000000  ",
      "text/html": "<div>\n<style scoped>\n    .dataframe tbody tr th:only-of-type {\n        vertical-align: middle;\n    }\n\n    .dataframe tbody tr th {\n        vertical-align: top;\n    }\n\n    .dataframe thead th {\n        text-align: right;\n    }\n</style>\n<table border=\"1\" class=\"dataframe\">\n  <thead>\n    <tr style=\"text-align: right;\">\n      <th></th>\n      <th>CRIM</th>\n      <th>ZN</th>\n      <th>INDUS</th>\n      <th>CHAS</th>\n      <th>NOX</th>\n      <th>RM</th>\n      <th>AGE</th>\n      <th>DIS</th>\n      <th>RAD</th>\n      <th>TAX</th>\n      <th>PTRATIO</th>\n      <th>LSTAT</th>\n      <th>MEDV</th>\n      <th>CAT_MEDV</th>\n    </tr>\n  </thead>\n  <tbody>\n    <tr>\n      <th>count</th>\n      <td>506.000000</td>\n      <td>506.000000</td>\n      <td>506.000000</td>\n      <td>506.000000</td>\n      <td>506.000000</td>\n      <td>506.000000</td>\n      <td>506.000000</td>\n      <td>506.000000</td>\n      <td>506.000000</td>\n      <td>506.000000</td>\n      <td>506.000000</td>\n      <td>506.000000</td>\n      <td>506.000000</td>\n      <td>506.000000</td>\n    </tr>\n    <tr>\n      <th>mean</th>\n      <td>3.613524</td>\n      <td>11.363636</td>\n      <td>11.136779</td>\n      <td>0.069170</td>\n      <td>0.554695</td>\n      <td>6.284634</td>\n      <td>68.574901</td>\n      <td>3.795043</td>\n      <td>9.549407</td>\n      <td>408.237154</td>\n      <td>18.455534</td>\n      <td>12.653063</td>\n      <td>22.532806</td>\n      <td>0.166008</td>\n    </tr>\n    <tr>\n      <th>std</th>\n      <td>8.601545</td>\n      <td>23.322453</td>\n      <td>6.860353</td>\n      <td>0.253994</td>\n      <td>0.115878</td>\n      <td>0.702617</td>\n      <td>28.148861</td>\n      <td>2.105710</td>\n      <td>8.707259</td>\n      <td>168.537116</td>\n      <td>2.164946</td>\n      <td>7.141062</td>\n      <td>9.197104</td>\n      <td>0.372456</td>\n    </tr>\n    <tr>\n      <th>min</th>\n      <td>0.006320</td>\n      <td>0.000000</td>\n      <td>0.460000</td>\n      <td>0.000000</td>\n      <td>0.385000</td>\n      <td>3.561000</td>\n      <td>2.900000</td>\n      <td>1.129600</td>\n      <td>1.000000</td>\n      <td>187.000000</td>\n      <td>12.600000</td>\n      <td>1.730000</td>\n      <td>5.000000</td>\n      <td>0.000000</td>\n    </tr>\n    <tr>\n      <th>25%</th>\n      <td>0.082045</td>\n      <td>0.000000</td>\n      <td>5.190000</td>\n      <td>0.000000</td>\n      <td>0.449000</td>\n      <td>5.885500</td>\n      <td>45.025000</td>\n      <td>2.100175</td>\n      <td>4.000000</td>\n      <td>279.000000</td>\n      <td>17.400000</td>\n      <td>6.950000</td>\n      <td>17.025000</td>\n      <td>0.000000</td>\n    </tr>\n    <tr>\n      <th>50%</th>\n      <td>0.256510</td>\n      <td>0.000000</td>\n      <td>9.690000</td>\n      <td>0.000000</td>\n      <td>0.538000</td>\n      <td>6.208500</td>\n      <td>77.500000</td>\n      <td>3.207450</td>\n      <td>5.000000</td>\n      <td>330.000000</td>\n      <td>19.050000</td>\n      <td>11.360000</td>\n      <td>21.200000</td>\n      <td>0.000000</td>\n    </tr>\n    <tr>\n      <th>75%</th>\n      <td>3.677083</td>\n      <td>12.500000</td>\n      <td>18.100000</td>\n      <td>0.000000</td>\n      <td>0.624000</td>\n      <td>6.623500</td>\n      <td>94.075000</td>\n      <td>5.188425</td>\n      <td>24.000000</td>\n      <td>666.000000</td>\n      <td>20.200000</td>\n      <td>16.955000</td>\n      <td>25.000000</td>\n      <td>0.000000</td>\n    </tr>\n    <tr>\n      <th>max</th>\n      <td>88.976200</td>\n      <td>100.000000</td>\n      <td>27.740000</td>\n      <td>1.000000</td>\n      <td>0.871000</td>\n      <td>8.780000</td>\n      <td>100.000000</td>\n      <td>12.126500</td>\n      <td>24.000000</td>\n      <td>711.000000</td>\n      <td>22.000000</td>\n      <td>37.970000</td>\n      <td>50.000000</td>\n      <td>1.000000</td>\n    </tr>\n  </tbody>\n</table>\n</div>"
     },
     "execution_count": 5,
     "metadata": {},
     "output_type": "execute_result"
    }
   ],
   "source": [
    "boston_df.describe()"
   ],
   "metadata": {
    "collapsed": false,
    "pycharm": {
     "name": "#%%\n"
    }
   }
  },
  {
   "cell_type": "code",
   "execution_count": 8,
   "outputs": [
    {
     "name": "stdout",
     "output_type": "stream",
     "text": [
      "Mean:  3.613523557312254\n",
      "Std. dev boston_df.CRIM.std()\n",
      "Min:  boston_df.CRIM.min()\n",
      "Max:  boston_df.CRIM.max()\n",
      "Median:  boston_df.CRIM.median()\n",
      "Length:  506 \n",
      "\n",
      "Number of missing Values :  0\n"
     ]
    }
   ],
   "source": [
    "print('Mean: ', boston_df.CRIM.mean())\n",
    "print('Std. dev', 'boston_df.CRIM.std()')\n",
    "print('Min: ', 'boston_df.CRIM.min()')\n",
    "print('Max: ', 'boston_df.CRIM.max()')\n",
    "print('Median: ', 'boston_df.CRIM.median()')\n",
    "print('Length: ', len(boston_df.CRIM),'\\n')\n",
    "\n",
    "print('Number of missing Values : ', boston_df.CRIM.isnull().sum())"
   ],
   "metadata": {
    "collapsed": false,
    "pycharm": {
     "name": "#%%\n"
    }
   }
  },
  {
   "cell_type": "code",
   "execution_count": 11,
   "outputs": [
    {
     "data": {
      "text/plain": "                mean          sd        min       max     median  length  \\\nCRIM        3.613524    8.601545    0.00632   88.9762    0.25651     506   \nZN         11.363636   23.322453    0.00000  100.0000    0.00000     506   \nINDUS      11.136779    6.860353    0.46000   27.7400    9.69000     506   \nCHAS        0.069170    0.253994    0.00000    1.0000    0.00000     506   \nNOX         0.554695    0.115878    0.38500    0.8710    0.53800     506   \nRM          6.284634    0.702617    3.56100    8.7800    6.20850     506   \nAGE        68.574901   28.148861    2.90000  100.0000   77.50000     506   \nDIS         3.795043    2.105710    1.12960   12.1265    3.20745     506   \nRAD         9.549407    8.707259    1.00000   24.0000    5.00000     506   \nTAX       408.237154  168.537116  187.00000  711.0000  330.00000     506   \nPTRATIO    18.455534    2.164946   12.60000   22.0000   19.05000     506   \nLSTAT      12.653063    7.141062    1.73000   37.9700   11.36000     506   \nMEDV       22.532806    9.197104    5.00000   50.0000   21.20000     506   \nCAT_MEDV    0.166008    0.372456    0.00000    1.0000    0.00000     506   \n\n          miss.val  \nCRIM             0  \nZN               0  \nINDUS            0  \nCHAS             0  \nNOX              0  \nRM               0  \nAGE              0  \nDIS              0  \nRAD              0  \nTAX              0  \nPTRATIO          0  \nLSTAT            0  \nMEDV             0  \nCAT_MEDV         0  ",
      "text/html": "<div>\n<style scoped>\n    .dataframe tbody tr th:only-of-type {\n        vertical-align: middle;\n    }\n\n    .dataframe tbody tr th {\n        vertical-align: top;\n    }\n\n    .dataframe thead th {\n        text-align: right;\n    }\n</style>\n<table border=\"1\" class=\"dataframe\">\n  <thead>\n    <tr style=\"text-align: right;\">\n      <th></th>\n      <th>mean</th>\n      <th>sd</th>\n      <th>min</th>\n      <th>max</th>\n      <th>median</th>\n      <th>length</th>\n      <th>miss.val</th>\n    </tr>\n  </thead>\n  <tbody>\n    <tr>\n      <th>CRIM</th>\n      <td>3.613524</td>\n      <td>8.601545</td>\n      <td>0.00632</td>\n      <td>88.9762</td>\n      <td>0.25651</td>\n      <td>506</td>\n      <td>0</td>\n    </tr>\n    <tr>\n      <th>ZN</th>\n      <td>11.363636</td>\n      <td>23.322453</td>\n      <td>0.00000</td>\n      <td>100.0000</td>\n      <td>0.00000</td>\n      <td>506</td>\n      <td>0</td>\n    </tr>\n    <tr>\n      <th>INDUS</th>\n      <td>11.136779</td>\n      <td>6.860353</td>\n      <td>0.46000</td>\n      <td>27.7400</td>\n      <td>9.69000</td>\n      <td>506</td>\n      <td>0</td>\n    </tr>\n    <tr>\n      <th>CHAS</th>\n      <td>0.069170</td>\n      <td>0.253994</td>\n      <td>0.00000</td>\n      <td>1.0000</td>\n      <td>0.00000</td>\n      <td>506</td>\n      <td>0</td>\n    </tr>\n    <tr>\n      <th>NOX</th>\n      <td>0.554695</td>\n      <td>0.115878</td>\n      <td>0.38500</td>\n      <td>0.8710</td>\n      <td>0.53800</td>\n      <td>506</td>\n      <td>0</td>\n    </tr>\n    <tr>\n      <th>RM</th>\n      <td>6.284634</td>\n      <td>0.702617</td>\n      <td>3.56100</td>\n      <td>8.7800</td>\n      <td>6.20850</td>\n      <td>506</td>\n      <td>0</td>\n    </tr>\n    <tr>\n      <th>AGE</th>\n      <td>68.574901</td>\n      <td>28.148861</td>\n      <td>2.90000</td>\n      <td>100.0000</td>\n      <td>77.50000</td>\n      <td>506</td>\n      <td>0</td>\n    </tr>\n    <tr>\n      <th>DIS</th>\n      <td>3.795043</td>\n      <td>2.105710</td>\n      <td>1.12960</td>\n      <td>12.1265</td>\n      <td>3.20745</td>\n      <td>506</td>\n      <td>0</td>\n    </tr>\n    <tr>\n      <th>RAD</th>\n      <td>9.549407</td>\n      <td>8.707259</td>\n      <td>1.00000</td>\n      <td>24.0000</td>\n      <td>5.00000</td>\n      <td>506</td>\n      <td>0</td>\n    </tr>\n    <tr>\n      <th>TAX</th>\n      <td>408.237154</td>\n      <td>168.537116</td>\n      <td>187.00000</td>\n      <td>711.0000</td>\n      <td>330.00000</td>\n      <td>506</td>\n      <td>0</td>\n    </tr>\n    <tr>\n      <th>PTRATIO</th>\n      <td>18.455534</td>\n      <td>2.164946</td>\n      <td>12.60000</td>\n      <td>22.0000</td>\n      <td>19.05000</td>\n      <td>506</td>\n      <td>0</td>\n    </tr>\n    <tr>\n      <th>LSTAT</th>\n      <td>12.653063</td>\n      <td>7.141062</td>\n      <td>1.73000</td>\n      <td>37.9700</td>\n      <td>11.36000</td>\n      <td>506</td>\n      <td>0</td>\n    </tr>\n    <tr>\n      <th>MEDV</th>\n      <td>22.532806</td>\n      <td>9.197104</td>\n      <td>5.00000</td>\n      <td>50.0000</td>\n      <td>21.20000</td>\n      <td>506</td>\n      <td>0</td>\n    </tr>\n    <tr>\n      <th>CAT_MEDV</th>\n      <td>0.166008</td>\n      <td>0.372456</td>\n      <td>0.00000</td>\n      <td>1.0000</td>\n      <td>0.00000</td>\n      <td>506</td>\n      <td>0</td>\n    </tr>\n  </tbody>\n</table>\n</div>"
     },
     "execution_count": 11,
     "metadata": {},
     "output_type": "execute_result"
    }
   ],
   "source": [
    "# 요약 통계\n",
    "pd.DataFrame({'mean' : boston_df.mean(),\n",
    "              'sd': boston_df.std(),\n",
    "              'min': boston_df.min(),\n",
    "              'max': boston_df.max(),\n",
    "              'median': boston_df.median(),\n",
    "              'length': len(boston_df),\n",
    "              'miss.val': boston_df.isnull().sum()})"
   ],
   "metadata": {
    "collapsed": false,
    "pycharm": {
     "name": "#%%\n"
    }
   }
  },
  {
   "cell_type": "code",
   "execution_count": 12,
   "outputs": [
    {
     "data": {
      "text/plain": "           CRIM     ZN  INDUS   CHAS    NOX     RM    AGE    DIS    RAD  \\\nCRIM      1.000 -0.200  0.407 -0.056  0.421 -0.219  0.353 -0.380  0.626   \nZN       -0.200  1.000 -0.534 -0.043 -0.517  0.312 -0.570  0.664 -0.312   \nINDUS     0.407 -0.534  1.000  0.063  0.764 -0.392  0.645 -0.708  0.595   \nCHAS     -0.056 -0.043  0.063  1.000  0.091  0.091  0.087 -0.099 -0.007   \nNOX       0.421 -0.517  0.764  0.091  1.000 -0.302  0.731 -0.769  0.611   \nRM       -0.219  0.312 -0.392  0.091 -0.302  1.000 -0.240  0.205 -0.210   \nAGE       0.353 -0.570  0.645  0.087  0.731 -0.240  1.000 -0.748  0.456   \nDIS      -0.380  0.664 -0.708 -0.099 -0.769  0.205 -0.748  1.000 -0.495   \nRAD       0.626 -0.312  0.595 -0.007  0.611 -0.210  0.456 -0.495  1.000   \nTAX       0.583 -0.315  0.721 -0.036  0.668 -0.292  0.506 -0.534  0.910   \nPTRATIO   0.290 -0.392  0.383 -0.122  0.189 -0.356  0.262 -0.232  0.465   \nLSTAT     0.456 -0.413  0.604 -0.054  0.591 -0.614  0.602 -0.497  0.489   \nMEDV     -0.388  0.360 -0.484  0.175 -0.427  0.695 -0.377  0.250 -0.382   \nCAT_MEDV -0.152  0.365 -0.366  0.109 -0.233  0.641 -0.191  0.119 -0.198   \n\n            TAX  PTRATIO  LSTAT   MEDV  CAT_MEDV  \nCRIM      0.583    0.290  0.456 -0.388    -0.152  \nZN       -0.315   -0.392 -0.413  0.360     0.365  \nINDUS     0.721    0.383  0.604 -0.484    -0.366  \nCHAS     -0.036   -0.122 -0.054  0.175     0.109  \nNOX       0.668    0.189  0.591 -0.427    -0.233  \nRM       -0.292   -0.356 -0.614  0.695     0.641  \nAGE       0.506    0.262  0.602 -0.377    -0.191  \nDIS      -0.534   -0.232 -0.497  0.250     0.119  \nRAD       0.910    0.465  0.489 -0.382    -0.198  \nTAX       1.000    0.461  0.544 -0.469    -0.274  \nPTRATIO   0.461    1.000  0.374 -0.508    -0.443  \nLSTAT     0.544    0.374  1.000 -0.738    -0.470  \nMEDV     -0.469   -0.508 -0.738  1.000     0.790  \nCAT_MEDV -0.274   -0.443 -0.470  0.790     1.000  ",
      "text/html": "<div>\n<style scoped>\n    .dataframe tbody tr th:only-of-type {\n        vertical-align: middle;\n    }\n\n    .dataframe tbody tr th {\n        vertical-align: top;\n    }\n\n    .dataframe thead th {\n        text-align: right;\n    }\n</style>\n<table border=\"1\" class=\"dataframe\">\n  <thead>\n    <tr style=\"text-align: right;\">\n      <th></th>\n      <th>CRIM</th>\n      <th>ZN</th>\n      <th>INDUS</th>\n      <th>CHAS</th>\n      <th>NOX</th>\n      <th>RM</th>\n      <th>AGE</th>\n      <th>DIS</th>\n      <th>RAD</th>\n      <th>TAX</th>\n      <th>PTRATIO</th>\n      <th>LSTAT</th>\n      <th>MEDV</th>\n      <th>CAT_MEDV</th>\n    </tr>\n  </thead>\n  <tbody>\n    <tr>\n      <th>CRIM</th>\n      <td>1.000</td>\n      <td>-0.200</td>\n      <td>0.407</td>\n      <td>-0.056</td>\n      <td>0.421</td>\n      <td>-0.219</td>\n      <td>0.353</td>\n      <td>-0.380</td>\n      <td>0.626</td>\n      <td>0.583</td>\n      <td>0.290</td>\n      <td>0.456</td>\n      <td>-0.388</td>\n      <td>-0.152</td>\n    </tr>\n    <tr>\n      <th>ZN</th>\n      <td>-0.200</td>\n      <td>1.000</td>\n      <td>-0.534</td>\n      <td>-0.043</td>\n      <td>-0.517</td>\n      <td>0.312</td>\n      <td>-0.570</td>\n      <td>0.664</td>\n      <td>-0.312</td>\n      <td>-0.315</td>\n      <td>-0.392</td>\n      <td>-0.413</td>\n      <td>0.360</td>\n      <td>0.365</td>\n    </tr>\n    <tr>\n      <th>INDUS</th>\n      <td>0.407</td>\n      <td>-0.534</td>\n      <td>1.000</td>\n      <td>0.063</td>\n      <td>0.764</td>\n      <td>-0.392</td>\n      <td>0.645</td>\n      <td>-0.708</td>\n      <td>0.595</td>\n      <td>0.721</td>\n      <td>0.383</td>\n      <td>0.604</td>\n      <td>-0.484</td>\n      <td>-0.366</td>\n    </tr>\n    <tr>\n      <th>CHAS</th>\n      <td>-0.056</td>\n      <td>-0.043</td>\n      <td>0.063</td>\n      <td>1.000</td>\n      <td>0.091</td>\n      <td>0.091</td>\n      <td>0.087</td>\n      <td>-0.099</td>\n      <td>-0.007</td>\n      <td>-0.036</td>\n      <td>-0.122</td>\n      <td>-0.054</td>\n      <td>0.175</td>\n      <td>0.109</td>\n    </tr>\n    <tr>\n      <th>NOX</th>\n      <td>0.421</td>\n      <td>-0.517</td>\n      <td>0.764</td>\n      <td>0.091</td>\n      <td>1.000</td>\n      <td>-0.302</td>\n      <td>0.731</td>\n      <td>-0.769</td>\n      <td>0.611</td>\n      <td>0.668</td>\n      <td>0.189</td>\n      <td>0.591</td>\n      <td>-0.427</td>\n      <td>-0.233</td>\n    </tr>\n    <tr>\n      <th>RM</th>\n      <td>-0.219</td>\n      <td>0.312</td>\n      <td>-0.392</td>\n      <td>0.091</td>\n      <td>-0.302</td>\n      <td>1.000</td>\n      <td>-0.240</td>\n      <td>0.205</td>\n      <td>-0.210</td>\n      <td>-0.292</td>\n      <td>-0.356</td>\n      <td>-0.614</td>\n      <td>0.695</td>\n      <td>0.641</td>\n    </tr>\n    <tr>\n      <th>AGE</th>\n      <td>0.353</td>\n      <td>-0.570</td>\n      <td>0.645</td>\n      <td>0.087</td>\n      <td>0.731</td>\n      <td>-0.240</td>\n      <td>1.000</td>\n      <td>-0.748</td>\n      <td>0.456</td>\n      <td>0.506</td>\n      <td>0.262</td>\n      <td>0.602</td>\n      <td>-0.377</td>\n      <td>-0.191</td>\n    </tr>\n    <tr>\n      <th>DIS</th>\n      <td>-0.380</td>\n      <td>0.664</td>\n      <td>-0.708</td>\n      <td>-0.099</td>\n      <td>-0.769</td>\n      <td>0.205</td>\n      <td>-0.748</td>\n      <td>1.000</td>\n      <td>-0.495</td>\n      <td>-0.534</td>\n      <td>-0.232</td>\n      <td>-0.497</td>\n      <td>0.250</td>\n      <td>0.119</td>\n    </tr>\n    <tr>\n      <th>RAD</th>\n      <td>0.626</td>\n      <td>-0.312</td>\n      <td>0.595</td>\n      <td>-0.007</td>\n      <td>0.611</td>\n      <td>-0.210</td>\n      <td>0.456</td>\n      <td>-0.495</td>\n      <td>1.000</td>\n      <td>0.910</td>\n      <td>0.465</td>\n      <td>0.489</td>\n      <td>-0.382</td>\n      <td>-0.198</td>\n    </tr>\n    <tr>\n      <th>TAX</th>\n      <td>0.583</td>\n      <td>-0.315</td>\n      <td>0.721</td>\n      <td>-0.036</td>\n      <td>0.668</td>\n      <td>-0.292</td>\n      <td>0.506</td>\n      <td>-0.534</td>\n      <td>0.910</td>\n      <td>1.000</td>\n      <td>0.461</td>\n      <td>0.544</td>\n      <td>-0.469</td>\n      <td>-0.274</td>\n    </tr>\n    <tr>\n      <th>PTRATIO</th>\n      <td>0.290</td>\n      <td>-0.392</td>\n      <td>0.383</td>\n      <td>-0.122</td>\n      <td>0.189</td>\n      <td>-0.356</td>\n      <td>0.262</td>\n      <td>-0.232</td>\n      <td>0.465</td>\n      <td>0.461</td>\n      <td>1.000</td>\n      <td>0.374</td>\n      <td>-0.508</td>\n      <td>-0.443</td>\n    </tr>\n    <tr>\n      <th>LSTAT</th>\n      <td>0.456</td>\n      <td>-0.413</td>\n      <td>0.604</td>\n      <td>-0.054</td>\n      <td>0.591</td>\n      <td>-0.614</td>\n      <td>0.602</td>\n      <td>-0.497</td>\n      <td>0.489</td>\n      <td>0.544</td>\n      <td>0.374</td>\n      <td>1.000</td>\n      <td>-0.738</td>\n      <td>-0.470</td>\n    </tr>\n    <tr>\n      <th>MEDV</th>\n      <td>-0.388</td>\n      <td>0.360</td>\n      <td>-0.484</td>\n      <td>0.175</td>\n      <td>-0.427</td>\n      <td>0.695</td>\n      <td>-0.377</td>\n      <td>0.250</td>\n      <td>-0.382</td>\n      <td>-0.469</td>\n      <td>-0.508</td>\n      <td>-0.738</td>\n      <td>1.000</td>\n      <td>0.790</td>\n    </tr>\n    <tr>\n      <th>CAT_MEDV</th>\n      <td>-0.152</td>\n      <td>0.365</td>\n      <td>-0.366</td>\n      <td>0.109</td>\n      <td>-0.233</td>\n      <td>0.641</td>\n      <td>-0.191</td>\n      <td>0.119</td>\n      <td>-0.198</td>\n      <td>-0.274</td>\n      <td>-0.443</td>\n      <td>-0.470</td>\n      <td>0.790</td>\n      <td>1.000</td>\n    </tr>\n  </tbody>\n</table>\n</div>"
     },
     "execution_count": 12,
     "metadata": {},
     "output_type": "execute_result"
    }
   ],
   "source": [
    "boston_df.corr().round(3)"
   ],
   "metadata": {
    "collapsed": false,
    "pycharm": {
     "name": "#%%\n"
    }
   }
  },
  {
   "cell_type": "code",
   "execution_count": 13,
   "outputs": [
    {
     "data": {
      "text/plain": "0    471\n1     35\nName: CHAS, dtype: int64"
     },
     "execution_count": 13,
     "metadata": {},
     "output_type": "execute_result"
    }
   ],
   "source": [
    "boston_df.CHAS.value_counts()\n",
    "# value_counts 변수 하나로 취합 가능\n",
    "# 35개 지역은 CHAS 값이 1 -> 찰스 강 경계에 인접"
   ],
   "metadata": {
    "collapsed": false,
    "pycharm": {
     "name": "#%%\n"
    }
   }
  },
  {
   "cell_type": "code",
   "execution_count": 14,
   "outputs": [
    {
     "data": {
      "text/plain": "      CRIM    ZN  INDUS  CHAS    NOX     RM   AGE     DIS  RAD  TAX  PTRATIO  \\\n0  0.00632  18.0   2.31     0  0.538  6.575  65.2  4.0900    1  296     15.3   \n1  0.02731   0.0   7.07     0  0.469  6.421  78.9  4.9671    2  242     17.8   \n2  0.02729   0.0   7.07     0  0.469  7.185  61.1  4.9671    2  242     17.8   \n3  0.03237   0.0   2.18     0  0.458  6.998  45.8  6.0622    3  222     18.7   \n4  0.06905   0.0   2.18     0  0.458  7.147  54.2  6.0622    3  222     18.7   \n\n   LSTAT  MEDV  CAT_MEDV  RM_bin  \n0   4.98  24.0         0       6  \n1   9.14  21.6         0       6  \n2   4.03  34.7         1       7  \n3   2.94  33.4         1       6  \n4   5.33  36.2         1       7  ",
      "text/html": "<div>\n<style scoped>\n    .dataframe tbody tr th:only-of-type {\n        vertical-align: middle;\n    }\n\n    .dataframe tbody tr th {\n        vertical-align: top;\n    }\n\n    .dataframe thead th {\n        text-align: right;\n    }\n</style>\n<table border=\"1\" class=\"dataframe\">\n  <thead>\n    <tr style=\"text-align: right;\">\n      <th></th>\n      <th>CRIM</th>\n      <th>ZN</th>\n      <th>INDUS</th>\n      <th>CHAS</th>\n      <th>NOX</th>\n      <th>RM</th>\n      <th>AGE</th>\n      <th>DIS</th>\n      <th>RAD</th>\n      <th>TAX</th>\n      <th>PTRATIO</th>\n      <th>LSTAT</th>\n      <th>MEDV</th>\n      <th>CAT_MEDV</th>\n      <th>RM_bin</th>\n    </tr>\n  </thead>\n  <tbody>\n    <tr>\n      <th>0</th>\n      <td>0.00632</td>\n      <td>18.0</td>\n      <td>2.31</td>\n      <td>0</td>\n      <td>0.538</td>\n      <td>6.575</td>\n      <td>65.2</td>\n      <td>4.0900</td>\n      <td>1</td>\n      <td>296</td>\n      <td>15.3</td>\n      <td>4.98</td>\n      <td>24.0</td>\n      <td>0</td>\n      <td>6</td>\n    </tr>\n    <tr>\n      <th>1</th>\n      <td>0.02731</td>\n      <td>0.0</td>\n      <td>7.07</td>\n      <td>0</td>\n      <td>0.469</td>\n      <td>6.421</td>\n      <td>78.9</td>\n      <td>4.9671</td>\n      <td>2</td>\n      <td>242</td>\n      <td>17.8</td>\n      <td>9.14</td>\n      <td>21.6</td>\n      <td>0</td>\n      <td>6</td>\n    </tr>\n    <tr>\n      <th>2</th>\n      <td>0.02729</td>\n      <td>0.0</td>\n      <td>7.07</td>\n      <td>0</td>\n      <td>0.469</td>\n      <td>7.185</td>\n      <td>61.1</td>\n      <td>4.9671</td>\n      <td>2</td>\n      <td>242</td>\n      <td>17.8</td>\n      <td>4.03</td>\n      <td>34.7</td>\n      <td>1</td>\n      <td>7</td>\n    </tr>\n    <tr>\n      <th>3</th>\n      <td>0.03237</td>\n      <td>0.0</td>\n      <td>2.18</td>\n      <td>0</td>\n      <td>0.458</td>\n      <td>6.998</td>\n      <td>45.8</td>\n      <td>6.0622</td>\n      <td>3</td>\n      <td>222</td>\n      <td>18.7</td>\n      <td>2.94</td>\n      <td>33.4</td>\n      <td>1</td>\n      <td>6</td>\n    </tr>\n    <tr>\n      <th>4</th>\n      <td>0.06905</td>\n      <td>0.0</td>\n      <td>2.18</td>\n      <td>0</td>\n      <td>0.458</td>\n      <td>7.147</td>\n      <td>54.2</td>\n      <td>6.0622</td>\n      <td>3</td>\n      <td>222</td>\n      <td>18.7</td>\n      <td>5.33</td>\n      <td>36.2</td>\n      <td>1</td>\n      <td>7</td>\n    </tr>\n  </tbody>\n</table>\n</div>"
     },
     "execution_count": 14,
     "metadata": {},
     "output_type": "execute_result"
    }
   ],
   "source": [
    "# pd.cut 메서드를 이용하여 변수에 대해 크기 1의 bin을 생성\n",
    "# 기본적으로 method는 변수형 변수를 생성\n",
    "# 인수 labes = False 는 대신 정수를 결정 예) 6\n",
    "# pd.cut(X, bins, labels), bins = [start, end] => (미포함, 포함)\n",
    "# bin 구간 대비 작거나 큰 수, if bin 첫 번째 구간보다 작으면 --> NaN, 마지막 구간보다 크면 --> NaN\n",
    "boston_df['RM_bin'] = pd.cut(boston_df.RM, range(0,10), labels = False)\n",
    "boston_df.head()"
   ],
   "metadata": {
    "collapsed": false,
    "pycharm": {
     "name": "#%%\n"
    }
   }
  },
  {
   "cell_type": "code",
   "execution_count": 15,
   "outputs": [
    {
     "data": {
      "text/plain": "RM_bin  CHAS\n3       0       25.300000\n4       0       15.407143\n5       0       17.200000\n        1       22.218182\n6       0       21.769170\n        1       25.918750\n7       0       35.964444\n        1       44.066667\n8       0       45.700000\n        1       35.950000\nName: MEDV, dtype: float64"
     },
     "execution_count": 15,
     "metadata": {},
     "output_type": "execute_result"
    }
   ],
   "source": [
    "# 비닝된 RM 및 CHAS로 MEDV의 평균 계산\n",
    "# groupby 방법을 사용하여 데이터 프레임을 groupping한 다음 분석을 MEDV로 제한하고 각 그룹에 대한 평균 결정\n",
    "boston_df.groupby(['RM_bin', 'CHAS'])['MEDV'].mean()"
   ],
   "metadata": {
    "collapsed": false,
    "pycharm": {
     "name": "#%%\n"
    }
   }
  },
  {
   "cell_type": "markdown",
   "source": [
    "## 상관 분석\n",
    "* 변수의 중복 탐지에 좋음\n",
    "* 상관 계수 표에 대한 히트맵을 사용해 강한 상관관계가 있는 변수들을 쉽게 식별 가능"
   ],
   "metadata": {
    "collapsed": false,
    "pycharm": {
     "name": "#%% md\n"
    }
   }
  },
  {
   "cell_type": "markdown",
   "source": [
    "## 피벗 테이블"
   ],
   "metadata": {
    "collapsed": false,
    "pycharm": {
     "name": "#%% md\n"
    }
   }
  },
  {
   "cell_type": "code",
   "execution_count": 17,
   "outputs": [
    {
     "data": {
      "text/plain": "CHAS            0          1        All\nRM_bin                                 \n3       25.300000        NaN  25.300000\n4       15.407143        NaN  15.407143\n5       17.200000  22.218182  17.551592\n6       21.769170  25.918750  22.015985\n7       35.964444  44.066667  36.917647\n8       45.700000  35.950000  44.200000\nAll     22.093843  28.440000  22.532806",
      "text/html": "<div>\n<style scoped>\n    .dataframe tbody tr th:only-of-type {\n        vertical-align: middle;\n    }\n\n    .dataframe tbody tr th {\n        vertical-align: top;\n    }\n\n    .dataframe thead th {\n        text-align: right;\n    }\n</style>\n<table border=\"1\" class=\"dataframe\">\n  <thead>\n    <tr style=\"text-align: right;\">\n      <th>CHAS</th>\n      <th>0</th>\n      <th>1</th>\n      <th>All</th>\n    </tr>\n    <tr>\n      <th>RM_bin</th>\n      <th></th>\n      <th></th>\n      <th></th>\n    </tr>\n  </thead>\n  <tbody>\n    <tr>\n      <th>3</th>\n      <td>25.300000</td>\n      <td>NaN</td>\n      <td>25.300000</td>\n    </tr>\n    <tr>\n      <th>4</th>\n      <td>15.407143</td>\n      <td>NaN</td>\n      <td>15.407143</td>\n    </tr>\n    <tr>\n      <th>5</th>\n      <td>17.200000</td>\n      <td>22.218182</td>\n      <td>17.551592</td>\n    </tr>\n    <tr>\n      <th>6</th>\n      <td>21.769170</td>\n      <td>25.918750</td>\n      <td>22.015985</td>\n    </tr>\n    <tr>\n      <th>7</th>\n      <td>35.964444</td>\n      <td>44.066667</td>\n      <td>36.917647</td>\n    </tr>\n    <tr>\n      <th>8</th>\n      <td>45.700000</td>\n      <td>35.950000</td>\n      <td>44.200000</td>\n    </tr>\n    <tr>\n      <th>All</th>\n      <td>22.093843</td>\n      <td>28.440000</td>\n      <td>22.532806</td>\n    </tr>\n  </tbody>\n</table>\n</div>"
     },
     "execution_count": 17,
     "metadata": {},
     "output_type": "execute_result"
    }
   ],
   "source": [
    "# pivot_table() 함수를 이용해 피벗 테이블 작성\n",
    "pd.pivot_table(boston_df, values = 'MEDV', index = ['RM_bin'], columns = ['CHAS'], aggfunc = np.mean, margins = True)"
   ],
   "metadata": {
    "collapsed": false,
    "pycharm": {
     "name": "#%%\n"
    }
   }
  },
  {
   "cell_type": "code",
   "execution_count": 18,
   "outputs": [],
   "source": [
    "# 찰스강과 접하지 않는 방이 8개인 지역은 medv = 45.7"
   ],
   "metadata": {
    "collapsed": false,
    "pycharm": {
     "name": "#%%\n"
    }
   }
  },
  {
   "cell_type": "code",
   "execution_count": 19,
   "outputs": [
    {
     "name": "stdout",
     "output_type": "stream",
     "text": [
      "  Machine Country Grade  Price  Count\n",
      "0      TV   Korea     A   1000      3\n",
      "1      TV   Korea     B    800      8\n",
      "2      TV   Korea     B    800      2\n",
      "3      TV   Japan     A   1300      5\n",
      "4      TV   Japan     A   1300      1\n",
      "5      PC   Korea     B   1500      6\n",
      "6      PC   Korea     A   2000      9\n",
      "7      PC   Japan     A   3000      3\n",
      "8      PC   Japan     B   2500      3\n"
     ]
    }
   ],
   "source": [
    "col = ['Machine', 'Country','Grade', 'Price', 'Count']\n",
    "data = [['TV', 'Korea', 'A', 1000, 3], ['TV', 'Korea', 'B', 800,8], ['TV', 'Korea', 'B', 800,2], ['TV', 'Japan', 'A', 1300, 5], ['TV', 'Japan', 'A', 1300, 1], ['PC', 'Korea', 'B', 1500, 6], ['PC', 'Korea', 'A', 2000, 9], ['PC', 'Japan', 'A', 3000, 3], ['PC', 'Japan', 'B', 2500, 3]]\n",
    "df = pd.DataFrame(data = data, columns = col)\n",
    "print(df)"
   ],
   "metadata": {
    "collapsed": false,
    "pycharm": {
     "name": "#%%\n"
    }
   }
  },
  {
   "cell_type": "code",
   "execution_count": 24,
   "outputs": [
    {
     "data": {
      "text/plain": "Grade               A     B  All\nMachine Country                 \nPC      Japan     3.0   3.0    6\n        Korea     9.0   6.0   15\nTV      Japan     6.0   NaN    6\n        Korea     3.0  10.0   13\nAll              21.0  19.0   40",
      "text/html": "<div>\n<style scoped>\n    .dataframe tbody tr th:only-of-type {\n        vertical-align: middle;\n    }\n\n    .dataframe tbody tr th {\n        vertical-align: top;\n    }\n\n    .dataframe thead th {\n        text-align: right;\n    }\n</style>\n<table border=\"1\" class=\"dataframe\">\n  <thead>\n    <tr style=\"text-align: right;\">\n      <th></th>\n      <th>Grade</th>\n      <th>A</th>\n      <th>B</th>\n      <th>All</th>\n    </tr>\n    <tr>\n      <th>Machine</th>\n      <th>Country</th>\n      <th></th>\n      <th></th>\n      <th></th>\n    </tr>\n  </thead>\n  <tbody>\n    <tr>\n      <th rowspan=\"2\" valign=\"top\">PC</th>\n      <th>Japan</th>\n      <td>3.0</td>\n      <td>3.0</td>\n      <td>6</td>\n    </tr>\n    <tr>\n      <th>Korea</th>\n      <td>9.0</td>\n      <td>6.0</td>\n      <td>15</td>\n    </tr>\n    <tr>\n      <th rowspan=\"2\" valign=\"top\">TV</th>\n      <th>Japan</th>\n      <td>6.0</td>\n      <td>NaN</td>\n      <td>6</td>\n    </tr>\n    <tr>\n      <th>Korea</th>\n      <td>3.0</td>\n      <td>10.0</td>\n      <td>13</td>\n    </tr>\n    <tr>\n      <th>All</th>\n      <th></th>\n      <td>21.0</td>\n      <td>19.0</td>\n      <td>40</td>\n    </tr>\n  </tbody>\n</table>\n</div>"
     },
     "execution_count": 24,
     "metadata": {},
     "output_type": "execute_result"
    }
   ],
   "source": [
    "# index를 Machine, Country로 하고 columns를 Grade로 설정하고 Count값들을 np.sum으로 합계를 계산한 결과를 Pivot_table()를 사용하여 출력하라.\n",
    "pd.pivot_table(df, values = 'Count' ,index = ['Machine', 'Country'], columns=['Grade'], aggfunc = np.sum, margins = True)"
   ],
   "metadata": {
    "collapsed": false,
    "pycharm": {
     "name": "#%%\n"
    }
   }
  },
  {
   "cell_type": "markdown",
   "source": [
    "## 범주 축소\n",
    "### 교차 분석표(Crosstab)\n",
    "* pandas에서 범주형 데이터 2개를 비교 분석할 때 유용한 표"
   ],
   "metadata": {
    "collapsed": false,
    "pycharm": {
     "name": "#%% md\n"
    }
   }
  },
  {
   "cell_type": "code",
   "execution_count": 25,
   "outputs": [
    {
     "data": {
      "text/plain": "ZN        0.0    12.5   17.5   18.0   20.0   21.0   22.0   25.0   28.0   \\\nCAT_MEDV                                                                  \n0          0.91    1.0    0.0    1.0   0.24    1.0    0.9    1.0    1.0   \n1          0.09    0.0    1.0    0.0   0.76    0.0    0.1    0.0    0.0   \n\nZN        30.0   ...  55.0   60.0   70.0   75.0   80.0   82.5   85.0   90.0   \\\nCAT_MEDV         ...                                                           \n0           1.0  ...   0.67   0.75    1.0   0.33   0.67    0.5    1.0    0.0   \n1           0.0  ...   0.33   0.25    0.0   0.67   0.33    0.5    0.0    1.0   \n\nZN        95.0   100.0  \nCAT_MEDV                \n0           0.0    0.0  \n1           1.0    1.0  \n\n[2 rows x 26 columns]",
      "text/html": "<div>\n<style scoped>\n    .dataframe tbody tr th:only-of-type {\n        vertical-align: middle;\n    }\n\n    .dataframe tbody tr th {\n        vertical-align: top;\n    }\n\n    .dataframe thead th {\n        text-align: right;\n    }\n</style>\n<table border=\"1\" class=\"dataframe\">\n  <thead>\n    <tr style=\"text-align: right;\">\n      <th>ZN</th>\n      <th>0.0</th>\n      <th>12.5</th>\n      <th>17.5</th>\n      <th>18.0</th>\n      <th>20.0</th>\n      <th>21.0</th>\n      <th>22.0</th>\n      <th>25.0</th>\n      <th>28.0</th>\n      <th>30.0</th>\n      <th>...</th>\n      <th>55.0</th>\n      <th>60.0</th>\n      <th>70.0</th>\n      <th>75.0</th>\n      <th>80.0</th>\n      <th>82.5</th>\n      <th>85.0</th>\n      <th>90.0</th>\n      <th>95.0</th>\n      <th>100.0</th>\n    </tr>\n    <tr>\n      <th>CAT_MEDV</th>\n      <th></th>\n      <th></th>\n      <th></th>\n      <th></th>\n      <th></th>\n      <th></th>\n      <th></th>\n      <th></th>\n      <th></th>\n      <th></th>\n      <th></th>\n      <th></th>\n      <th></th>\n      <th></th>\n      <th></th>\n      <th></th>\n      <th></th>\n      <th></th>\n      <th></th>\n      <th></th>\n      <th></th>\n    </tr>\n  </thead>\n  <tbody>\n    <tr>\n      <th>0</th>\n      <td>0.91</td>\n      <td>1.0</td>\n      <td>0.0</td>\n      <td>1.0</td>\n      <td>0.24</td>\n      <td>1.0</td>\n      <td>0.9</td>\n      <td>1.0</td>\n      <td>1.0</td>\n      <td>1.0</td>\n      <td>...</td>\n      <td>0.67</td>\n      <td>0.75</td>\n      <td>1.0</td>\n      <td>0.33</td>\n      <td>0.67</td>\n      <td>0.5</td>\n      <td>1.0</td>\n      <td>0.0</td>\n      <td>0.0</td>\n      <td>0.0</td>\n    </tr>\n    <tr>\n      <th>1</th>\n      <td>0.09</td>\n      <td>0.0</td>\n      <td>1.0</td>\n      <td>0.0</td>\n      <td>0.76</td>\n      <td>0.0</td>\n      <td>0.1</td>\n      <td>0.0</td>\n      <td>0.0</td>\n      <td>0.0</td>\n      <td>...</td>\n      <td>0.33</td>\n      <td>0.25</td>\n      <td>0.0</td>\n      <td>0.67</td>\n      <td>0.33</td>\n      <td>0.5</td>\n      <td>0.0</td>\n      <td>1.0</td>\n      <td>1.0</td>\n      <td>1.0</td>\n    </tr>\n  </tbody>\n</table>\n<p>2 rows × 26 columns</p>\n</div>"
     },
     "execution_count": 25,
     "metadata": {},
     "output_type": "execute_result"
    }
   ],
   "source": [
    "# Crosstab :\n",
    "# pd.crosstab(index, columns, values = None, rownames = None, colnames = None, aggfunc = None, margins = False, margins_name = 'ALL', dropna = True, normalize = None)\n",
    "# index (행으로 그룹화할 값), columns (열로 그룹화할 값)은 필수 입력\n",
    "# 두 변수의 교차 표 작성을 위해 pd.crosstab메소드를 사용\n",
    "tbl = pd.crosstab(boston_df.CAT_MEDV, boston_df.ZN)\n",
    "propTbl = tbl/tbl.sum()\n",
    "propTbl.round(2)"
   ],
   "metadata": {
    "collapsed": false,
    "pycharm": {
     "name": "#%%\n"
    }
   }
  },
  {
   "cell_type": "code",
   "execution_count": 26,
   "outputs": [
    {
     "name": "stderr",
     "output_type": "stream",
     "text": [
      "C:\\Users\\User\\AppData\\Local\\Temp\\ipykernel_4592\\4007499202.py:3: UserWarning: FixedFormatter should only be used together with FixedLocator\n",
      "  ax.set_yticklabels(['{:,.0%}'.format(x) for x in ax.get_yticks()])\n"
     ]
    },
    {
     "data": {
      "text/plain": "<Figure size 640x480 with 1 Axes>",
      "image/png": "[encoded data removed]"
     },
     "metadata": {},
     "output_type": "display_data"
    }
   ],
   "source": [
    "# 누적 막대 차트에서 비율을 플로팅\n",
    "ax = propTbl.plot(kind = 'bar', stacked = True, width = 0.9)\n",
    "ax.set_yticklabels(['{:,.0%}'.format(x) for x in ax.get_yticks()])\n",
    "plt.title('Distribution of CAT.MEDV by ZN')\n",
    "plt.legend(loc = 'center left', bbox_to_anchor = (1, 0.5))\n",
    "plt.tight_layout()\n",
    "plt.show()\n",
    "# x축, y축 설정이 거꾸로 되어 있다"
   ],
   "metadata": {
    "collapsed": false,
    "pycharm": {
     "name": "#%%\n"
    }
   }
  },
  {
   "cell_type": "code",
   "execution_count": 27,
   "outputs": [
    {
     "name": "stderr",
     "output_type": "stream",
     "text": [
      "C:\\Users\\User\\AppData\\Local\\Temp\\ipykernel_4592\\4246108893.py:2: UserWarning: FixedFormatter should only be used together with FixedLocator\n",
      "  ax.set_yticklabels(['{:,.0%}'.format(x) for x in ax.get_yticks()])\n"
     ]
    },
    {
     "data": {
      "text/plain": "<Figure size 640x480 with 1 Axes>",
      "image/png": "[encoded data removed]"
     },
     "metadata": {},
     "output_type": "display_data"
    }
   ],
   "source": [
    "ax = propTbl.transpose().plot(kind = 'bar', stacked = True, width = 0.9)\n",
    "ax.set_yticklabels(['{:,.0%}'.format(x) for x in ax.get_yticks()])\n",
    "plt.title('Distribution of CAT.MEDV by ZN')\n",
    "plt.legend(loc = 'center left', bbox_to_anchor = (1, 0.5))\n",
    "plt.tight_layout()\n",
    "plt.show()"
   ],
   "metadata": {
    "collapsed": false,
    "pycharm": {
     "name": "#%%\n"
    }
   }
  },
  {
   "cell_type": "markdown",
   "source": [
    "# 주성분 분석(PCA)"
   ],
   "metadata": {
    "collapsed": false,
    "pycharm": {
     "name": "#%% md\n"
    }
   }
  },
  {
   "cell_type": "code",
   "execution_count": 28,
   "id": "8d1ecf05",
   "metadata": {
    "pycharm": {
     "name": "#%%\n"
    }
   },
   "outputs": [
    {
     "data": {
      "text/plain": "                        name mfr type  calories  protein  fat  sodium  fiber  \\\n0                  100%_Bran   N    C        70        4    1     130   10.0   \n1          100%_Natural_Bran   Q    C       120        3    5      15    2.0   \n2                   All-Bran   K    C        70        4    1     260    9.0   \n3  All-Bran_with_Extra_Fiber   K    C        50        4    0     140   14.0   \n4             Almond_Delight   R    C       110        2    2     200    1.0   \n\n   carbo  sugars  potass  vitamins  shelf  weight  cups     rating  \n0    5.0     6.0   280.0        25      3     1.0  0.33  68.402973  \n1    8.0     8.0   135.0         0      3     1.0  1.00  33.983679  \n2    7.0     5.0   320.0        25      3     1.0  0.33  59.425505  \n3    8.0     0.0   330.0        25      3     1.0  0.50  93.704912  \n4   14.0     8.0     NaN        25      3     1.0  0.75  34.384843  ",
      "text/html": "<div>\n<style scoped>\n    .dataframe tbody tr th:only-of-type {\n        vertical-align: middle;\n    }\n\n    .dataframe tbody tr th {\n        vertical-align: top;\n    }\n\n    .dataframe thead th {\n        text-align: right;\n    }\n</style>\n<table border=\"1\" class=\"dataframe\">\n  <thead>\n    <tr style=\"text-align: right;\">\n      <th></th>\n      <th>name</th>\n      <th>mfr</th>\n      <th>type</th>\n      <th>calories</th>\n      <th>protein</th>\n      <th>fat</th>\n      <th>sodium</th>\n      <th>fiber</th>\n      <th>carbo</th>\n      <th>sugars</th>\n      <th>potass</th>\n      <th>vitamins</th>\n      <th>shelf</th>\n      <th>weight</th>\n      <th>cups</th>\n      <th>rating</th>\n    </tr>\n  </thead>\n  <tbody>\n    <tr>\n      <th>0</th>\n      <td>100%_Bran</td>\n      <td>N</td>\n      <td>C</td>\n      <td>70</td>\n      <td>4</td>\n      <td>1</td>\n      <td>130</td>\n      <td>10.0</td>\n      <td>5.0</td>\n      <td>6.0</td>\n      <td>280.0</td>\n      <td>25</td>\n      <td>3</td>\n      <td>1.0</td>\n      <td>0.33</td>\n      <td>68.402973</td>\n    </tr>\n    <tr>\n      <th>1</th>\n      <td>100%_Natural_Bran</td>\n      <td>Q</td>\n      <td>C</td>\n      <td>120</td>\n      <td>3</td>\n      <td>5</td>\n      <td>15</td>\n      <td>2.0</td>\n      <td>8.0</td>\n      <td>8.0</td>\n      <td>135.0</td>\n      <td>0</td>\n      <td>3</td>\n      <td>1.0</td>\n      <td>1.00</td>\n      <td>33.983679</td>\n    </tr>\n    <tr>\n      <th>2</th>\n      <td>All-Bran</td>\n      <td>K</td>\n      <td>C</td>\n      <td>70</td>\n      <td>4</td>\n      <td>1</td>\n      <td>260</td>\n      <td>9.0</td>\n      <td>7.0</td>\n      <td>5.0</td>\n      <td>320.0</td>\n      <td>25</td>\n      <td>3</td>\n      <td>1.0</td>\n      <td>0.33</td>\n      <td>59.425505</td>\n    </tr>\n    <tr>\n      <th>3</th>\n      <td>All-Bran_with_Extra_Fiber</td>\n      <td>K</td>\n      <td>C</td>\n      <td>50</td>\n      <td>4</td>\n      <td>0</td>\n      <td>140</td>\n      <td>14.0</td>\n      <td>8.0</td>\n      <td>0.0</td>\n      <td>330.0</td>\n      <td>25</td>\n      <td>3</td>\n      <td>1.0</td>\n      <td>0.50</td>\n      <td>93.704912</td>\n    </tr>\n    <tr>\n      <th>4</th>\n      <td>Almond_Delight</td>\n      <td>R</td>\n      <td>C</td>\n      <td>110</td>\n      <td>2</td>\n      <td>2</td>\n      <td>200</td>\n      <td>1.0</td>\n      <td>14.0</td>\n      <td>8.0</td>\n      <td>NaN</td>\n      <td>25</td>\n      <td>3</td>\n      <td>1.0</td>\n      <td>0.75</td>\n      <td>34.384843</td>\n    </tr>\n  </tbody>\n</table>\n</div>"
     },
     "execution_count": 28,
     "metadata": {},
     "output_type": "execute_result"
    }
   ],
   "source": [
    "import pandas as pd\n",
    "import numpy as np\n",
    "from sklearn.decomposition import PCA\n",
    "from sklearn.preprocessing import StandardScaler\n",
    "import matplotlib.pyplot as plt\n",
    "\n",
    "cereals_df = pd.read_csv('https://raw.githubusercontent.com/reisanar/datasets/master/Cereals.csv')\n",
    "cereals_df.head()"
   ]
  },
  {
   "cell_type": "code",
   "execution_count": 32,
   "id": "e30ff2c9",
   "metadata": {
    "pycharm": {
     "name": "#%%\n"
    }
   },
   "outputs": [],
   "source": [
    "# calories와 weight 열 추출\n",
    "c_data = cereals_df[['calories', 'weight']]\n",
    "\n",
    "# 정규화\n",
    "scaler = StandardScaler()\n",
    "nc_data = scaler.fit_transform(c_data)"
   ]
  },
  {
   "cell_type": "code",
   "execution_count": 30,
   "id": "694122e1",
   "metadata": {
    "pycharm": {
     "name": "#%%\n"
    }
   },
   "outputs": [],
   "source": [
    "# 주성분 분석\n",
    "pca = PCA(n_components=2)\n",
    "pnc_data = pca.fit_transform(nc_data)"
   ]
  },
  {
   "cell_type": "code",
   "execution_count": 31,
   "id": "f4eee39f",
   "metadata": {
    "pycharm": {
     "name": "#%%\n"
    }
   },
   "outputs": [
    {
     "data": {
      "text/plain": "<Figure size 800x600 with 1 Axes>",
      "image/png": "[encoded data removed]"
     },
     "metadata": {},
     "output_type": "display_data"
    }
   ],
   "source": [
    "# 결과 시각화\n",
    "plt.figure(figsize=(8, 6))\n",
    "plt.scatter(pnc_data[:, 0], pnc_data[:, 1], c='red')\n",
    "plt.title('PCA of Normalized Cereals Data', fontsize=16)\n",
    "plt.xlabel('Principal Component 1')\n",
    "plt.ylabel('Principal Component 2')\n",
    "plt.show()"
   ]
  },
  {
   "cell_type": "markdown",
   "id": "6dd9cb7a",
   "metadata": {
    "pycharm": {
     "name": "#%% md\n"
    }
   },
   "source": [
    "## 성능 평가"
   ]
  },
  {
   "cell_type": "code",
   "execution_count": 33,
   "id": "384a9c29",
   "metadata": {
    "pycharm": {
     "name": "#%%\n"
    }
   },
   "outputs": [
    {
     "name": "stderr",
     "output_type": "stream",
     "text": [
      "WARNING: Error parsing requirements for setuptools: [Errno 2] No such file or directory: 'c:\\\\users\\\\user\\\\.conda\\\\envs\\\\condapractice\\\\lib\\\\site-packages\\\\setuptools-65.4.1.dist-info\\\\METADATA'\n",
      "WARNING: Error parsing requirements for pip: [Errno 2] No such file or directory: 'c:\\\\users\\\\user\\\\.conda\\\\envs\\\\condapractice\\\\lib\\\\site-packages\\\\pip-22.2.2.dist-info\\\\METADATA'\n",
      "WARNING: You are using pip version 22.2.2; however, version 23.0.1 is available.\n",
      "You should consider upgrading via the 'c:\\users\\user\\.conda\\envs\\condapractice\\python.exe -m pip install --upgrade pip' command.\n"
     ]
    },
    {
     "name": "stdout",
     "output_type": "stream",
     "text": [
      "Collecting dmba\n",
      "  Downloading dmba-0.1.0-py3-none-any.whl (11.8 MB)\n",
      "Installing collected packages: dmba\n",
      "Successfully installed dmba-0.1.0\n"
     ]
    }
   ],
   "source": [
    "import math\n",
    "import pandas as pd\n",
    "from sklearn.model_selection import train_test_split\n",
    "from sklearn.linear_model import LinearRegression\n",
    "from sklearn.metrics import accuracy_score, roc_curve, auc\n",
    "import matplotlib.pylab as plt\n",
    "!pip install dmba\n",
    "from dmba import regressionSummary, classificationSummary\n",
    "from dmba import liftChart, gainsChart"
   ]
  },
  {
   "cell_type": "markdown",
   "id": "cb70d75b",
   "metadata": {
    "pycharm": {
     "name": "#%% md\n"
    }
   },
   "source": [
    "### 예측 성능 평가\n",
    "* 검증 데이터를 기반으로 모든 케이스에 대해 예측 정확도를 평가해 학습 데이터보다 좀 더 객관적인 근거 제공\n",
    "\n",
    "### 지도 학습에서 관심 결과\n",
    "* 수치 값 : 결과 변수가 수치형일 때(주택 가격)\n",
    "* 클래스 소속도 : 결과 변수가 범주형일 때(구매자/비구매자)\n",
    "* 경향 : 결과 변수가 범주형일 떄(채무 불이행 경향) 클래스 소속도의 확률"
   ]
  },
  {
   "cell_type": "markdown",
   "id": "14346ad7",
   "metadata": {
    "pycharm": {
     "name": "#%% md\n"
    }
   },
   "source": [
    "### 예측 정확성 판단 척도\n",
    "* MAE(평균 절대 오차/편차) = 평균 절대 오차의 규모\n",
    "* 평균 오차 = = 오차의 부호를 유지한다는 점을 제외하면 MAE와 유사해, 음의 오차가 동일한 규모의 양의 오차를 상쇄한다. 따라서 이 값은 예측이 평균적으로 결과 변수의 예측을 넘어서는지 미달되는지를 나타낸다.\n",
    "* MPE(평균 백분율 오차) = 방향을 고려해 예측이 실제값에서 평균적으로 얼마나 벗어나는지에 대한 백분율 점수를 알려준다.\n",
    "* MAPE(평균 절대 백분율 오차) = 실제값에서 평균적으로 얼마나 벗어나는지에 대한 백분율 점수를 알려준다.\n",
    "* RMSE(근의 평균 제곱 오차) = 학습 데이터 대신 검증 데이터로 계산된 것만 빼면 선형 회귀 분석에서 추정값의 표준 오차와 유사하다. 결과 변수와 단위가 같다."
   ]
  },
  {
   "cell_type": "markdown",
   "id": "00a981f5",
   "metadata": {
    "pycharm": {
     "name": "#%% md\n"
    }
   },
   "source": [
    "### 모델의 정확성 척도"
   ]
  },
  {
   "cell_type": "code",
   "execution_count": 5,
   "id": "335f617a",
   "metadata": {
    "pycharm": {
     "name": "#%%\n"
    }
   },
   "outputs": [
    {
     "data": {
      "text/html": [
       "<div>\n",
       "<style scoped>\n",
       "    .dataframe tbody tr th:only-of-type {\n",
       "        vertical-align: middle;\n",
       "    }\n",
       "\n",
       "    .dataframe tbody tr th {\n",
       "        vertical-align: top;\n",
       "    }\n",
       "\n",
       "    .dataframe thead th {\n",
       "        text-align: right;\n",
       "    }\n",
       "</style>\n",
       "<table border=\"1\" class=\"dataframe\">\n",
       "  <thead>\n",
       "    <tr style=\"text-align: right;\">\n",
       "      <th></th>\n",
       "      <th>model</th>\n",
       "      <th>price</th>\n",
       "      <th>age_08_04</th>\n",
       "      <th>mfg_month</th>\n",
       "      <th>mfg_year</th>\n",
       "      <th>km</th>\n",
       "      <th>fuel_type</th>\n",
       "      <th>hp</th>\n",
       "      <th>met_color</th>\n",
       "      <th>color</th>\n",
       "      <th>...</th>\n",
       "      <th>powered_windows</th>\n",
       "      <th>power_steering</th>\n",
       "      <th>radio</th>\n",
       "      <th>mistlamps</th>\n",
       "      <th>sport_model</th>\n",
       "      <th>backseat_divider</th>\n",
       "      <th>metallic_rim</th>\n",
       "      <th>radio_cassette</th>\n",
       "      <th>parking_assistant</th>\n",
       "      <th>tow_bar</th>\n",
       "    </tr>\n",
       "  </thead>\n",
       "  <tbody>\n",
       "    <tr>\n",
       "      <th>0</th>\n",
       "      <td>TOYOTA Corolla 2.0 D4D HATCHB TERRA 2/3-Doors</td>\n",
       "      <td>13500</td>\n",
       "      <td>23</td>\n",
       "      <td>10</td>\n",
       "      <td>2002</td>\n",
       "      <td>46986</td>\n",
       "      <td>Diesel</td>\n",
       "      <td>90</td>\n",
       "      <td>1</td>\n",
       "      <td>Blue</td>\n",
       "      <td>...</td>\n",
       "      <td>1</td>\n",
       "      <td>1</td>\n",
       "      <td>0</td>\n",
       "      <td>0</td>\n",
       "      <td>0</td>\n",
       "      <td>1</td>\n",
       "      <td>0</td>\n",
       "      <td>0</td>\n",
       "      <td>0</td>\n",
       "      <td>0</td>\n",
       "    </tr>\n",
       "    <tr>\n",
       "      <th>1</th>\n",
       "      <td>TOYOTA Corolla 2.0 D4D HATCHB TERRA 2/3-Doors</td>\n",
       "      <td>13750</td>\n",
       "      <td>23</td>\n",
       "      <td>10</td>\n",
       "      <td>2002</td>\n",
       "      <td>72937</td>\n",
       "      <td>Diesel</td>\n",
       "      <td>90</td>\n",
       "      <td>1</td>\n",
       "      <td>Silver</td>\n",
       "      <td>...</td>\n",
       "      <td>0</td>\n",
       "      <td>1</td>\n",
       "      <td>0</td>\n",
       "      <td>0</td>\n",
       "      <td>0</td>\n",
       "      <td>1</td>\n",
       "      <td>0</td>\n",
       "      <td>0</td>\n",
       "      <td>0</td>\n",
       "      <td>0</td>\n",
       "    </tr>\n",
       "    <tr>\n",
       "      <th>2</th>\n",
       "      <td>TOYOTA Corolla 2.0 D4D HATCHB TERRA 2/3-Doors</td>\n",
       "      <td>13950</td>\n",
       "      <td>24</td>\n",
       "      <td>9</td>\n",
       "      <td>2002</td>\n",
       "      <td>41711</td>\n",
       "      <td>Diesel</td>\n",
       "      <td>90</td>\n",
       "      <td>1</td>\n",
       "      <td>Blue</td>\n",
       "      <td>...</td>\n",
       "      <td>0</td>\n",
       "      <td>1</td>\n",
       "      <td>0</td>\n",
       "      <td>0</td>\n",
       "      <td>0</td>\n",
       "      <td>1</td>\n",
       "      <td>0</td>\n",
       "      <td>0</td>\n",
       "      <td>0</td>\n",
       "      <td>0</td>\n",
       "    </tr>\n",
       "    <tr>\n",
       "      <th>3</th>\n",
       "      <td>TOYOTA Corolla 2.0 D4D HATCHB TERRA 2/3-Doors</td>\n",
       "      <td>14950</td>\n",
       "      <td>26</td>\n",
       "      <td>7</td>\n",
       "      <td>2002</td>\n",
       "      <td>48000</td>\n",
       "      <td>Diesel</td>\n",
       "      <td>90</td>\n",
       "      <td>0</td>\n",
       "      <td>Black</td>\n",
       "      <td>...</td>\n",
       "      <td>0</td>\n",
       "      <td>1</td>\n",
       "      <td>0</td>\n",
       "      <td>0</td>\n",
       "      <td>0</td>\n",
       "      <td>1</td>\n",
       "      <td>0</td>\n",
       "      <td>0</td>\n",
       "      <td>0</td>\n",
       "      <td>0</td>\n",
       "    </tr>\n",
       "    <tr>\n",
       "      <th>4</th>\n",
       "      <td>TOYOTA Corolla 2.0 D4D HATCHB SOL 2/3-Doors</td>\n",
       "      <td>13750</td>\n",
       "      <td>30</td>\n",
       "      <td>3</td>\n",
       "      <td>2002</td>\n",
       "      <td>38500</td>\n",
       "      <td>Diesel</td>\n",
       "      <td>90</td>\n",
       "      <td>0</td>\n",
       "      <td>Black</td>\n",
       "      <td>...</td>\n",
       "      <td>1</td>\n",
       "      <td>1</td>\n",
       "      <td>0</td>\n",
       "      <td>1</td>\n",
       "      <td>0</td>\n",
       "      <td>1</td>\n",
       "      <td>0</td>\n",
       "      <td>0</td>\n",
       "      <td>0</td>\n",
       "      <td>0</td>\n",
       "    </tr>\n",
       "  </tbody>\n",
       "</table>\n",
       "<p>5 rows × 38 columns</p>\n",
       "</div>"
      ],
      "text/plain": [
       "                                           model  price  age_08_04  mfg_month  \\\n",
       "0  TOYOTA Corolla 2.0 D4D HATCHB TERRA 2/3-Doors  13500         23         10   \n",
       "1  TOYOTA Corolla 2.0 D4D HATCHB TERRA 2/3-Doors  13750         23         10   \n",
       "2  TOYOTA Corolla 2.0 D4D HATCHB TERRA 2/3-Doors  13950         24          9   \n",
       "3  TOYOTA Corolla 2.0 D4D HATCHB TERRA 2/3-Doors  14950         26          7   \n",
       "4    TOYOTA Corolla 2.0 D4D HATCHB SOL 2/3-Doors  13750         30          3   \n",
       "\n",
       "   mfg_year     km fuel_type  hp  met_color   color  ...  powered_windows  \\\n",
       "0      2002  46986    Diesel  90          1    Blue  ...                1   \n",
       "1      2002  72937    Diesel  90          1  Silver  ...                0   \n",
       "2      2002  41711    Diesel  90          1    Blue  ...                0   \n",
       "3      2002  48000    Diesel  90          0   Black  ...                0   \n",
       "4      2002  38500    Diesel  90          0   Black  ...                1   \n",
       "\n",
       "   power_steering  radio  mistlamps  sport_model  backseat_divider  \\\n",
       "0               1      0          0            0                 1   \n",
       "1               1      0          0            0                 1   \n",
       "2               1      0          0            0                 1   \n",
       "3               1      0          0            0                 1   \n",
       "4               1      0          1            0                 1   \n",
       "\n",
       "   metallic_rim  radio_cassette  parking_assistant  tow_bar  \n",
       "0             0               0                  0        0  \n",
       "1             0               0                  0        0  \n",
       "2             0               0                  0        0  \n",
       "3             0               0                  0        0  \n",
       "4             0               0                  0        0  \n",
       "\n",
       "[5 rows x 38 columns]"
      ]
     },
     "execution_count": 5,
     "metadata": {},
     "output_type": "execute_result"
    }
   ],
   "source": [
    "# 도요타 자동차 가격에 대한 모델의 예측 오차 척도. 학습과 검증\n",
    "# 정확한 척도를 위한 파이썬 코드\n",
    "\n",
    "# 데이터 프레임을 로드하고 회귀 분석을 위해 열을 선택\n",
    "car_df = pd.read_csv('https://raw.githubusercontent.com/reisanar/datasets/master/ToyotaCorolla.csv')\n",
    "car_df.head()"
   ]
  },
  {
   "cell_type": "code",
   "execution_count": 8,
   "id": "4a17c2c5",
   "metadata": {
    "pycharm": {
     "name": "#%%\n"
    }
   },
   "outputs": [],
   "source": [
    "# 출력 변수와 텍스트 열을 제거하여 예측 변수 목록을 만듦\n",
    "excludeColumns = ('price', 'id', 'model', 'fuel_type', 'color')\n",
    "predictors = [s for s in car_df.columns if s not in excludeColumns]\n",
    "outcome = 'price'\n",
    "\n",
    "# 데이터 분할\n",
    "X = car_df[predictors]\n",
    "y = car_df[outcome]\n"
   ]
  },
  {
   "cell_type": "markdown",
   "id": "cc775057",
   "metadata": {
    "pycharm": {
     "name": "#%% md\n"
    }
   },
   "source": [
    "### 학습과 검증 성능의 비교\n",
    "* 학습 데이터셋에서 오차는 모델이 얼마나 잘 적합되었는지 알려줌\n",
    "* 반면, 검증 데이터셋에서 오차(예측 오차)는 모델이 새로운 데이터를 예측하는 성능(예측 성능)을 측정\n",
    "* 모델은 학습 데이터셋을 사용해 적합되었기 때무에 학습 오차가 검증 오차보다 작고, 복잡한 모델일수록 학습 데이터에 과적합될 가능성이 더 큼"
   ]
  },
  {
   "cell_type": "code",
   "execution_count": 11,
   "id": "0d552a65",
   "metadata": {
    "pycharm": {
     "name": "#%%\n"
    }
   },
   "outputs": [],
   "source": [
    "# 학습 데이터 셋과 검증 데이터 셋에 대한 도요타 가격 예측 오차의 히스토그램과 박스 플롯"
   ]
  },
  {
   "cell_type": "markdown",
   "id": "4b56c4ec",
   "metadata": {
    "pycharm": {
     "name": "#%% md\n"
    }
   },
   "source": [
    "### 누적 이득과 리프트 차트\n",
    "* 모델의 예측 성능을 예측 변수들을 사용하지 않는 기준 모델과 비교\n",
    "* 새로운 레코드에서 단지 누적 예측 값이 가장 큰 레코드들의 부분집합을 찾을 때 예측 성능을 시각적으로 측정하는 방법\n",
    "* 예측값이 높은 값부터 낮은 값으로 정렬된 관심 레코드드의 실제 값들을 누적시키고 누적된 레코드의 수(x-축 값)에 대한 함수로 y-축에 그 누적 값(=이득)을 그리는 것이 누적 이득 차트(곡선)\n",
    "* 누적 이득 차트가 벤치마크대각선에서 멀리 떨어질수록 모델이 높은 결과 값의 레코드들과 낮은 결과 값의 레코드들을 더 잘 분리함\n",
    "* 같은 정보가 십분위 리프트 차트에서도 나올 수 있는데, 이 차트는 정렬된 레코드들을 10개의 십분위로 그룹화하고 각 십분위에 대해 나이브 벤치마크 이득에 대하 모델의 이득 비(리프트라고 불림)를 보여줌"
   ]
  },
  {
   "cell_type": "markdown",
   "id": "4f7c252d",
   "metadata": {
    "pycharm": {
     "name": "#%% md\n"
    }
   },
   "source": [
    "### 분류기 성능의 판단\n",
    "#### 나이브 규칙\n",
    "* 예측 변수가 가지는 모든 정보(x1, x2, ... xp)를 무시하고 주어진 레코드를 m개 클래스 중 하나로 분류하는 규칙\n",
    "* 해당 레코드를 다수 클래스의 멤버로 분류\n",
    "* 종종 벤치마크로 사용됨\n",
    "* 분류를 위한 나이브 규칙은 추가적인 예측 변수 정보는 배제하고 y정보에만 의존\n",
    "\n",
    "#### 클래스 분리\n",
    "* 클래스들이 예측 변수 정보로 잘 분리? -> 작은 데이터셋으로도 충분히 좋은 분류기\n",
    "* 고수준 분리는 예측 변수를 사용해 오류가 낮음을 의미\n",
    "* 저수준 분리는 나이브 규칙서 크게 개선되지 않음을 의미\n",
    "\n",
    "#### 정오 행렬(Confusion matrix)\n",
    "* 특정 데이터셋에 대해 산출하는 정확한 분류와 부정확한 분류를 요약\n",
    "* 정오 행렬의 행과 열을 각각 예측 클래스와 진(실제)클래스에 대응"
   ]
  },
  {
   "cell_type": "code",
   "execution_count": null,
   "id": "43e708b6",
   "metadata": {
    "pycharm": {
     "name": "#%%\n"
    }
   },
   "outputs": [],
   "source": []
  },
  {
   "cell_type": "code",
   "execution_count": null,
   "id": "6e4b38d3",
   "metadata": {
    "pycharm": {
     "name": "#%%\n"
    }
   },
   "outputs": [],
   "source": []
  }
 ],
 "metadata": {
  "kernelspec": {
   "display_name": "Python 3 (ipykernel)",
   "language": "python",
   "name": "python3"
  },
  "language_info": {
   "codemirror_mode": {
    "name": "ipython",
    "version": 3
   },
   "file_extension": ".py",
   "mimetype": "text/x-python",
   "name": "python",
   "nbconvert_exporter": "python",
   "pygments_lexer": "ipython3",
   "version": "3.9.13"
  }
 },
 "nbformat": 4,
 "nbformat_minor": 5
}