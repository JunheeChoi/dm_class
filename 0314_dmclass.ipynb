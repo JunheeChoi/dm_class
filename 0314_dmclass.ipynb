{
 "cells": [
  {
   "cell_type": "markdown",
   "metadata": {
    "id": "EWdOoX3_nPni",
    "pycharm": {
     "name": "#%% md\n"
    }
   },
   "source": [
    "# 0314 Data Mining class"
   ]
  },
  {
   "cell_type": "markdown",
   "source": [
    "import pandas as pd"
   ],
   "metadata": {
    "collapsed": false,
    "pycharm": {
     "name": "#%% md\n"
    }
   }
  },
  {
   "cell_type": "markdown",
   "source": [
    "housing_df = pd.read_csv('https://raw.githubusercontent.com/reisanar/datasets/master/WestRoxbury.csv')\n",
    "housing_df.shape"
   ],
   "metadata": {
    "collapsed": false,
    "pycharm": {
     "name": "#%% md\n"
    }
   }
  },
  {
   "cell_type": "markdown",
   "source": [
    "housing_df.head()"
   ],
   "metadata": {
    "collapsed": false,
    "pycharm": {
     "name": "#%% md\n"
    }
   }
  },
  {
   "cell_type": "markdown",
   "source": [
    "housing_df = housing_df.rename(columns = {'TOTAL VALUE ':'TOTAL_VALUE'})\n",
    "housing_df.columns"
   ],
   "metadata": {
    "collapsed": false,
    "pycharm": {
     "name": "#%% md\n"
    }
   }
  },
  {
   "cell_type": "markdown",
   "source": [
    "housing_df.columns = [s.strip().replace(\" \",'_') for s in housing_df.columns]\n",
    "housing_df.columns"
   ],
   "metadata": {
    "collapsed": false,
    "pycharm": {
     "name": "#%% md\n"
    }
   }
  },
  {
   "cell_type": "markdown",
   "source": [
    "housing_df.loc[0:3]    # loc의 경우 슬라이스의 두 번째 인덱스가 포함_index id 0~3"
   ],
   "metadata": {
    "collapsed": false,
    "pycharm": {
     "name": "#%% md\n"
    }
   }
  },
  {
   "cell_type": "markdown",
   "source": [
    "housing_df.iloc[0:3]     # iloc 의 경우 슬라이스의 두 번째 인덱스 제외_index id 0~2"
   ],
   "metadata": {
    "collapsed": false,
    "pycharm": {
     "name": "#%% md\n"
    }
   }
  },
  {
   "cell_type": "markdown",
   "source": [
    "# Total value의 처음 10개 값을 표시하는 다양한 방법"
   ],
   "metadata": {
    "collapsed": false,
    "pycharm": {
     "name": "#%% md\n"
    }
   }
  },
  {
   "cell_type": "markdown",
   "source": [
    "housing_df['TOTAL_VALUE'].iloc[0:10]"
   ],
   "metadata": {
    "collapsed": false,
    "pycharm": {
     "name": "#%% md\n"
    }
   }
  },
  {
   "cell_type": "markdown",
   "source": [
    "housing_df.iloc[0:10]['TOTAL_VALUE']"
   ],
   "metadata": {
    "collapsed": false,
    "pycharm": {
     "name": "#%% md\n"
    }
   }
  },
  {
   "cell_type": "markdown",
   "source": [
    "housing_df.iloc[0:10].TOTAL_VALUE"
   ],
   "metadata": {
    "collapsed": false,
    "pycharm": {
     "name": "#%% md\n"
    }
   }
  },
  {
   "cell_type": "markdown",
   "source": [
    "# 처음 10개 열의 다섯 번쨰 행 표시"
   ],
   "metadata": {
    "collapsed": false,
    "pycharm": {
     "name": "#%% md\n"
    }
   }
  },
  {
   "cell_type": "markdown",
   "source": [
    "housing_df.iloc[4][:10]"
   ],
   "metadata": {
    "collapsed": false,
    "pycharm": {
     "name": "#%% md\n"
    }
   }
  },
  {
   "cell_type": "markdown",
   "source": [
    "housing_df.iloc[4, 0:10]"
   ],
   "metadata": {
    "collapsed": false,
    "pycharm": {
     "name": "#%% md\n"
    }
   }
  },
  {
   "cell_type": "markdown",
   "source": [
    "housing_df.iloc[4:5, 0:10]    # 데이터프레임 형식을 유지하려면 행에 슬라이스 사용"
   ],
   "metadata": {
    "collapsed": false,
    "pycharm": {
     "name": "#%% md\n"
    }
   }
  },
  {
   "cell_type": "markdown",
   "source": [
    "# 전체 열"
   ],
   "metadata": {
    "collapsed": false,
    "pycharm": {
     "name": "#%% md\n"
    }
   }
  },
  {
   "cell_type": "markdown",
   "source": [
    "housing_df.iloc[:, 0:1]"
   ],
   "metadata": {
    "collapsed": false,
    "pycharm": {
     "name": "#%% md\n"
    }
   }
  },
  {
   "cell_type": "markdown",
   "source": [
    "housing_df['TOTAL_VALUE']"
   ],
   "metadata": {
    "collapsed": false,
    "pycharm": {
     "name": "#%% md\n"
    }
   }
  },
  {
   "cell_type": "markdown",
   "source": [
    "# 기술 통계"
   ],
   "metadata": {
    "collapsed": false,
    "pycharm": {
     "name": "#%% md\n"
    }
   }
  },
  {
   "cell_type": "markdown",
   "source": [
    "housing_df.describe()"
   ],
   "metadata": {
    "collapsed": false,
    "pycharm": {
     "name": "#%% md\n"
    }
   }
  },
  {
   "cell_type": "markdown",
   "source": [
    "print('Number of Rows ', len(housing_df['TOTAL_VALUE']))\n",
    "print('Mean of TOTAL_VALUE ', housing_df['TOTAL_VALUE'].mean())"
   ],
   "metadata": {
    "collapsed": false,
    "pycharm": {
     "name": "#%% md\n"
    }
   }
  },
  {
   "cell_type": "markdown",
   "source": [
    "housing_df['TOTAL_VALUE'].describe()"
   ],
   "metadata": {
    "collapsed": false,
    "pycharm": {
     "name": "#%% md\n"
    }
   }
  },
  {
   "cell_type": "markdown",
   "metadata": {
    "id": "B5smXvEKtR1g",
    "pycharm": {
     "name": "#%% md\n"
    }
   },
   "source": [
    "## 데이터 전처리와 데이터 정제"
   ]
  },
  {
   "cell_type": "markdown",
   "source": [
    "# 판다스 활용 변수 특성 파악\n",
    "# REMODEL 열을 factor 이기 떄문에 데이터 타입 변경\n",
    "print(housing_df.REMODEL.dtype)\n",
    "housing_df.REMODEL = housing_df.REMODEL.astype('category')\n",
    "print(housing_df.REMODEL.cat.categories)\n",
    "print(housing_df.REMODEL.dtype)    # 'category' 타입"
   ],
   "metadata": {
    "collapsed": false,
    "pycharm": {
     "name": "#%% md\n"
    }
   }
  },
  {
   "cell_type": "markdown",
   "source": [
    "housing_df.dtypes"
   ],
   "metadata": {
    "collapsed": false,
    "pycharm": {
     "name": "#%% md\n"
    }
   }
  },
  {
   "cell_type": "markdown",
   "metadata": {
    "id": "hB__FzXMuTA4",
    "pycharm": {
     "name": "#%% md\n"
    }
   },
   "source": [
    "### 범주형 변수 처리\n",
    "* 범주형 변수 값에 순위가 있는 경우(연령구간, 신용 등급)에는 연속형 변수로 간주\n",
    "* 범주에 순위가 없다면 변수를 가변수로 바꿔서 사용하기도 함"
   ]
  },
  {
   "cell_type": "markdown",
   "source": [
    "# 판다스 이용한 가변수 생성"
   ],
   "metadata": {
    "collapsed": false,
    "pycharm": {
     "name": "#%% md\n"
    }
   }
  },
  {
   "cell_type": "markdown",
   "source": [
    "# drop_first = True 첫 번쨰 더미 변수 삭제\n",
    "housing_df = pd.get_dummies(housing_df, prefix_sep = '_', drop_first = True)\n",
    "housing_df.columns"
   ],
   "metadata": {
    "collapsed": false,
    "pycharm": {
     "name": "#%% md\n"
    }
   }
  },
  {
   "cell_type": "markdown",
   "source": [
    "print(housing_df.loc[:, 'REMODEL_Old':'REMODEL_Recent'].head())"
   ],
   "metadata": {
    "collapsed": false,
    "pycharm": {
     "name": "#%% md\n"
    }
   }
  },
  {
   "cell_type": "markdown",
   "metadata": {
    "id": "BF7f-_A-vBDM",
    "pycharm": {
     "name": "#%% md\n"
    }
   },
   "source": [
    "### 변수 선택\n",
    "* 신뢰성이 높은 모델을 구축하려면 꼭 필요한 변수만 사용하는 것이 바람직\n",
    "* 변수를 너무 많이 사용할 경우 변수 간의 상관관계를 고려해야 하고 더 많은 수의 관측치 필요\n",
    "* 변수가 너무 많은 모델은 미래 값을 예측하는 데 데이터가 더 많이 필요하고 전처리 작업도 증가해 강건하지 않음"
   ]
  },
  {
   "cell_type": "markdown",
   "metadata": {
    "pycharm": {
     "name": "#%% md\n"
    }
   },
   "source": [
    "### 필요 변수와 관측치 수\n",
    "* 적절한 변수를 포함시키는 작업은 모델 구축 시 매우 중요\n",
    "* 꼭 필요한 변수만 사용해야 간결한 모델 구축 가능하고, 간결한 모델이 결국 훌륭한 모델\n",
    "* 방대한 데이터에서 모델에 어떤 변수를 포함할지는 매우 중요\n",
    "* 도메인 지식이 있는 사람에게서 얻는 정보는 변수 포함 여부를 결정할 때 중요하고 모델의 정확도를 높이고 오차를 줄이는 데 도움"
   ]
  },
  {
   "cell_type": "markdown",
   "source": [
    "### 변수 선택\n",
    "* 신뢰성이 높은 모델을 구축하려면 꼭 필요한 변수만 사용하는 것이 바람직\n",
    "* 변수를 너무 많이 사용할 경우 변수 간의 상관관계를 고려해야 하고 더 많은 수의 관측치 필요\n",
    "* 변수가 너무 많은 모델은 미래 값을 예측하는 데 데이터가 더 많이 필요하고 전처리 작업도 증가해 강건하지 않음"
   ],
   "metadata": {
    "collapsed": false,
    "pycharm": {
     "name": "#%% md\n"
    }
   }
  },
  {
   "cell_type": "markdown",
   "source": [
    "### 필요 변수와 관측치 수\n",
    "* 적절한 변수를 포함시키는 작업은 모델 구축 시 매우 중요\n",
    "* 꼭 필요한 변수만 사용해야 간결한 모델 구축 가능하고, 간결한 모델이 결국 훌륭한 모델\n",
    "* 방대한 데이터에서 모델에 어떤 변수를 포함할지는 매우 중요\n",
    "* 도메인 지식이 있는 사람에게서 얻는 정보는 변수 포함 여부를 결정할 때 중요하고 모델의 정확도를 높이고 오차를 줄이는 데 도움"
   ],
   "metadata": {
    "collapsed": false,
    "pycharm": {
     "name": "#%% md\n"
    }
   }
  },
  {
   "cell_type": "code",
   "execution_count": null,
   "outputs": [],
   "source": [],
   "metadata": {
    "collapsed": false,
    "pycharm": {
     "name": "#%%\n",
     "is_executing": true
    }
   }
  }
 ],
 "metadata": {
  "colab": {
   "provenance": []
  },
  "kernelspec": {
   "display_name": "Python 3 (ipykernel)",
   "language": "python",
   "name": "python3"
  },
  "language_info": {
   "codemirror_mode": {
    "name": "ipython",
    "version": 3
   },
   "file_extension": ".py",
   "mimetype": "text/x-python",
   "name": "python",
   "nbconvert_exporter": "python",
   "pygments_lexer": "ipython3",
   "version": "3.9.12"
  }
 },
 "nbformat": 4,
 "nbformat_minor": 1
}