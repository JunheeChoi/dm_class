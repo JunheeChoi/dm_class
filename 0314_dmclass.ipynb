{
 "cells": [
  {
   "cell_type": "markdown",
   "metadata": {
    "id": "EWdOoX3_nPni",
    "pycharm": {
     "name": "#%% md\n"
    }
   },
   "source": [
    "# 0314 Data Mining class"
   ]
  },
  {
   "cell_type": "code",
   "execution_count": 45,
   "outputs": [],
   "source": [
    "import pandas as pd"
   ],
   "metadata": {
    "collapsed": false,
    "pycharm": {
     "name": "#%%\n"
    }
   }
  },
  {
   "cell_type": "code",
   "execution_count": 46,
   "outputs": [
    {
     "data": {
      "text/plain": "(5802, 14)"
     },
     "execution_count": 46,
     "metadata": {},
     "output_type": "execute_result"
    }
   ],
   "source": [
    "housing_df = pd.read_csv('https://raw.githubusercontent.com/reisanar/datasets/master/WestRoxbury.csv')\n",
    "housing_df.shape"
   ],
   "metadata": {
    "collapsed": false,
    "pycharm": {
     "name": "#%%\n"
    }
   }
  },
  {
   "cell_type": "code",
   "execution_count": 47,
   "outputs": [
    {
     "data": {
      "text/plain": "   TOTAL VALUE    TAX  LOT SQFT   YR BUILT  GROSS AREA   LIVING AREA  FLOORS   \\\n0         344.2  4330       9965      1880         2436         1352      2.0   \n1         412.6  5190       6590      1945         3108         1976      2.0   \n2         330.1  4152       7500      1890         2294         1371      2.0   \n3         498.6  6272      13773      1957         5032         2608      1.0   \n4         331.5  4170       5000      1910         2370         1438      2.0   \n\n   ROOMS  BEDROOMS   FULL BATH  HALF BATH  KITCHEN  FIREPLACE REMODEL  \n0      6          3          1          1        1          0    None  \n1     10          4          2          1        1          0  Recent  \n2      8          4          1          1        1          0    None  \n3      9          5          1          1        1          1    None  \n4      7          3          2          0        1          0    None  ",
      "text/html": "<div>\n<style scoped>\n    .dataframe tbody tr th:only-of-type {\n        vertical-align: middle;\n    }\n\n    .dataframe tbody tr th {\n        vertical-align: top;\n    }\n\n    .dataframe thead th {\n        text-align: right;\n    }\n</style>\n<table border=\"1\" class=\"dataframe\">\n  <thead>\n    <tr style=\"text-align: right;\">\n      <th></th>\n      <th>TOTAL VALUE</th>\n      <th>TAX</th>\n      <th>LOT SQFT</th>\n      <th>YR BUILT</th>\n      <th>GROSS AREA</th>\n      <th>LIVING AREA</th>\n      <th>FLOORS</th>\n      <th>ROOMS</th>\n      <th>BEDROOMS</th>\n      <th>FULL BATH</th>\n      <th>HALF BATH</th>\n      <th>KITCHEN</th>\n      <th>FIREPLACE</th>\n      <th>REMODEL</th>\n    </tr>\n  </thead>\n  <tbody>\n    <tr>\n      <th>0</th>\n      <td>344.2</td>\n      <td>4330</td>\n      <td>9965</td>\n      <td>1880</td>\n      <td>2436</td>\n      <td>1352</td>\n      <td>2.0</td>\n      <td>6</td>\n      <td>3</td>\n      <td>1</td>\n      <td>1</td>\n      <td>1</td>\n      <td>0</td>\n      <td>None</td>\n    </tr>\n    <tr>\n      <th>1</th>\n      <td>412.6</td>\n      <td>5190</td>\n      <td>6590</td>\n      <td>1945</td>\n      <td>3108</td>\n      <td>1976</td>\n      <td>2.0</td>\n      <td>10</td>\n      <td>4</td>\n      <td>2</td>\n      <td>1</td>\n      <td>1</td>\n      <td>0</td>\n      <td>Recent</td>\n    </tr>\n    <tr>\n      <th>2</th>\n      <td>330.1</td>\n      <td>4152</td>\n      <td>7500</td>\n      <td>1890</td>\n      <td>2294</td>\n      <td>1371</td>\n      <td>2.0</td>\n      <td>8</td>\n      <td>4</td>\n      <td>1</td>\n      <td>1</td>\n      <td>1</td>\n      <td>0</td>\n      <td>None</td>\n    </tr>\n    <tr>\n      <th>3</th>\n      <td>498.6</td>\n      <td>6272</td>\n      <td>13773</td>\n      <td>1957</td>\n      <td>5032</td>\n      <td>2608</td>\n      <td>1.0</td>\n      <td>9</td>\n      <td>5</td>\n      <td>1</td>\n      <td>1</td>\n      <td>1</td>\n      <td>1</td>\n      <td>None</td>\n    </tr>\n    <tr>\n      <th>4</th>\n      <td>331.5</td>\n      <td>4170</td>\n      <td>5000</td>\n      <td>1910</td>\n      <td>2370</td>\n      <td>1438</td>\n      <td>2.0</td>\n      <td>7</td>\n      <td>3</td>\n      <td>2</td>\n      <td>0</td>\n      <td>1</td>\n      <td>0</td>\n      <td>None</td>\n    </tr>\n  </tbody>\n</table>\n</div>"
     },
     "execution_count": 47,
     "metadata": {},
     "output_type": "execute_result"
    }
   ],
   "source": [
    "housing_df.head()"
   ],
   "metadata": {
    "collapsed": false,
    "pycharm": {
     "name": "#%%\n"
    }
   }
  },
  {
   "cell_type": "code",
   "execution_count": 48,
   "outputs": [
    {
     "data": {
      "text/plain": "Index(['TOTAL_VALUE', 'TAX', 'LOT SQFT ', 'YR BUILT', 'GROSS AREA ',\n       'LIVING AREA', 'FLOORS ', 'ROOMS', 'BEDROOMS ', 'FULL BATH',\n       'HALF BATH', 'KITCHEN', 'FIREPLACE', 'REMODEL'],\n      dtype='object')"
     },
     "execution_count": 48,
     "metadata": {},
     "output_type": "execute_result"
    }
   ],
   "source": [
    "housing_df = housing_df.rename(columns = {'TOTAL VALUE ':'TOTAL_VALUE'})\n",
    "housing_df.columns"
   ],
   "metadata": {
    "collapsed": false,
    "pycharm": {
     "name": "#%%\n"
    }
   }
  },
  {
   "cell_type": "code",
   "execution_count": 49,
   "outputs": [
    {
     "data": {
      "text/plain": "Index(['TOTAL_VALUE', 'TAX', 'LOT_SQFT', 'YR_BUILT', 'GROSS_AREA',\n       'LIVING_AREA', 'FLOORS', 'ROOMS', 'BEDROOMS', 'FULL_BATH', 'HALF_BATH',\n       'KITCHEN', 'FIREPLACE', 'REMODEL'],\n      dtype='object')"
     },
     "execution_count": 49,
     "metadata": {},
     "output_type": "execute_result"
    }
   ],
   "source": [
    "housing_df.columns = [s.strip().replace(\" \",'_') for s in housing_df.columns]\n",
    "housing_df.columns"
   ],
   "metadata": {
    "collapsed": false,
    "pycharm": {
     "name": "#%%\n"
    }
   }
  },
  {
   "cell_type": "code",
   "execution_count": 50,
   "outputs": [
    {
     "data": {
      "text/plain": "   TOTAL_VALUE   TAX  LOT_SQFT  YR_BUILT  GROSS_AREA  LIVING_AREA  FLOORS  \\\n0        344.2  4330      9965      1880        2436         1352     2.0   \n1        412.6  5190      6590      1945        3108         1976     2.0   \n2        330.1  4152      7500      1890        2294         1371     2.0   \n3        498.6  6272     13773      1957        5032         2608     1.0   \n\n   ROOMS  BEDROOMS  FULL_BATH  HALF_BATH  KITCHEN  FIREPLACE REMODEL  \n0      6         3          1          1        1          0    None  \n1     10         4          2          1        1          0  Recent  \n2      8         4          1          1        1          0    None  \n3      9         5          1          1        1          1    None  ",
      "text/html": "<div>\n<style scoped>\n    .dataframe tbody tr th:only-of-type {\n        vertical-align: middle;\n    }\n\n    .dataframe tbody tr th {\n        vertical-align: top;\n    }\n\n    .dataframe thead th {\n        text-align: right;\n    }\n</style>\n<table border=\"1\" class=\"dataframe\">\n  <thead>\n    <tr style=\"text-align: right;\">\n      <th></th>\n      <th>TOTAL_VALUE</th>\n      <th>TAX</th>\n      <th>LOT_SQFT</th>\n      <th>YR_BUILT</th>\n      <th>GROSS_AREA</th>\n      <th>LIVING_AREA</th>\n      <th>FLOORS</th>\n      <th>ROOMS</th>\n      <th>BEDROOMS</th>\n      <th>FULL_BATH</th>\n      <th>HALF_BATH</th>\n      <th>KITCHEN</th>\n      <th>FIREPLACE</th>\n      <th>REMODEL</th>\n    </tr>\n  </thead>\n  <tbody>\n    <tr>\n      <th>0</th>\n      <td>344.2</td>\n      <td>4330</td>\n      <td>9965</td>\n      <td>1880</td>\n      <td>2436</td>\n      <td>1352</td>\n      <td>2.0</td>\n      <td>6</td>\n      <td>3</td>\n      <td>1</td>\n      <td>1</td>\n      <td>1</td>\n      <td>0</td>\n      <td>None</td>\n    </tr>\n    <tr>\n      <th>1</th>\n      <td>412.6</td>\n      <td>5190</td>\n      <td>6590</td>\n      <td>1945</td>\n      <td>3108</td>\n      <td>1976</td>\n      <td>2.0</td>\n      <td>10</td>\n      <td>4</td>\n      <td>2</td>\n      <td>1</td>\n      <td>1</td>\n      <td>0</td>\n      <td>Recent</td>\n    </tr>\n    <tr>\n      <th>2</th>\n      <td>330.1</td>\n      <td>4152</td>\n      <td>7500</td>\n      <td>1890</td>\n      <td>2294</td>\n      <td>1371</td>\n      <td>2.0</td>\n      <td>8</td>\n      <td>4</td>\n      <td>1</td>\n      <td>1</td>\n      <td>1</td>\n      <td>0</td>\n      <td>None</td>\n    </tr>\n    <tr>\n      <th>3</th>\n      <td>498.6</td>\n      <td>6272</td>\n      <td>13773</td>\n      <td>1957</td>\n      <td>5032</td>\n      <td>2608</td>\n      <td>1.0</td>\n      <td>9</td>\n      <td>5</td>\n      <td>1</td>\n      <td>1</td>\n      <td>1</td>\n      <td>1</td>\n      <td>None</td>\n    </tr>\n  </tbody>\n</table>\n</div>"
     },
     "execution_count": 50,
     "metadata": {},
     "output_type": "execute_result"
    }
   ],
   "source": [
    "housing_df.loc[0:3]    # loc의 경우 슬라이스의 두 번째 인덱스가 포함_index id 0~3"
   ],
   "metadata": {
    "collapsed": false,
    "pycharm": {
     "name": "#%%\n"
    }
   }
  },
  {
   "cell_type": "code",
   "execution_count": 51,
   "outputs": [
    {
     "data": {
      "text/plain": "   TOTAL_VALUE   TAX  LOT_SQFT  YR_BUILT  GROSS_AREA  LIVING_AREA  FLOORS  \\\n0        344.2  4330      9965      1880        2436         1352     2.0   \n1        412.6  5190      6590      1945        3108         1976     2.0   \n2        330.1  4152      7500      1890        2294         1371     2.0   \n\n   ROOMS  BEDROOMS  FULL_BATH  HALF_BATH  KITCHEN  FIREPLACE REMODEL  \n0      6         3          1          1        1          0    None  \n1     10         4          2          1        1          0  Recent  \n2      8         4          1          1        1          0    None  ",
      "text/html": "<div>\n<style scoped>\n    .dataframe tbody tr th:only-of-type {\n        vertical-align: middle;\n    }\n\n    .dataframe tbody tr th {\n        vertical-align: top;\n    }\n\n    .dataframe thead th {\n        text-align: right;\n    }\n</style>\n<table border=\"1\" class=\"dataframe\">\n  <thead>\n    <tr style=\"text-align: right;\">\n      <th></th>\n      <th>TOTAL_VALUE</th>\n      <th>TAX</th>\n      <th>LOT_SQFT</th>\n      <th>YR_BUILT</th>\n      <th>GROSS_AREA</th>\n      <th>LIVING_AREA</th>\n      <th>FLOORS</th>\n      <th>ROOMS</th>\n      <th>BEDROOMS</th>\n      <th>FULL_BATH</th>\n      <th>HALF_BATH</th>\n      <th>KITCHEN</th>\n      <th>FIREPLACE</th>\n      <th>REMODEL</th>\n    </tr>\n  </thead>\n  <tbody>\n    <tr>\n      <th>0</th>\n      <td>344.2</td>\n      <td>4330</td>\n      <td>9965</td>\n      <td>1880</td>\n      <td>2436</td>\n      <td>1352</td>\n      <td>2.0</td>\n      <td>6</td>\n      <td>3</td>\n      <td>1</td>\n      <td>1</td>\n      <td>1</td>\n      <td>0</td>\n      <td>None</td>\n    </tr>\n    <tr>\n      <th>1</th>\n      <td>412.6</td>\n      <td>5190</td>\n      <td>6590</td>\n      <td>1945</td>\n      <td>3108</td>\n      <td>1976</td>\n      <td>2.0</td>\n      <td>10</td>\n      <td>4</td>\n      <td>2</td>\n      <td>1</td>\n      <td>1</td>\n      <td>0</td>\n      <td>Recent</td>\n    </tr>\n    <tr>\n      <th>2</th>\n      <td>330.1</td>\n      <td>4152</td>\n      <td>7500</td>\n      <td>1890</td>\n      <td>2294</td>\n      <td>1371</td>\n      <td>2.0</td>\n      <td>8</td>\n      <td>4</td>\n      <td>1</td>\n      <td>1</td>\n      <td>1</td>\n      <td>0</td>\n      <td>None</td>\n    </tr>\n  </tbody>\n</table>\n</div>"
     },
     "execution_count": 51,
     "metadata": {},
     "output_type": "execute_result"
    }
   ],
   "source": [
    "housing_df.iloc[0:3]     # iloc 의 경우 슬라이스의 두 번째 인덱스 제외_index id 0~2"
   ],
   "metadata": {
    "collapsed": false,
    "pycharm": {
     "name": "#%%\n"
    }
   }
  },
  {
   "cell_type": "markdown",
   "source": [
    "# Total value의 처음 10개 값을 표시하는 다양한 방법"
   ],
   "metadata": {
    "collapsed": false,
    "pycharm": {
     "name": "#%% md\n"
    }
   }
  },
  {
   "cell_type": "code",
   "execution_count": 52,
   "outputs": [
    {
     "data": {
      "text/plain": "0    344.2\n1    412.6\n2    330.1\n3    498.6\n4    331.5\n5    337.4\n6    359.4\n7    320.4\n8    333.5\n9    409.4\nName: TOTAL_VALUE, dtype: float64"
     },
     "execution_count": 52,
     "metadata": {},
     "output_type": "execute_result"
    }
   ],
   "source": [
    "housing_df['TOTAL_VALUE'].iloc[0:10]"
   ],
   "metadata": {
    "collapsed": false,
    "pycharm": {
     "name": "#%%\n"
    }
   }
  },
  {
   "cell_type": "code",
   "execution_count": 53,
   "outputs": [
    {
     "data": {
      "text/plain": "0    344.2\n1    412.6\n2    330.1\n3    498.6\n4    331.5\n5    337.4\n6    359.4\n7    320.4\n8    333.5\n9    409.4\nName: TOTAL_VALUE, dtype: float64"
     },
     "execution_count": 53,
     "metadata": {},
     "output_type": "execute_result"
    }
   ],
   "source": [
    "housing_df.iloc[0:10]['TOTAL_VALUE']"
   ],
   "metadata": {
    "collapsed": false,
    "pycharm": {
     "name": "#%%\n"
    }
   }
  },
  {
   "cell_type": "code",
   "execution_count": 54,
   "outputs": [
    {
     "data": {
      "text/plain": "0    344.2\n1    412.6\n2    330.1\n3    498.6\n4    331.5\n5    337.4\n6    359.4\n7    320.4\n8    333.5\n9    409.4\nName: TOTAL_VALUE, dtype: float64"
     },
     "execution_count": 54,
     "metadata": {},
     "output_type": "execute_result"
    }
   ],
   "source": [
    "housing_df.iloc[0:10].TOTAL_VALUE"
   ],
   "metadata": {
    "collapsed": false,
    "pycharm": {
     "name": "#%%\n"
    }
   }
  },
  {
   "cell_type": "markdown",
   "source": [
    "# 처음 10개 열의 다섯 번쨰 행 표시"
   ],
   "metadata": {
    "collapsed": false,
    "pycharm": {
     "name": "#%% md\n"
    }
   }
  },
  {
   "cell_type": "code",
   "execution_count": 55,
   "outputs": [
    {
     "data": {
      "text/plain": "TOTAL_VALUE    331.5\nTAX             4170\nLOT_SQFT        5000\nYR_BUILT        1910\nGROSS_AREA      2370\nLIVING_AREA     1438\nFLOORS           2.0\nROOMS              7\nBEDROOMS           3\nFULL_BATH          2\nName: 4, dtype: object"
     },
     "execution_count": 55,
     "metadata": {},
     "output_type": "execute_result"
    }
   ],
   "source": [
    "housing_df.iloc[4][:10]"
   ],
   "metadata": {
    "collapsed": false,
    "pycharm": {
     "name": "#%%\n"
    }
   }
  },
  {
   "cell_type": "code",
   "execution_count": 56,
   "outputs": [
    {
     "data": {
      "text/plain": "TOTAL_VALUE    331.5\nTAX             4170\nLOT_SQFT        5000\nYR_BUILT        1910\nGROSS_AREA      2370\nLIVING_AREA     1438\nFLOORS           2.0\nROOMS              7\nBEDROOMS           3\nFULL_BATH          2\nName: 4, dtype: object"
     },
     "execution_count": 56,
     "metadata": {},
     "output_type": "execute_result"
    }
   ],
   "source": [
    "housing_df.iloc[4, 0:10]"
   ],
   "metadata": {
    "collapsed": false,
    "pycharm": {
     "name": "#%%\n"
    }
   }
  },
  {
   "cell_type": "code",
   "execution_count": 57,
   "outputs": [
    {
     "data": {
      "text/plain": "   TOTAL_VALUE   TAX  LOT_SQFT  YR_BUILT  GROSS_AREA  LIVING_AREA  FLOORS  \\\n4        331.5  4170      5000      1910        2370         1438     2.0   \n\n   ROOMS  BEDROOMS  FULL_BATH  \n4      7         3          2  ",
      "text/html": "<div>\n<style scoped>\n    .dataframe tbody tr th:only-of-type {\n        vertical-align: middle;\n    }\n\n    .dataframe tbody tr th {\n        vertical-align: top;\n    }\n\n    .dataframe thead th {\n        text-align: right;\n    }\n</style>\n<table border=\"1\" class=\"dataframe\">\n  <thead>\n    <tr style=\"text-align: right;\">\n      <th></th>\n      <th>TOTAL_VALUE</th>\n      <th>TAX</th>\n      <th>LOT_SQFT</th>\n      <th>YR_BUILT</th>\n      <th>GROSS_AREA</th>\n      <th>LIVING_AREA</th>\n      <th>FLOORS</th>\n      <th>ROOMS</th>\n      <th>BEDROOMS</th>\n      <th>FULL_BATH</th>\n    </tr>\n  </thead>\n  <tbody>\n    <tr>\n      <th>4</th>\n      <td>331.5</td>\n      <td>4170</td>\n      <td>5000</td>\n      <td>1910</td>\n      <td>2370</td>\n      <td>1438</td>\n      <td>2.0</td>\n      <td>7</td>\n      <td>3</td>\n      <td>2</td>\n    </tr>\n  </tbody>\n</table>\n</div>"
     },
     "execution_count": 57,
     "metadata": {},
     "output_type": "execute_result"
    }
   ],
   "source": [
    "housing_df.iloc[4:5, 0:10]    # 데이터프레임 형식을 유지하려면 행에 슬라이스 사용"
   ],
   "metadata": {
    "collapsed": false,
    "pycharm": {
     "name": "#%%\n"
    }
   }
  },
  {
   "cell_type": "markdown",
   "source": [
    "# 전체 열"
   ],
   "metadata": {
    "collapsed": false,
    "pycharm": {
     "name": "#%% md\n"
    }
   }
  },
  {
   "cell_type": "code",
   "execution_count": 58,
   "outputs": [
    {
     "data": {
      "text/plain": "      TOTAL_VALUE\n0           344.2\n1           412.6\n2           330.1\n3           498.6\n4           331.5\n...           ...\n5797        404.8\n5798        407.9\n5799        406.5\n5800        308.7\n5801        447.6\n\n[5802 rows x 1 columns]",
      "text/html": "<div>\n<style scoped>\n    .dataframe tbody tr th:only-of-type {\n        vertical-align: middle;\n    }\n\n    .dataframe tbody tr th {\n        vertical-align: top;\n    }\n\n    .dataframe thead th {\n        text-align: right;\n    }\n</style>\n<table border=\"1\" class=\"dataframe\">\n  <thead>\n    <tr style=\"text-align: right;\">\n      <th></th>\n      <th>TOTAL_VALUE</th>\n    </tr>\n  </thead>\n  <tbody>\n    <tr>\n      <th>0</th>\n      <td>344.2</td>\n    </tr>\n    <tr>\n      <th>1</th>\n      <td>412.6</td>\n    </tr>\n    <tr>\n      <th>2</th>\n      <td>330.1</td>\n    </tr>\n    <tr>\n      <th>3</th>\n      <td>498.6</td>\n    </tr>\n    <tr>\n      <th>4</th>\n      <td>331.5</td>\n    </tr>\n    <tr>\n      <th>...</th>\n      <td>...</td>\n    </tr>\n    <tr>\n      <th>5797</th>\n      <td>404.8</td>\n    </tr>\n    <tr>\n      <th>5798</th>\n      <td>407.9</td>\n    </tr>\n    <tr>\n      <th>5799</th>\n      <td>406.5</td>\n    </tr>\n    <tr>\n      <th>5800</th>\n      <td>308.7</td>\n    </tr>\n    <tr>\n      <th>5801</th>\n      <td>447.6</td>\n    </tr>\n  </tbody>\n</table>\n<p>5802 rows × 1 columns</p>\n</div>"
     },
     "execution_count": 58,
     "metadata": {},
     "output_type": "execute_result"
    }
   ],
   "source": [
    "housing_df.iloc[:, 0:1]"
   ],
   "metadata": {
    "collapsed": false,
    "pycharm": {
     "name": "#%%\n"
    }
   }
  },
  {
   "cell_type": "code",
   "execution_count": 59,
   "outputs": [
    {
     "data": {
      "text/plain": "0       344.2\n1       412.6\n2       330.1\n3       498.6\n4       331.5\n        ...  \n5797    404.8\n5798    407.9\n5799    406.5\n5800    308.7\n5801    447.6\nName: TOTAL_VALUE, Length: 5802, dtype: float64"
     },
     "execution_count": 59,
     "metadata": {},
     "output_type": "execute_result"
    }
   ],
   "source": [
    "housing_df['TOTAL_VALUE']"
   ],
   "metadata": {
    "collapsed": false,
    "pycharm": {
     "name": "#%%\n"
    }
   }
  },
  {
   "cell_type": "markdown",
   "source": [
    "# 기술 통계"
   ],
   "metadata": {
    "collapsed": false,
    "pycharm": {
     "name": "#%% md\n"
    }
   }
  },
  {
   "cell_type": "code",
   "execution_count": 60,
   "outputs": [
    {
     "data": {
      "text/plain": "       TOTAL_VALUE           TAX      LOT_SQFT     YR_BUILT   GROSS_AREA  \\\ncount  5802.000000   5802.000000   5802.000000  5802.000000  5802.000000   \nmean    392.685715   4939.485867   6278.083764  1936.744916  2924.842123   \nstd      99.177414   1247.649118   2669.707974    35.989910   883.984726   \nmin     105.000000   1320.000000    997.000000     0.000000   821.000000   \n25%     325.125000   4089.500000   4772.000000  1920.000000  2347.000000   \n50%     375.900000   4728.000000   5683.000000  1935.000000  2700.000000   \n75%     438.775000   5519.500000   7022.250000  1955.000000  3239.000000   \nmax    1217.800000  15319.000000  46411.000000  2011.000000  8154.000000   \n\n       LIVING_AREA       FLOORS        ROOMS     BEDROOMS    FULL_BATH  \\\ncount  5802.000000  5802.000000  5802.000000  5802.000000  5802.000000   \nmean   1657.065322     1.683730     6.994829     3.230093     1.296794   \nstd     540.456726     0.444884     1.437657     0.846607     0.522040   \nmin     504.000000     1.000000     3.000000     1.000000     1.000000   \n25%    1308.000000     1.000000     6.000000     3.000000     1.000000   \n50%    1548.500000     2.000000     7.000000     3.000000     1.000000   \n75%    1873.750000     2.000000     8.000000     4.000000     2.000000   \nmax    5289.000000     3.000000    14.000000     9.000000     5.000000   \n\n         HALF_BATH     KITCHEN    FIREPLACE  \ncount  5802.000000  5802.00000  5802.000000  \nmean      0.613926     1.01534     0.739917  \nstd       0.533839     0.12291     0.565108  \nmin       0.000000     1.00000     0.000000  \n25%       0.000000     1.00000     0.000000  \n50%       1.000000     1.00000     1.000000  \n75%       1.000000     1.00000     1.000000  \nmax       3.000000     2.00000     4.000000  ",
      "text/html": "<div>\n<style scoped>\n    .dataframe tbody tr th:only-of-type {\n        vertical-align: middle;\n    }\n\n    .dataframe tbody tr th {\n        vertical-align: top;\n    }\n\n    .dataframe thead th {\n        text-align: right;\n    }\n</style>\n<table border=\"1\" class=\"dataframe\">\n  <thead>\n    <tr style=\"text-align: right;\">\n      <th></th>\n      <th>TOTAL_VALUE</th>\n      <th>TAX</th>\n      <th>LOT_SQFT</th>\n      <th>YR_BUILT</th>\n      <th>GROSS_AREA</th>\n      <th>LIVING_AREA</th>\n      <th>FLOORS</th>\n      <th>ROOMS</th>\n      <th>BEDROOMS</th>\n      <th>FULL_BATH</th>\n      <th>HALF_BATH</th>\n      <th>KITCHEN</th>\n      <th>FIREPLACE</th>\n    </tr>\n  </thead>\n  <tbody>\n    <tr>\n      <th>count</th>\n      <td>5802.000000</td>\n      <td>5802.000000</td>\n      <td>5802.000000</td>\n      <td>5802.000000</td>\n      <td>5802.000000</td>\n      <td>5802.000000</td>\n      <td>5802.000000</td>\n      <td>5802.000000</td>\n      <td>5802.000000</td>\n      <td>5802.000000</td>\n      <td>5802.000000</td>\n      <td>5802.00000</td>\n      <td>5802.000000</td>\n    </tr>\n    <tr>\n      <th>mean</th>\n      <td>392.685715</td>\n      <td>4939.485867</td>\n      <td>6278.083764</td>\n      <td>1936.744916</td>\n      <td>2924.842123</td>\n      <td>1657.065322</td>\n      <td>1.683730</td>\n      <td>6.994829</td>\n      <td>3.230093</td>\n      <td>1.296794</td>\n      <td>0.613926</td>\n      <td>1.01534</td>\n      <td>0.739917</td>\n    </tr>\n    <tr>\n      <th>std</th>\n      <td>99.177414</td>\n      <td>1247.649118</td>\n      <td>2669.707974</td>\n      <td>35.989910</td>\n      <td>883.984726</td>\n      <td>540.456726</td>\n      <td>0.444884</td>\n      <td>1.437657</td>\n      <td>0.846607</td>\n      <td>0.522040</td>\n      <td>0.533839</td>\n      <td>0.12291</td>\n      <td>0.565108</td>\n    </tr>\n    <tr>\n      <th>min</th>\n      <td>105.000000</td>\n      <td>1320.000000</td>\n      <td>997.000000</td>\n      <td>0.000000</td>\n      <td>821.000000</td>\n      <td>504.000000</td>\n      <td>1.000000</td>\n      <td>3.000000</td>\n      <td>1.000000</td>\n      <td>1.000000</td>\n      <td>0.000000</td>\n      <td>1.00000</td>\n      <td>0.000000</td>\n    </tr>\n    <tr>\n      <th>25%</th>\n      <td>325.125000</td>\n      <td>4089.500000</td>\n      <td>4772.000000</td>\n      <td>1920.000000</td>\n      <td>2347.000000</td>\n      <td>1308.000000</td>\n      <td>1.000000</td>\n      <td>6.000000</td>\n      <td>3.000000</td>\n      <td>1.000000</td>\n      <td>0.000000</td>\n      <td>1.00000</td>\n      <td>0.000000</td>\n    </tr>\n    <tr>\n      <th>50%</th>\n      <td>375.900000</td>\n      <td>4728.000000</td>\n      <td>5683.000000</td>\n      <td>1935.000000</td>\n      <td>2700.000000</td>\n      <td>1548.500000</td>\n      <td>2.000000</td>\n      <td>7.000000</td>\n      <td>3.000000</td>\n      <td>1.000000</td>\n      <td>1.000000</td>\n      <td>1.00000</td>\n      <td>1.000000</td>\n    </tr>\n    <tr>\n      <th>75%</th>\n      <td>438.775000</td>\n      <td>5519.500000</td>\n      <td>7022.250000</td>\n      <td>1955.000000</td>\n      <td>3239.000000</td>\n      <td>1873.750000</td>\n      <td>2.000000</td>\n      <td>8.000000</td>\n      <td>4.000000</td>\n      <td>2.000000</td>\n      <td>1.000000</td>\n      <td>1.00000</td>\n      <td>1.000000</td>\n    </tr>\n    <tr>\n      <th>max</th>\n      <td>1217.800000</td>\n      <td>15319.000000</td>\n      <td>46411.000000</td>\n      <td>2011.000000</td>\n      <td>8154.000000</td>\n      <td>5289.000000</td>\n      <td>3.000000</td>\n      <td>14.000000</td>\n      <td>9.000000</td>\n      <td>5.000000</td>\n      <td>3.000000</td>\n      <td>2.00000</td>\n      <td>4.000000</td>\n    </tr>\n  </tbody>\n</table>\n</div>"
     },
     "execution_count": 60,
     "metadata": {},
     "output_type": "execute_result"
    }
   ],
   "source": [
    "housing_df.describe()"
   ],
   "metadata": {
    "collapsed": false,
    "pycharm": {
     "name": "#%%\n"
    }
   }
  },
  {
   "cell_type": "code",
   "execution_count": 61,
   "outputs": [
    {
     "name": "stdout",
     "output_type": "stream",
     "text": [
      "Number of Rows  5802\n",
      "Mean of TOTAL_VALUE  392.6857149258877\n"
     ]
    }
   ],
   "source": [
    "print('Number of Rows ', len(housing_df['TOTAL_VALUE']))\n",
    "print('Mean of TOTAL_VALUE ', housing_df['TOTAL_VALUE'].mean())"
   ],
   "metadata": {
    "collapsed": false,
    "pycharm": {
     "name": "#%%\n"
    }
   }
  },
  {
   "cell_type": "code",
   "execution_count": 62,
   "outputs": [
    {
     "data": {
      "text/plain": "count    5802.000000\nmean      392.685715\nstd        99.177414\nmin       105.000000\n25%       325.125000\n50%       375.900000\n75%       438.775000\nmax      1217.800000\nName: TOTAL_VALUE, dtype: float64"
     },
     "execution_count": 62,
     "metadata": {},
     "output_type": "execute_result"
    }
   ],
   "source": [
    "housing_df['TOTAL_VALUE'].describe()"
   ],
   "metadata": {
    "collapsed": false,
    "pycharm": {
     "name": "#%%\n"
    }
   }
  },
  {
   "cell_type": "markdown",
   "metadata": {
    "id": "B5smXvEKtR1g",
    "pycharm": {
     "name": "#%% md\n"
    }
   },
   "source": [
    "## 데이터 전처리와 데이터 정제"
   ]
  },
  {
   "cell_type": "code",
   "execution_count": 63,
   "outputs": [
    {
     "name": "stdout",
     "output_type": "stream",
     "text": [
      "object\n",
      "Index(['None', 'Old', 'Recent'], dtype='object')\n",
      "category\n"
     ]
    }
   ],
   "source": [
    "# 판다스 활용 변수 특성 파악\n",
    "# REMODEL 열을 factor 이기 떄문에 데이터 타입 변경\n",
    "print(housing_df.REMODEL.dtype)\n",
    "housing_df.REMODEL = housing_df.REMODEL.astype('category')\n",
    "print(housing_df.REMODEL.cat.categories)\n",
    "print(housing_df.REMODEL.dtype)    # 'category' 타입"
   ],
   "metadata": {
    "collapsed": false,
    "pycharm": {
     "name": "#%%\n"
    }
   }
  },
  {
   "cell_type": "code",
   "execution_count": 64,
   "outputs": [
    {
     "data": {
      "text/plain": "TOTAL_VALUE     float64\nTAX               int64\nLOT_SQFT          int64\nYR_BUILT          int64\nGROSS_AREA        int64\nLIVING_AREA       int64\nFLOORS          float64\nROOMS             int64\nBEDROOMS          int64\nFULL_BATH         int64\nHALF_BATH         int64\nKITCHEN           int64\nFIREPLACE         int64\nREMODEL        category\ndtype: object"
     },
     "execution_count": 64,
     "metadata": {},
     "output_type": "execute_result"
    }
   ],
   "source": [
    "housing_df.dtypes"
   ],
   "metadata": {
    "collapsed": false,
    "pycharm": {
     "name": "#%%\n"
    }
   }
  },
  {
   "cell_type": "markdown",
   "metadata": {
    "id": "hB__FzXMuTA4",
    "pycharm": {
     "name": "#%% md\n"
    }
   },
   "source": [
    "### 범주형 변수 처리\n",
    "* 범주형 변수 값에 순위가 있는 경우(연령구간, 신용 등급)에는 연속형 변수로 간주\n",
    "* 범주에 순위가 없다면 변수를 가변수로 바꿔서 사용하기도 함"
   ]
  },
  {
   "cell_type": "markdown",
   "source": [
    "# 판다스 이용한 가변수 생성"
   ],
   "metadata": {
    "collapsed": false,
    "pycharm": {
     "name": "#%% md\n"
    }
   }
  },
  {
   "cell_type": "code",
   "execution_count": 65,
   "outputs": [
    {
     "data": {
      "text/plain": "Index(['TOTAL_VALUE', 'TAX', 'LOT_SQFT', 'YR_BUILT', 'GROSS_AREA',\n       'LIVING_AREA', 'FLOORS', 'ROOMS', 'BEDROOMS', 'FULL_BATH', 'HALF_BATH',\n       'KITCHEN', 'FIREPLACE', 'REMODEL_Old', 'REMODEL_Recent'],\n      dtype='object')"
     },
     "execution_count": 65,
     "metadata": {},
     "output_type": "execute_result"
    }
   ],
   "source": [
    "# drop_first = True 첫 번쨰 더미 변수 삭제\n",
    "housing_df = pd.get_dummies(housing_df, prefix_sep = '_', drop_first = True)\n",
    "housing_df.columns"
   ],
   "metadata": {
    "collapsed": false,
    "pycharm": {
     "name": "#%%\n"
    }
   }
  },
  {
   "cell_type": "code",
   "execution_count": 66,
   "outputs": [
    {
     "name": "stdout",
     "output_type": "stream",
     "text": [
      "   REMODEL_Old  REMODEL_Recent\n",
      "0            0               0\n",
      "1            0               1\n",
      "2            0               0\n",
      "3            0               0\n",
      "4            0               0\n"
     ]
    }
   ],
   "source": [
    "print(housing_df.loc[:, 'REMODEL_Old':'REMODEL_Recent'].head())"
   ],
   "metadata": {
    "collapsed": false,
    "pycharm": {
     "name": "#%%\n"
    }
   }
  },
  {
   "cell_type": "markdown",
   "metadata": {
    "id": "BF7f-_A-vBDM",
    "pycharm": {
     "name": "#%% md\n"
    }
   },
   "source": [
    "### 변수 선택\n",
    "* 신뢰성이 높은 모델을 구축하려면 꼭 필요한 변수만 사용하는 것이 바람직\n",
    "* 변수를 너무 많이 사용할 경우 변수 간의 상관관계를 고려해야 하고 더 많은 수의 관측치 필요\n",
    "* 변수가 너무 많은 모델은 미래 값을 예측하는 데 데이터가 더 많이 필요하고 전처리 작업도 증가해 강건하지 않음"
   ]
  },
  {
   "cell_type": "markdown",
   "metadata": {
    "pycharm": {
     "name": "#%% md\n"
    }
   },
   "source": [
    "### 필요 변수와 관측치 수\n",
    "* 적절한 변수를 포함시키는 작업은 모델 구축 시 매우 중요\n",
    "* 꼭 필요한 변수만 사용해야 간결한 모델 구축 가능하고, 간결한 모델이 결국 훌륭한 모델\n",
    "* 방대한 데이터에서 모델에 어떤 변수를 포함할지는 매우 중요\n",
    "* 도메인 지식이 있는 사람에게서 얻는 정보는 변수 포함 여부를 결정할 때 중요하고 모델의 정확도를 높이고 오차를 줄이는 데 도움"
   ]
  },
  {
   "cell_type": "markdown",
   "source": [
    "### 변수 선택\n",
    "* 신뢰성이 높은 모델을 구축하려면 꼭 필요한 변수만 사용하는 것이 바람직\n",
    "* 변수를 너무 많이 사용할 경우 변수 간의 상관관계를 고려해야 하고 더 많은 수의 관측치 필요\n",
    "* 변수가 너무 많은 모델은 미래 값을 예측하는 데 데이터가 더 많이 필요하고 전처리 작업도 증가해 강건하지 않음"
   ],
   "metadata": {
    "collapsed": false,
    "pycharm": {
     "name": "#%% md\n"
    }
   }
  },
  {
   "cell_type": "markdown",
   "source": [
    "### 필요 변수와 관측치 수\n",
    "* 적절한 변수를 포함시키는 작업은 모델 구축 시 매우 중요\n",
    "* 꼭 필요한 변수만 사용해야 간결한 모델 구축 가능하고, 간결한 모델이 결국 훌륭한 모델\n",
    "* 방대한 데이터에서 모델에 어떤 변수를 포함할지는 매우 중요\n",
    "* 도메인 지식이 있는 사람에게서 얻는 정보는 변수 포함 여부를 결정할 때 중요하고 모델의 정확도를 높이고 오차를 줄이는 데 도움"
   ],
   "metadata": {
    "collapsed": false,
    "pycharm": {
     "name": "#%% md\n"
    }
   }
  },
  {
   "cell_type": "markdown",
   "source": [
    "### 이상치\n",
    "* 측정 오류나 잘못된 입력으로 인해 이상치 발생 가능\n",
    "* 기존 데이터로부터 멀리 떨어진, 통상 평균으로부터 표준편차의 세 배가 넘는 범위의 데이터\n",
    "* 통계 기법으로 이상치의 후보를 찾고 최종 이상치 판정은 실무자들이 하는 것이 바람적\n",
    "* 변수별 값들을 내림차순으로 정렬하고 이들 중 가장 크거나 작은 수치들을 이상치로 판정, 군집 분석을 이용해 다른 데이터들과 일정거리 이상 떨어진 데이터를 이상치로 판정\n",
    "* 이상치의 개수가 매우 적은 경우에는 결측치로 판정 가능"
   ],
   "metadata": {
    "collapsed": false,
    "pycharm": {
     "name": "#%% md\n"
    }
   }
  },
  {
   "cell_type": "markdown",
   "source": [
    "### 결측치\n",
    "* 변수가 많은 경우, 결측치를 단순 삭제하면 결측치가 데이터에서 차지하는 비율이 낮더라도 많은 관측치에 영향을 미칠 수 있음\n",
    "* 결측치가 있는 관측치를 삭제하기보다 기존 데이터를 이용해 대체할 수 있음\n",
    "* 간단한 결측치 대체값ㅇㄴ 평균, 중앙값 등, 좀 더 정교한 대체값은 회귀 분석을 이용\n",
    "* 데이터가 충분히 많을 경우, 복잡한 결측치 처리법보다는 간단한 방법 선호\n",
    "* 이 경우에는 변수의 중요도를 측정하여 해당 변수가 예측에 미치는 영향력이 미미하다면 그 변수를 삭제하고 그렇지 않다면 결측치가 적게 존재하는 변수의 정보를 이용해 결측치를 대체하는 것이 좋음\n",
    "* 정말 중요한 변수의 결측치를 해결하는 근본적인 방법은 실제값을 얻는 것"
   ],
   "metadata": {
    "collapsed": false,
    "pycharm": {
     "name": "#%% md\n"
    }
   }
  },
  {
   "cell_type": "code",
   "execution_count": null,
   "outputs": [],
   "source": [],
   "metadata": {
    "collapsed": false,
    "pycharm": {
     "name": "#%%\n"
    }
   }
  }
 ],
 "metadata": {
  "colab": {
   "provenance": []
  },
  "kernelspec": {
   "display_name": "Python 3 (ipykernel)",
   "language": "python",
   "name": "python3"
  },
  "language_info": {
   "codemirror_mode": {
    "name": "ipython",
    "version": 3
   },
   "file_extension": ".py",
   "mimetype": "text/x-python",
   "name": "python",
   "nbconvert_exporter": "python",
   "pygments_lexer": "ipython3",
   "version": "3.9.12"
  }
 },
 "nbformat": 4,
 "nbformat_minor": 1
}