{
 "cells": [
  {
   "cell_type": "markdown",
   "source": [
    "# Datamining hw #1"
   ],
   "metadata": {
    "collapsed": false,
    "pycharm": {
     "name": "#%% md\n"
    }
   }
  },
  {
   "cell_type": "code",
   "execution_count": 56,
   "outputs": [
    {
     "data": {
      "text/plain": "                                           model  price  age_08_04  mfg_month  \\\n0  TOYOTA Corolla 2.0 D4D HATCHB TERRA 2/3-Doors  13500         23         10   \n1  TOYOTA Corolla 2.0 D4D HATCHB TERRA 2/3-Doors  13750         23         10   \n2  TOYOTA Corolla 2.0 D4D HATCHB TERRA 2/3-Doors  13950         24          9   \n3  TOYOTA Corolla 2.0 D4D HATCHB TERRA 2/3-Doors  14950         26          7   \n4    TOYOTA Corolla 2.0 D4D HATCHB SOL 2/3-Doors  13750         30          3   \n\n   mfg_year     km fuel_type  hp  met_color   color  ...  powered_windows  \\\n0      2002  46986    Diesel  90          1    Blue  ...                1   \n1      2002  72937    Diesel  90          1  Silver  ...                0   \n2      2002  41711    Diesel  90          1    Blue  ...                0   \n3      2002  48000    Diesel  90          0   Black  ...                0   \n4      2002  38500    Diesel  90          0   Black  ...                1   \n\n   power_steering  radio  mistlamps  sport_model  backseat_divider  \\\n0               1      0          0            0                 1   \n1               1      0          0            0                 1   \n2               1      0          0            0                 1   \n3               1      0          0            0                 1   \n4               1      0          1            0                 1   \n\n   metallic_rim  radio_cassette  parking_assistant  tow_bar  \n0             0               0                  0        0  \n1             0               0                  0        0  \n2             0               0                  0        0  \n3             0               0                  0        0  \n4             0               0                  0        0  \n\n[5 rows x 38 columns]",
      "text/html": "<div>\n<style scoped>\n    .dataframe tbody tr th:only-of-type {\n        vertical-align: middle;\n    }\n\n    .dataframe tbody tr th {\n        vertical-align: top;\n    }\n\n    .dataframe thead th {\n        text-align: right;\n    }\n</style>\n<table border=\"1\" class=\"dataframe\">\n  <thead>\n    <tr style=\"text-align: right;\">\n      <th></th>\n      <th>model</th>\n      <th>price</th>\n      <th>age_08_04</th>\n      <th>mfg_month</th>\n      <th>mfg_year</th>\n      <th>km</th>\n      <th>fuel_type</th>\n      <th>hp</th>\n      <th>met_color</th>\n      <th>color</th>\n      <th>...</th>\n      <th>powered_windows</th>\n      <th>power_steering</th>\n      <th>radio</th>\n      <th>mistlamps</th>\n      <th>sport_model</th>\n      <th>backseat_divider</th>\n      <th>metallic_rim</th>\n      <th>radio_cassette</th>\n      <th>parking_assistant</th>\n      <th>tow_bar</th>\n    </tr>\n  </thead>\n  <tbody>\n    <tr>\n      <th>0</th>\n      <td>TOYOTA Corolla 2.0 D4D HATCHB TERRA 2/3-Doors</td>\n      <td>13500</td>\n      <td>23</td>\n      <td>10</td>\n      <td>2002</td>\n      <td>46986</td>\n      <td>Diesel</td>\n      <td>90</td>\n      <td>1</td>\n      <td>Blue</td>\n      <td>...</td>\n      <td>1</td>\n      <td>1</td>\n      <td>0</td>\n      <td>0</td>\n      <td>0</td>\n      <td>1</td>\n      <td>0</td>\n      <td>0</td>\n      <td>0</td>\n      <td>0</td>\n    </tr>\n    <tr>\n      <th>1</th>\n      <td>TOYOTA Corolla 2.0 D4D HATCHB TERRA 2/3-Doors</td>\n      <td>13750</td>\n      <td>23</td>\n      <td>10</td>\n      <td>2002</td>\n      <td>72937</td>\n      <td>Diesel</td>\n      <td>90</td>\n      <td>1</td>\n      <td>Silver</td>\n      <td>...</td>\n      <td>0</td>\n      <td>1</td>\n      <td>0</td>\n      <td>0</td>\n      <td>0</td>\n      <td>1</td>\n      <td>0</td>\n      <td>0</td>\n      <td>0</td>\n      <td>0</td>\n    </tr>\n    <tr>\n      <th>2</th>\n      <td>TOYOTA Corolla 2.0 D4D HATCHB TERRA 2/3-Doors</td>\n      <td>13950</td>\n      <td>24</td>\n      <td>9</td>\n      <td>2002</td>\n      <td>41711</td>\n      <td>Diesel</td>\n      <td>90</td>\n      <td>1</td>\n      <td>Blue</td>\n      <td>...</td>\n      <td>0</td>\n      <td>1</td>\n      <td>0</td>\n      <td>0</td>\n      <td>0</td>\n      <td>1</td>\n      <td>0</td>\n      <td>0</td>\n      <td>0</td>\n      <td>0</td>\n    </tr>\n    <tr>\n      <th>3</th>\n      <td>TOYOTA Corolla 2.0 D4D HATCHB TERRA 2/3-Doors</td>\n      <td>14950</td>\n      <td>26</td>\n      <td>7</td>\n      <td>2002</td>\n      <td>48000</td>\n      <td>Diesel</td>\n      <td>90</td>\n      <td>0</td>\n      <td>Black</td>\n      <td>...</td>\n      <td>0</td>\n      <td>1</td>\n      <td>0</td>\n      <td>0</td>\n      <td>0</td>\n      <td>1</td>\n      <td>0</td>\n      <td>0</td>\n      <td>0</td>\n      <td>0</td>\n    </tr>\n    <tr>\n      <th>4</th>\n      <td>TOYOTA Corolla 2.0 D4D HATCHB SOL 2/3-Doors</td>\n      <td>13750</td>\n      <td>30</td>\n      <td>3</td>\n      <td>2002</td>\n      <td>38500</td>\n      <td>Diesel</td>\n      <td>90</td>\n      <td>0</td>\n      <td>Black</td>\n      <td>...</td>\n      <td>1</td>\n      <td>1</td>\n      <td>0</td>\n      <td>1</td>\n      <td>0</td>\n      <td>1</td>\n      <td>0</td>\n      <td>0</td>\n      <td>0</td>\n      <td>0</td>\n    </tr>\n  </tbody>\n</table>\n<p>5 rows × 38 columns</p>\n</div>"
     },
     "execution_count": 56,
     "metadata": {},
     "output_type": "execute_result"
    }
   ],
   "source": [
    "# fuel type 변수와 Color 변수를 가변수로 변환\n",
    "import pandas as pd\n",
    "import numpy as np\n",
    "toyota_df = pd.read_csv('C:/Users/User/Desktop/대학/23-1/ToyotaCorolla.csv')\n",
    "toyota_df.head()"
   ],
   "metadata": {
    "collapsed": false,
    "pycharm": {
     "name": "#%%\n"
    }
   }
  },
  {
   "cell_type": "code",
   "execution_count": 57,
   "outputs": [
    {
     "name": "stdout",
     "output_type": "stream",
     "text": [
      "<class 'pandas.core.frame.DataFrame'>\n",
      "RangeIndex: 1436 entries, 0 to 1435\n",
      "Data columns (total 38 columns):\n",
      " #   Column             Non-Null Count  Dtype \n",
      "---  ------             --------------  ----- \n",
      " 0   model              1436 non-null   object\n",
      " 1   price              1436 non-null   int64 \n",
      " 2   age_08_04          1436 non-null   int64 \n",
      " 3   mfg_month          1436 non-null   int64 \n",
      " 4   mfg_year           1436 non-null   int64 \n",
      " 5   km                 1436 non-null   int64 \n",
      " 6   fuel_type          1436 non-null   object\n",
      " 7   hp                 1436 non-null   int64 \n",
      " 8   met_color          1436 non-null   int64 \n",
      " 9   color              1436 non-null   object\n",
      " 10  automatic          1436 non-null   int64 \n",
      " 11  cc                 1436 non-null   int64 \n",
      " 12  doors              1436 non-null   int64 \n",
      " 13  cylinders          1436 non-null   int64 \n",
      " 14  gears              1436 non-null   int64 \n",
      " 15  quarterly_tax      1436 non-null   int64 \n",
      " 16  weight             1436 non-null   int64 \n",
      " 17  mfr_guarantee      1436 non-null   int64 \n",
      " 18  bovag_guarantee    1436 non-null   int64 \n",
      " 19  guarantee_period   1436 non-null   int64 \n",
      " 20  abs                1436 non-null   int64 \n",
      " 21  airbag_1           1436 non-null   int64 \n",
      " 22  airbag_2           1436 non-null   int64 \n",
      " 23  airco              1436 non-null   int64 \n",
      " 24  automatic_airco    1436 non-null   int64 \n",
      " 25  boardcomputer      1436 non-null   int64 \n",
      " 26  cd_player          1436 non-null   int64 \n",
      " 27  central_lock       1436 non-null   int64 \n",
      " 28  powered_windows    1436 non-null   int64 \n",
      " 29  power_steering     1436 non-null   int64 \n",
      " 30  radio              1436 non-null   int64 \n",
      " 31  mistlamps          1436 non-null   int64 \n",
      " 32  sport_model        1436 non-null   int64 \n",
      " 33  backseat_divider   1436 non-null   int64 \n",
      " 34  metallic_rim       1436 non-null   int64 \n",
      " 35  radio_cassette     1436 non-null   int64 \n",
      " 36  parking_assistant  1436 non-null   int64 \n",
      " 37  tow_bar            1436 non-null   int64 \n",
      "dtypes: int64(35), object(3)\n",
      "memory usage: 426.4+ KB\n"
     ]
    }
   ],
   "source": [
    "toyota_df.info()"
   ],
   "metadata": {
    "collapsed": false,
    "pycharm": {
     "name": "#%%\n"
    }
   }
  },
  {
   "cell_type": "code",
   "execution_count": 58,
   "outputs": [
    {
     "data": {
      "text/plain": "Index(['model', 'price', 'age_08_04', 'mfg_month', 'mfg_year', 'km',\n       'fuel_type', 'hp', 'met_color', 'color', 'automatic', 'cc', 'doors',\n       'cylinders', 'gears', 'quarterly_tax', 'weight', 'mfr_guarantee',\n       'bovag_guarantee', 'guarantee_period', 'abs', 'airbag_1', 'airbag_2',\n       'airco', 'automatic_airco', 'boardcomputer', 'cd_player',\n       'central_lock', 'powered_windows', 'power_steering', 'radio',\n       'mistlamps', 'sport_model', 'backseat_divider', 'metallic_rim',\n       'radio_cassette', 'parking_assistant', 'tow_bar'],\n      dtype='object')"
     },
     "execution_count": 58,
     "metadata": {},
     "output_type": "execute_result"
    }
   ],
   "source": [
    "toyota_df.columns"
   ],
   "metadata": {
    "collapsed": false,
    "pycharm": {
     "name": "#%%\n"
    }
   }
  },
  {
   "cell_type": "code",
   "execution_count": 59,
   "outputs": [
    {
     "data": {
      "text/plain": "array(['Diesel', 'Petrol', 'CNG'], dtype=object)"
     },
     "execution_count": 59,
     "metadata": {},
     "output_type": "execute_result"
    }
   ],
   "source": [
    "toyota_df['fuel_type'].unique()"
   ],
   "metadata": {
    "collapsed": false,
    "pycharm": {
     "name": "#%%\n"
    }
   }
  },
  {
   "cell_type": "code",
   "execution_count": 60,
   "outputs": [
    {
     "name": "stdout",
     "output_type": "stream",
     "text": [
      "object\n",
      "Index(['CNG', 'Diesel', 'Petrol'], dtype='object')\n",
      "category\n"
     ]
    }
   ],
   "source": [
    "# fuel_type 열은 factor 이기 때문에 data type 변경\n",
    "print(toyota_df.fuel_type.dtype)\n",
    "toyota_df.fuel_type = toyota_df.fuel_type.astype('category')\n",
    "print(toyota_df.fuel_type.cat.categories)\n",
    "print(toyota_df.fuel_type.dtype)"
   ],
   "metadata": {
    "collapsed": false,
    "pycharm": {
     "name": "#%%\n"
    }
   }
  },
  {
   "cell_type": "code",
   "execution_count": 61,
   "outputs": [
    {
     "data": {
      "text/plain": "array(['Blue', 'Silver', 'Black', 'White', 'Grey', 'Red', 'Green',\n       'Yellow', 'Violet', 'Beige'], dtype=object)"
     },
     "execution_count": 61,
     "metadata": {},
     "output_type": "execute_result"
    }
   ],
   "source": [
    "toyota_df['color'].unique()"
   ],
   "metadata": {
    "collapsed": false,
    "pycharm": {
     "name": "#%%\n"
    }
   }
  },
  {
   "cell_type": "code",
   "execution_count": 62,
   "outputs": [
    {
     "name": "stdout",
     "output_type": "stream",
     "text": [
      "object\n",
      "Index(['Beige', 'Black', 'Blue', 'Green', 'Grey', 'Red', 'Silver', 'Violet',\n",
      "       'White', 'Yellow'],\n",
      "      dtype='object')\n",
      "category\n"
     ]
    }
   ],
   "source": [
    "print(toyota_df.color.dtype)\n",
    "toyota_df.color = toyota_df.color.astype('category')\n",
    "print(toyota_df.color.cat.categories)\n",
    "print(toyota_df.color.dtype)"
   ],
   "metadata": {
    "collapsed": false,
    "pycharm": {
     "name": "#%%\n"
    }
   }
  },
  {
   "cell_type": "code",
   "execution_count": 63,
   "outputs": [
    {
     "data": {
      "text/plain": "                                           model  price  age_08_04  mfg_month  \\\n0  TOYOTA Corolla 2.0 D4D HATCHB TERRA 2/3-Doors  13500         23         10   \n1  TOYOTA Corolla 2.0 D4D HATCHB TERRA 2/3-Doors  13750         23         10   \n2  TOYOTA Corolla 2.0 D4D HATCHB TERRA 2/3-Doors  13950         24          9   \n3  TOYOTA Corolla 2.0 D4D HATCHB TERRA 2/3-Doors  14950         26          7   \n4    TOYOTA Corolla 2.0 D4D HATCHB SOL 2/3-Doors  13750         30          3   \n\n   mfg_year     km  hp  met_color  automatic    cc  ...  color_Beige  \\\n0      2002  46986  90          1          0  2000  ...            0   \n1      2002  72937  90          1          0  2000  ...            0   \n2      2002  41711  90          1          0  2000  ...            0   \n3      2002  48000  90          0          0  2000  ...            0   \n4      2002  38500  90          0          0  2000  ...            0   \n\n   color_Black  color_Blue  color_Green  color_Grey  color_Red  color_Silver  \\\n0            0           1            0           0          0             0   \n1            0           0            0           0          0             1   \n2            0           1            0           0          0             0   \n3            1           0            0           0          0             0   \n4            1           0            0           0          0             0   \n\n   color_Violet  color_White  color_Yellow  \n0             0            0             0  \n1             0            0             0  \n2             0            0             0  \n3             0            0             0  \n4             0            0             0  \n\n[5 rows x 49 columns]",
      "text/html": "<div>\n<style scoped>\n    .dataframe tbody tr th:only-of-type {\n        vertical-align: middle;\n    }\n\n    .dataframe tbody tr th {\n        vertical-align: top;\n    }\n\n    .dataframe thead th {\n        text-align: right;\n    }\n</style>\n<table border=\"1\" class=\"dataframe\">\n  <thead>\n    <tr style=\"text-align: right;\">\n      <th></th>\n      <th>model</th>\n      <th>price</th>\n      <th>age_08_04</th>\n      <th>mfg_month</th>\n      <th>mfg_year</th>\n      <th>km</th>\n      <th>hp</th>\n      <th>met_color</th>\n      <th>automatic</th>\n      <th>cc</th>\n      <th>...</th>\n      <th>color_Beige</th>\n      <th>color_Black</th>\n      <th>color_Blue</th>\n      <th>color_Green</th>\n      <th>color_Grey</th>\n      <th>color_Red</th>\n      <th>color_Silver</th>\n      <th>color_Violet</th>\n      <th>color_White</th>\n      <th>color_Yellow</th>\n    </tr>\n  </thead>\n  <tbody>\n    <tr>\n      <th>0</th>\n      <td>TOYOTA Corolla 2.0 D4D HATCHB TERRA 2/3-Doors</td>\n      <td>13500</td>\n      <td>23</td>\n      <td>10</td>\n      <td>2002</td>\n      <td>46986</td>\n      <td>90</td>\n      <td>1</td>\n      <td>0</td>\n      <td>2000</td>\n      <td>...</td>\n      <td>0</td>\n      <td>0</td>\n      <td>1</td>\n      <td>0</td>\n      <td>0</td>\n      <td>0</td>\n      <td>0</td>\n      <td>0</td>\n      <td>0</td>\n      <td>0</td>\n    </tr>\n    <tr>\n      <th>1</th>\n      <td>TOYOTA Corolla 2.0 D4D HATCHB TERRA 2/3-Doors</td>\n      <td>13750</td>\n      <td>23</td>\n      <td>10</td>\n      <td>2002</td>\n      <td>72937</td>\n      <td>90</td>\n      <td>1</td>\n      <td>0</td>\n      <td>2000</td>\n      <td>...</td>\n      <td>0</td>\n      <td>0</td>\n      <td>0</td>\n      <td>0</td>\n      <td>0</td>\n      <td>0</td>\n      <td>1</td>\n      <td>0</td>\n      <td>0</td>\n      <td>0</td>\n    </tr>\n    <tr>\n      <th>2</th>\n      <td>TOYOTA Corolla 2.0 D4D HATCHB TERRA 2/3-Doors</td>\n      <td>13950</td>\n      <td>24</td>\n      <td>9</td>\n      <td>2002</td>\n      <td>41711</td>\n      <td>90</td>\n      <td>1</td>\n      <td>0</td>\n      <td>2000</td>\n      <td>...</td>\n      <td>0</td>\n      <td>0</td>\n      <td>1</td>\n      <td>0</td>\n      <td>0</td>\n      <td>0</td>\n      <td>0</td>\n      <td>0</td>\n      <td>0</td>\n      <td>0</td>\n    </tr>\n    <tr>\n      <th>3</th>\n      <td>TOYOTA Corolla 2.0 D4D HATCHB TERRA 2/3-Doors</td>\n      <td>14950</td>\n      <td>26</td>\n      <td>7</td>\n      <td>2002</td>\n      <td>48000</td>\n      <td>90</td>\n      <td>0</td>\n      <td>0</td>\n      <td>2000</td>\n      <td>...</td>\n      <td>0</td>\n      <td>1</td>\n      <td>0</td>\n      <td>0</td>\n      <td>0</td>\n      <td>0</td>\n      <td>0</td>\n      <td>0</td>\n      <td>0</td>\n      <td>0</td>\n    </tr>\n    <tr>\n      <th>4</th>\n      <td>TOYOTA Corolla 2.0 D4D HATCHB SOL 2/3-Doors</td>\n      <td>13750</td>\n      <td>30</td>\n      <td>3</td>\n      <td>2002</td>\n      <td>38500</td>\n      <td>90</td>\n      <td>0</td>\n      <td>0</td>\n      <td>2000</td>\n      <td>...</td>\n      <td>0</td>\n      <td>1</td>\n      <td>0</td>\n      <td>0</td>\n      <td>0</td>\n      <td>0</td>\n      <td>0</td>\n      <td>0</td>\n      <td>0</td>\n      <td>0</td>\n    </tr>\n  </tbody>\n</table>\n<p>5 rows × 49 columns</p>\n</div>"
     },
     "execution_count": 63,
     "metadata": {},
     "output_type": "execute_result"
    }
   ],
   "source": [
    "# 더미 변수 만들기\n",
    "toyota_df = pd.get_dummies(toyota_df, columns = ['fuel_type', 'color'])\n",
    "toyota_df.head()"
   ],
   "metadata": {
    "collapsed": false,
    "pycharm": {
     "name": "#%%\n"
    }
   }
  },
  {
   "cell_type": "code",
   "execution_count": 64,
   "outputs": [
    {
     "name": "stdout",
     "output_type": "stream",
     "text": [
      "trainData :  (718, 49)\n",
      "validData :  (431, 49)\n",
      "testData :  (287, 49)\n"
     ]
    }
   ],
   "source": [
    "# 학습/검증/시험 데이터 분할 5:3:2\n",
    "from sklearn.model_selection import train_test_split\n",
    "trainData, temp = train_test_split(toyota_df, test_size = 0.5, random_state = 1)\n",
    "validData = toyota_df.drop(trainData.index).sample(frac = 0.6, random_state = 1)\n",
    "testData = toyota_df.drop(trainData.index).drop(validData.index)\n",
    "\n",
    "print('trainData : ', trainData.shape)\n",
    "print('validData : ', validData.shape)\n",
    "print('testData : ', testData.shape)"
   ],
   "metadata": {
    "collapsed": false,
    "pycharm": {
     "name": "#%%\n"
    }
   }
  },
  {
   "cell_type": "markdown",
   "source": [
    "* 학습 데이터 : 모델 구축 시 사용하는 데이터\n",
    "* 검증 데이터 : 모델 구축 후 검증을 위해 사용하는 데이터\n",
    "* 평가 데이터 : 모델 구축 후 새로운 데이터에 대한 성능을 평가하는 데이터"
   ],
   "metadata": {
    "collapsed": false,
    "pycharm": {
     "name": "#%% md\n"
    }
   }
  },
  {
   "cell_type": "code",
   "execution_count": 66,
   "outputs": [],
   "source": [
    "# 학습 데이터 준비\n",
    "X_train = trainData.drop(['model', 'price'], axis=1)\n",
    "y_train = trainData['price']"
   ],
   "metadata": {
    "collapsed": false,
    "pycharm": {
     "name": "#%%\n"
    }
   }
  },
  {
   "cell_type": "code",
   "execution_count": 70,
   "outputs": [
    {
     "data": {
      "text/plain": "LinearRegression()",
      "text/html": "<style>#sk-container-id-2 {color: black;background-color: white;}#sk-container-id-2 pre{padding: 0;}#sk-container-id-2 div.sk-toggleable {background-color: white;}#sk-container-id-2 label.sk-toggleable__label {cursor: pointer;display: block;width: 100%;margin-bottom: 0;padding: 0.3em;box-sizing: border-box;text-align: center;}#sk-container-id-2 label.sk-toggleable__label-arrow:before {content: \"▸\";float: left;margin-right: 0.25em;color: #696969;}#sk-container-id-2 label.sk-toggleable__label-arrow:hover:before {color: black;}#sk-container-id-2 div.sk-estimator:hover label.sk-toggleable__label-arrow:before {color: black;}#sk-container-id-2 div.sk-toggleable__content {max-height: 0;max-width: 0;overflow: hidden;text-align: left;background-color: #f0f8ff;}#sk-container-id-2 div.sk-toggleable__content pre {margin: 0.2em;color: black;border-radius: 0.25em;background-color: #f0f8ff;}#sk-container-id-2 input.sk-toggleable__control:checked~div.sk-toggleable__content {max-height: 200px;max-width: 100%;overflow: auto;}#sk-container-id-2 input.sk-toggleable__control:checked~label.sk-toggleable__label-arrow:before {content: \"▾\";}#sk-container-id-2 div.sk-estimator input.sk-toggleable__control:checked~label.sk-toggleable__label {background-color: #d4ebff;}#sk-container-id-2 div.sk-label input.sk-toggleable__control:checked~label.sk-toggleable__label {background-color: #d4ebff;}#sk-container-id-2 input.sk-hidden--visually {border: 0;clip: rect(1px 1px 1px 1px);clip: rect(1px, 1px, 1px, 1px);height: 1px;margin: -1px;overflow: hidden;padding: 0;position: absolute;width: 1px;}#sk-container-id-2 div.sk-estimator {font-family: monospace;background-color: #f0f8ff;border: 1px dotted black;border-radius: 0.25em;box-sizing: border-box;margin-bottom: 0.5em;}#sk-container-id-2 div.sk-estimator:hover {background-color: #d4ebff;}#sk-container-id-2 div.sk-parallel-item::after {content: \"\";width: 100%;border-bottom: 1px solid gray;flex-grow: 1;}#sk-container-id-2 div.sk-label:hover label.sk-toggleable__label {background-color: #d4ebff;}#sk-container-id-2 div.sk-serial::before {content: \"\";position: absolute;border-left: 1px solid gray;box-sizing: border-box;top: 0;bottom: 0;left: 50%;z-index: 0;}#sk-container-id-2 div.sk-serial {display: flex;flex-direction: column;align-items: center;background-color: white;padding-right: 0.2em;padding-left: 0.2em;position: relative;}#sk-container-id-2 div.sk-item {position: relative;z-index: 1;}#sk-container-id-2 div.sk-parallel {display: flex;align-items: stretch;justify-content: center;background-color: white;position: relative;}#sk-container-id-2 div.sk-item::before, #sk-container-id-2 div.sk-parallel-item::before {content: \"\";position: absolute;border-left: 1px solid gray;box-sizing: border-box;top: 0;bottom: 0;left: 50%;z-index: -1;}#sk-container-id-2 div.sk-parallel-item {display: flex;flex-direction: column;z-index: 1;position: relative;background-color: white;}#sk-container-id-2 div.sk-parallel-item:first-child::after {align-self: flex-end;width: 50%;}#sk-container-id-2 div.sk-parallel-item:last-child::after {align-self: flex-start;width: 50%;}#sk-container-id-2 div.sk-parallel-item:only-child::after {width: 0;}#sk-container-id-2 div.sk-dashed-wrapped {border: 1px dashed gray;margin: 0 0.4em 0.5em 0.4em;box-sizing: border-box;padding-bottom: 0.4em;background-color: white;}#sk-container-id-2 div.sk-label label {font-family: monospace;font-weight: bold;display: inline-block;line-height: 1.2em;}#sk-container-id-2 div.sk-label-container {text-align: center;}#sk-container-id-2 div.sk-container {/* jupyter's `normalize.less` sets `[hidden] { display: none; }` but bootstrap.min.css set `[hidden] { display: none !important; }` so we also need the `!important` here to be able to override the default hidden behavior on the sphinx rendered scikit-learn.org. See: https://github.com/scikit-learn/scikit-learn/issues/21755 */display: inline-block !important;position: relative;}#sk-container-id-2 div.sk-text-repr-fallback {display: none;}</style><div id=\"sk-container-id-2\" class=\"sk-top-container\"><div class=\"sk-text-repr-fallback\"><pre>LinearRegression()</pre><b>In a Jupyter environment, please rerun this cell to show the HTML representation or trust the notebook. <br />On GitHub, the HTML representation is unable to render, please try loading this page with nbviewer.org.</b></div><div class=\"sk-container\" hidden><div class=\"sk-item\"><div class=\"sk-estimator sk-toggleable\"><input class=\"sk-toggleable__control sk-hidden--visually\" id=\"sk-estimator-id-2\" type=\"checkbox\" checked><label for=\"sk-estimator-id-2\" class=\"sk-toggleable__label sk-toggleable__label-arrow\">LinearRegression</label><div class=\"sk-toggleable__content\"><pre>LinearRegression()</pre></div></div></div></div></div>"
     },
     "execution_count": 70,
     "metadata": {},
     "output_type": "execute_result"
    }
   ],
   "source": [
    "# 모델 학습\n",
    "from sklearn.linear_model import LinearRegression\n",
    "model = LinearRegression()\n",
    "model.fit(X_train, y_train)"
   ],
   "metadata": {
    "collapsed": false,
    "pycharm": {
     "name": "#%%\n"
    }
   }
  },
  {
   "cell_type": "code",
   "execution_count": 71,
   "outputs": [
    {
     "name": "stdout",
     "output_type": "stream",
     "text": [
      "Validation Score: 0.8988025106893486\n"
     ]
    }
   ],
   "source": [
    "# 검증 데이터 준비\n",
    "X_val = validData.drop(['model', 'price'], axis=1)\n",
    "y_val = validData['price']\n",
    "\n",
    "# 검증 데이터로 성능 평가\n",
    "score = model.score(X_val, y_val)\n",
    "print('Validation Score:', score)"
   ],
   "metadata": {
    "collapsed": false,
    "pycharm": {
     "name": "#%%\n"
    }
   }
  },
  {
   "cell_type": "code",
   "execution_count": 74,
   "outputs": [
    {
     "name": "stdout",
     "output_type": "stream",
     "text": [
      "Test Score: -0.5587031760034362\n"
     ]
    }
   ],
   "source": [
    "# 테스트 데이터 준비\n",
    "X_test = testData.drop(['model', 'price'], axis=1)\n",
    "y_test =testData['price']\n",
    "\n",
    "# 테스트 데이터로 성능 평가\n",
    "score = model.score(X_test, y_test)\n",
    "print('Test Score:', score)"
   ],
   "metadata": {
    "collapsed": false,
    "pycharm": {
     "name": "#%%\n"
    }
   }
  },
  {
   "cell_type": "markdown",
   "source": [],
   "metadata": {
    "collapsed": false,
    "pycharm": {
     "name": "#%% md\n"
    }
   }
  }
 ],
 "metadata": {
  "kernelspec": {
   "display_name": "Python 3",
   "language": "python",
   "name": "python3"
  },
  "language_info": {
   "codemirror_mode": {
    "name": "ipython",
    "version": 2
   },
   "file_extension": ".py",
   "mimetype": "text/x-python",
   "name": "python",
   "nbconvert_exporter": "python",
   "pygments_lexer": "ipython2",
   "version": "2.7.6"
  }
 },
 "nbformat": 4,
 "nbformat_minor": 0
}